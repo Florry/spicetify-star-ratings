{
 "cells": [
  {
   "cell_type": "markdown",
   "metadata": {},
   "source": [
    "# Analysis\n"
   ]
  },
  {
   "cell_type": "markdown",
   "metadata": {},
   "source": [
    "## input data\n"
   ]
  },
  {
   "cell_type": "code",
   "execution_count": 1,
   "metadata": {},
   "outputs": [],
   "source": [
    "from auth import sp\n",
    "\n",
    "def get_all_user_playlists():\n",
    "    playlists = []\n",
    "    results = sp.current_user_playlists(limit=50)\n",
    "    playlists.extend(results['items'])\n",
    "\n",
    "    while results['next']:\n",
    "        results = sp.next(results)\n",
    "        playlists.extend(results['items'])\n",
    "\n",
    "    return playlists\n",
    "\n",
    "# Function to handle fetching audio analysis\n",
    "def get_audio_analysis(track_id):\n",
    "    try:\n",
    "        analysis = sp.audio_analysis(track_id)\n",
    "        \n",
    "        # Flatten each section with list comprehension and take the first element if available\n",
    "        bars_info = {f'bar_{k}': v for k, v in analysis['bars'][0].items()} if analysis['bars'] else {}\n",
    "        beats_info = {f'beat_{k}': v for k, v in analysis['beats'][0].items()} if analysis['beats'] else {}\n",
    "        sections_info = {f'section_{k}': v for k, v in analysis['sections'][0].items()} if analysis['sections'] else {}\n",
    "        segments_info = {f'segment_{k}': v for k, v in analysis['segments'][0].items()} if analysis['segments'] else {}\n",
    "        tatums_info = {f'tatum_{k}': v for k, v in analysis['tatums'][0].items()} if analysis['tatums'] else {}\n",
    "\n",
    "        # Combine all the flattened sections into a single dictionary\n",
    "        audio_analysis_info = {**bars_info, **beats_info, **sections_info, **segments_info, **tatums_info}\n",
    "        \n",
    "        return audio_analysis_info\n",
    "    except Exception as e:\n",
    "        print(f\"Error fetching audio analysis for track ID {track_id}: {e}\")\n",
    "        return {}\n",
    "    \n",
    "def chunks(lst, n):\n",
    "    \"\"\"Yield successive n-sized chunks from lst.\"\"\"\n",
    "    for i in range(0, len(lst), n):\n",
    "        yield lst[i:i + n]"
   ]
  },
  {
   "cell_type": "code",
   "execution_count": 5,
   "metadata": {},
   "outputs": [
    {
     "name": "stdout",
     "output_type": "stream",
     "text": [
      "Error reading existing tracks from CSV.\n",
      "Fetching tracks from '1.0' by Bill\n",
      "Fetching tracks from '1.5' by Bill\n",
      "Fetching tracks from '5.0' by Bill\n",
      "Fetching tracks from '2.5' by Bill\n",
      "Fetching tracks from '2.0' by Bill\n",
      "Fetching tracks from '0.5' by Bill\n",
      "Fetching tracks from '3.0' by Bill\n",
      "Fetching tracks from '4.5' by Bill\n",
      "Fetching tracks from '4.0' by Bill\n",
      "Fetching tracks from '3.5' by Bill\n",
      "280 / 280 tracks fetched\n",
      "Saving tracks to CSV...\n",
      "Done. Total number of rated songs: 308\n"
     ]
    }
   ],
   "source": [
    "import pandas as pd\n",
    "from utils import fetch_all_playlist_tracks\n",
    "\n",
    "# Get user's playlists\n",
    "playlists = get_all_user_playlists()\n",
    "total_playlists = len(playlists)\n",
    "\n",
    "try:\n",
    "    existing_tracks_df = pd.read_csv('rated.csv')\n",
    "    existing_track_ids = existing_tracks_df['id'].tolist()\n",
    "except FileNotFoundError:\n",
    "    existing_tracks_df = pd.DataFrame()\n",
    "    existing_track_ids = []\n",
    "except:\n",
    "    print('Error reading existing tracks from CSV.')\n",
    "    existing_tracks_df = pd.DataFrame()\n",
    "    existing_track_ids = []\n",
    "    \n",
    "# Get the tracks from the playlists in the \"Rated\" folder\n",
    "tracks = []\n",
    "for i, playlist in enumerate(playlists):\n",
    "    if playlist['name'] in [\"0.5\", \"1.0\", \"1.5\", \"2.0\", \"2.5\", \"3.0\", \"3.5\", \"4.0\", \"4.5\", \"5.0\"]:\n",
    "        playlist_id = playlist['id']\n",
    "        playlist_tracks = fetch_all_playlist_tracks(playlist_id)\n",
    "        track_ids = [item['track']['id'] for item in playlist_tracks]\n",
    "        \n",
    "        artist_ids = [[artist['id'] for artist in track['track']['artists']] for track in playlist_tracks]\n",
    "        \n",
    "        # Get audio features for each track\n",
    "        num_tracks_to_fetch = 100  # Maximum number of tracks to fetch at once\n",
    "        for j in range(0, len(track_ids), num_tracks_to_fetch):\n",
    "            if track_ids[j] in existing_track_ids:\n",
    "                audio_features_list = [track for track in existing_tracks_df.to_dict(orient='records') if track['id'] in track_ids[j:j+num_tracks_to_fetch]]\n",
    "            else:\n",
    "                audio_features_list = sp.audio_features(track_ids[j:j+num_tracks_to_fetch])\n",
    "        \n",
    "        # Fetch artist genres in chunks of 50\n",
    "        genres_list = []\n",
    "        for artist_chunk in chunks(artist_ids, 50):\n",
    "            for c in artist_chunk:\n",
    "                artists_info = sp.artists(c)\n",
    "                genres_list.extend([artist['genres'] for artist in artists_info['artists']])\n",
    "        \n",
    "        \n",
    "        for track, audio_features, genres in zip(playlist_tracks[j:j+num_tracks_to_fetch], audio_features_list, genres_list):\n",
    "            track = track['track']\n",
    "            track_id = track['id']\n",
    "            \n",
    "            audio_analysis = get_audio_analysis(track_id)\n",
    "            \n",
    "            # Merge track, its audio features, analysis, and genres\n",
    "            track.update(audio_features)\n",
    "            track.update(audio_analysis)\n",
    "            track['genres'] = genres\n",
    "        \n",
    "            # Add rating to track\n",
    "            track['rating'] = float(playlist['name'])  # Convert the playlist name to float and use it as the rating\n",
    "            \n",
    "            \n",
    "            \n",
    "            tracks.append(track)\n",
    "    \n",
    "df = pd.DataFrame(tracks)\n",
    "\n",
    "# Add new columns for artist ID and genres\n",
    "df['artist_id'] = df['artists'].apply(lambda x: x[0]['id'])\n",
    "df['genres'] = df.apply(lambda x: ', '.join(x['genres']), axis=1)\n",
    "\n",
    "# Select columns to keep\n",
    "columns_to_keep = [\n",
    "    # \"album\",\n",
    "    \"id\",\n",
    "    \"artist_id\",\n",
    "    \"genres\",\n",
    "    \"duration_ms\",\n",
    "    \"explicit\",\n",
    "    \"popularity\",\n",
    "    \"danceability\",\n",
    "    \"energy\",\n",
    "    \"key\",\n",
    "    \"loudness\",\n",
    "    \"mode\",\n",
    "    \"speechiness\",\n",
    "    \"acousticness\",\n",
    "    \"instrumentalness\",\n",
    "    \"liveness\",\n",
    "    \"valence\",\n",
    "    \"tempo\",\n",
    "    \"time_signature\",\n",
    "    \"rating\",\n",
    "]\n",
    "df = df[columns_to_keep]\n",
    "\n",
    "# save tracks to csv\n",
    "print('\\nSaving tracks to CSV...')\n",
    "\n",
    "# try then wait for user input if can't in order for the user to close the file if it's open\n",
    "try:\n",
    "    df.to_csv('rated.csv', index=False)\n",
    "except PermissionError:\n",
    "    input('Please close the file \"rated.csv\" then press enter to continue...')\n",
    "    df.to_csv('rated.csv', index=False)\n",
    "\n",
    "print(f'Done. Total number of rated songs: {len(tracks)}')\n"
   ]
  },
  {
   "cell_type": "markdown",
   "metadata": {},
   "source": [
    "## output data\n"
   ]
  },
  {
   "cell_type": "code",
   "execution_count": 6,
   "metadata": {},
   "outputs": [
    {
     "data": {
      "text/html": [
       "<div>\n",
       "<style scoped>\n",
       "    .dataframe tbody tr th:only-of-type {\n",
       "        vertical-align: middle;\n",
       "    }\n",
       "\n",
       "    .dataframe tbody tr th {\n",
       "        vertical-align: top;\n",
       "    }\n",
       "\n",
       "    .dataframe thead th {\n",
       "        text-align: right;\n",
       "    }\n",
       "</style>\n",
       "<table border=\"1\" class=\"dataframe\">\n",
       "  <thead>\n",
       "    <tr style=\"text-align: right;\">\n",
       "      <th></th>\n",
       "      <th>id</th>\n",
       "      <th>duration_ms</th>\n",
       "      <th>explicit</th>\n",
       "      <th>popularity</th>\n",
       "      <th>danceability</th>\n",
       "      <th>energy</th>\n",
       "      <th>key</th>\n",
       "      <th>loudness</th>\n",
       "      <th>mode</th>\n",
       "      <th>speechiness</th>\n",
       "      <th>...</th>\n",
       "      <th>7M1FPw29m5FbicYzS2xdpi</th>\n",
       "      <th>7cYEt1pqMgXJdq00hAwVpT</th>\n",
       "      <th>7f5Zgnp2spUuuzKplmRkt7</th>\n",
       "      <th>7gW0r5CkdEUMm42w9XpyZO</th>\n",
       "      <th>7ggrY9cEKx1pnl2lkqx4gu</th>\n",
       "      <th>7kHzfxMLtVHHb523s43rY1</th>\n",
       "      <th>7oht1HPKaMDnuALYWZHgtV</th>\n",
       "      <th>7t0rwkOPGlDPEhaOcVtOt9</th>\n",
       "      <th>7w29UYBi0qsHi5RTcv3lmA</th>\n",
       "      <th>7xkAwz0bQTGDSbkofyQt3U</th>\n",
       "    </tr>\n",
       "  </thead>\n",
       "  <tbody>\n",
       "    <tr>\n",
       "      <th>151</th>\n",
       "      <td>0gEyKnHvgkrkBM6fbeHdwK</td>\n",
       "      <td>0.408196</td>\n",
       "      <td>0</td>\n",
       "      <td>0.929412</td>\n",
       "      <td>0.397355</td>\n",
       "      <td>0.430205</td>\n",
       "      <td>0.636364</td>\n",
       "      <td>0.624943</td>\n",
       "      <td>1</td>\n",
       "      <td>0.0265</td>\n",
       "      <td>...</td>\n",
       "      <td>0</td>\n",
       "      <td>0</td>\n",
       "      <td>0</td>\n",
       "      <td>0</td>\n",
       "      <td>0</td>\n",
       "      <td>0</td>\n",
       "      <td>0</td>\n",
       "      <td>1</td>\n",
       "      <td>0</td>\n",
       "      <td>0</td>\n",
       "    </tr>\n",
       "    <tr>\n",
       "      <th>27</th>\n",
       "      <td>0lWjRSzq5chA9fps3pM8Zr</td>\n",
       "      <td>0.281436</td>\n",
       "      <td>1</td>\n",
       "      <td>0.694118</td>\n",
       "      <td>0.378953</td>\n",
       "      <td>0.643623</td>\n",
       "      <td>0.545455</td>\n",
       "      <td>0.843066</td>\n",
       "      <td>1</td>\n",
       "      <td>0.2870</td>\n",
       "      <td>...</td>\n",
       "      <td>0</td>\n",
       "      <td>0</td>\n",
       "      <td>0</td>\n",
       "      <td>0</td>\n",
       "      <td>0</td>\n",
       "      <td>0</td>\n",
       "      <td>0</td>\n",
       "      <td>0</td>\n",
       "      <td>0</td>\n",
       "      <td>0</td>\n",
       "    </tr>\n",
       "    <tr>\n",
       "      <th>87</th>\n",
       "      <td>0JIMT9gzLIIz0esKLyjbKf</td>\n",
       "      <td>0.280874</td>\n",
       "      <td>0</td>\n",
       "      <td>0.882353</td>\n",
       "      <td>0.497412</td>\n",
       "      <td>0.443480</td>\n",
       "      <td>0.181818</td>\n",
       "      <td>0.785893</td>\n",
       "      <td>1</td>\n",
       "      <td>0.0274</td>\n",
       "      <td>...</td>\n",
       "      <td>0</td>\n",
       "      <td>0</td>\n",
       "      <td>0</td>\n",
       "      <td>0</td>\n",
       "      <td>0</td>\n",
       "      <td>0</td>\n",
       "      <td>0</td>\n",
       "      <td>0</td>\n",
       "      <td>0</td>\n",
       "      <td>0</td>\n",
       "    </tr>\n",
       "    <tr>\n",
       "      <th>157</th>\n",
       "      <td>3zZyFcJZ84mjQWLNrtMr2Z</td>\n",
       "      <td>0.207396</td>\n",
       "      <td>0</td>\n",
       "      <td>0.000000</td>\n",
       "      <td>0.505463</td>\n",
       "      <td>0.400592</td>\n",
       "      <td>0.636364</td>\n",
       "      <td>0.649727</td>\n",
       "      <td>1</td>\n",
       "      <td>0.0377</td>\n",
       "      <td>...</td>\n",
       "      <td>0</td>\n",
       "      <td>0</td>\n",
       "      <td>0</td>\n",
       "      <td>0</td>\n",
       "      <td>0</td>\n",
       "      <td>0</td>\n",
       "      <td>0</td>\n",
       "      <td>0</td>\n",
       "      <td>0</td>\n",
       "      <td>0</td>\n",
       "    </tr>\n",
       "    <tr>\n",
       "      <th>70</th>\n",
       "      <td>0hOA8SoraNo2ZP1amtVYnY</td>\n",
       "      <td>0.303979</td>\n",
       "      <td>0</td>\n",
       "      <td>0.647059</td>\n",
       "      <td>0.707878</td>\n",
       "      <td>0.700807</td>\n",
       "      <td>0.909091</td>\n",
       "      <td>0.710774</td>\n",
       "      <td>0</td>\n",
       "      <td>0.0466</td>\n",
       "      <td>...</td>\n",
       "      <td>0</td>\n",
       "      <td>0</td>\n",
       "      <td>0</td>\n",
       "      <td>0</td>\n",
       "      <td>0</td>\n",
       "      <td>0</td>\n",
       "      <td>0</td>\n",
       "      <td>0</td>\n",
       "      <td>0</td>\n",
       "      <td>0</td>\n",
       "    </tr>\n",
       "  </tbody>\n",
       "</table>\n",
       "<p>5 rows × 504 columns</p>\n",
       "</div>"
      ],
      "text/plain": [
       "                         id  duration_ms  explicit  popularity  danceability  \\\n",
       "151  0gEyKnHvgkrkBM6fbeHdwK     0.408196         0    0.929412      0.397355   \n",
       "27   0lWjRSzq5chA9fps3pM8Zr     0.281436         1    0.694118      0.378953   \n",
       "87   0JIMT9gzLIIz0esKLyjbKf     0.280874         0    0.882353      0.497412   \n",
       "157  3zZyFcJZ84mjQWLNrtMr2Z     0.207396         0    0.000000      0.505463   \n",
       "70   0hOA8SoraNo2ZP1amtVYnY     0.303979         0    0.647059      0.707878   \n",
       "\n",
       "       energy       key  loudness  mode  speechiness  ...  \\\n",
       "151  0.430205  0.636364  0.624943     1       0.0265  ...   \n",
       "27   0.643623  0.545455  0.843066     1       0.2870  ...   \n",
       "87   0.443480  0.181818  0.785893     1       0.0274  ...   \n",
       "157  0.400592  0.636364  0.649727     1       0.0377  ...   \n",
       "70   0.700807  0.909091  0.710774     0       0.0466  ...   \n",
       "\n",
       "     7M1FPw29m5FbicYzS2xdpi  7cYEt1pqMgXJdq00hAwVpT  7f5Zgnp2spUuuzKplmRkt7  \\\n",
       "151                       0                       0                       0   \n",
       "27                        0                       0                       0   \n",
       "87                        0                       0                       0   \n",
       "157                       0                       0                       0   \n",
       "70                        0                       0                       0   \n",
       "\n",
       "     7gW0r5CkdEUMm42w9XpyZO  7ggrY9cEKx1pnl2lkqx4gu  7kHzfxMLtVHHb523s43rY1  \\\n",
       "151                       0                       0                       0   \n",
       "27                        0                       0                       0   \n",
       "87                        0                       0                       0   \n",
       "157                       0                       0                       0   \n",
       "70                        0                       0                       0   \n",
       "\n",
       "     7oht1HPKaMDnuALYWZHgtV  7t0rwkOPGlDPEhaOcVtOt9  7w29UYBi0qsHi5RTcv3lmA  \\\n",
       "151                       0                       1                       0   \n",
       "27                        0                       0                       0   \n",
       "87                        0                       0                       0   \n",
       "157                       0                       0                       0   \n",
       "70                        0                       0                       0   \n",
       "\n",
       "     7xkAwz0bQTGDSbkofyQt3U  \n",
       "151                       0  \n",
       "27                        0  \n",
       "87                        0  \n",
       "157                       0  \n",
       "70                        0  \n",
       "\n",
       "[5 rows x 504 columns]"
      ]
     },
     "execution_count": 6,
     "metadata": {},
     "output_type": "execute_result"
    }
   ],
   "source": [
    "import pandas as pd\n",
    "from sklearn.model_selection import train_test_split\n",
    "from sklearn.ensemble import RandomForestRegressor\n",
    "from sklearn.metrics import mean_squared_error, mean_absolute_error, r2_score\n",
    "\n",
    "# Load data\n",
    "try:\n",
    "    tracks_df = pd.read_csv('rated.csv')\n",
    "except FileNotFoundError:\n",
    "    print(\"Error: 'rated.csv' not found.\")\n",
    "    exit()\n",
    "\n",
    "# Preprocess data\n",
    "tracks_df = tracks_df.sample(frac=1).reset_index(drop=True)  # Shuffle the data\n",
    "tracks_df.dropna(inplace=True)  # Drop rows with missing values\n",
    "\n",
    "# Split the categorical data into separate rows\n",
    "genres_df = tracks_df['genres'].str.get_dummies(sep=', ')\n",
    "artists_df = tracks_df['artist_id'].str.get_dummies()\n",
    "\n",
    "# Drop the original 'genres' and 'artist_id' column and concatenate the one-hot encoded dataframe\n",
    "tracks_df = pd.concat([tracks_df.drop('genres', axis=1), genres_df], axis=1)\n",
    "tracks_df = pd.concat([tracks_df.drop('artist_id', axis=1), artists_df], axis=1)\n",
    "\n",
    "# Normalize numeric columns\n",
    "numeric_columns = ['duration_ms', 'popularity', 'danceability', 'energy', 'loudness', 'tempo', 'time_signature', 'key']  # Specify your numeric columns\n",
    "tracks_df[numeric_columns] = (tracks_df[numeric_columns] - tracks_df[numeric_columns].min()) / (tracks_df[numeric_columns].max() - tracks_df[numeric_columns].min())\n",
    "\n",
    "# Convert boolean columns to int\n",
    "boolean_columns = [column for column in tracks_df.columns if tracks_df[column].dtype == 'bool']\n",
    "tracks_df[boolean_columns] = tracks_df[boolean_columns].astype(int)\n",
    "\n",
    "# Define your target variable\n",
    "target_column = 'rating'  # Replace this with the column that represents the rating of a track\n",
    "\n",
    "# Split data into features (X) and target variable (y)\n",
    "X = tracks_df.drop(target_column, axis=1)\n",
    "y = tracks_df[target_column]\n",
    "\n",
    "# Split data into training and test sets\n",
    "X_train, X_test, y_train, y_test = train_test_split(X, y, test_size=0.2, random_state=42)\n",
    "X_train.head()\n"
   ]
  },
  {
   "cell_type": "code",
   "execution_count": 7,
   "metadata": {},
   "outputs": [
    {
     "ename": "ValueError",
     "evalue": "could not convert string to float: '0rmGAIH9LNJewFw7nKzZnc'",
     "output_type": "error",
     "traceback": [
      "\u001b[1;31m---------------------------------------------------------------------------\u001b[0m",
      "\u001b[1;31mValueError\u001b[0m                                Traceback (most recent call last)",
      "\u001b[1;32m~\\AppData\\Local\\Temp\\ipykernel_33232\\1466869714.py\u001b[0m in \u001b[0;36m?\u001b[1;34m()\u001b[0m\n\u001b[0;32m     29\u001b[0m     \u001b[0mX_train\u001b[0m\u001b[1;33m,\u001b[0m \u001b[0mX_test\u001b[0m \u001b[1;33m=\u001b[0m \u001b[0mX\u001b[0m\u001b[1;33m.\u001b[0m\u001b[0miloc\u001b[0m\u001b[1;33m[\u001b[0m\u001b[0mtrain_index\u001b[0m\u001b[1;33m]\u001b[0m\u001b[1;33m,\u001b[0m \u001b[0mX\u001b[0m\u001b[1;33m.\u001b[0m\u001b[0miloc\u001b[0m\u001b[1;33m[\u001b[0m\u001b[0mtest_index\u001b[0m\u001b[1;33m]\u001b[0m\u001b[1;33m\u001b[0m\u001b[1;33m\u001b[0m\u001b[0m\n\u001b[0;32m     30\u001b[0m     \u001b[0my_train\u001b[0m\u001b[1;33m,\u001b[0m \u001b[0my_test\u001b[0m \u001b[1;33m=\u001b[0m \u001b[0my\u001b[0m\u001b[1;33m.\u001b[0m\u001b[0miloc\u001b[0m\u001b[1;33m[\u001b[0m\u001b[0mtrain_index\u001b[0m\u001b[1;33m]\u001b[0m\u001b[1;33m,\u001b[0m \u001b[0my\u001b[0m\u001b[1;33m.\u001b[0m\u001b[0miloc\u001b[0m\u001b[1;33m[\u001b[0m\u001b[0mtest_index\u001b[0m\u001b[1;33m]\u001b[0m\u001b[1;33m\u001b[0m\u001b[1;33m\u001b[0m\u001b[0m\n\u001b[0;32m     31\u001b[0m \u001b[1;33m\u001b[0m\u001b[0m\n\u001b[0;32m     32\u001b[0m     \u001b[1;31m# Train the model\u001b[0m\u001b[1;33m\u001b[0m\u001b[1;33m\u001b[0m\u001b[0m\n\u001b[1;32m---> 33\u001b[1;33m     \u001b[0mrf\u001b[0m\u001b[1;33m.\u001b[0m\u001b[0mfit\u001b[0m\u001b[1;33m(\u001b[0m\u001b[0mX_train\u001b[0m\u001b[1;33m,\u001b[0m \u001b[0my_train\u001b[0m\u001b[1;33m)\u001b[0m\u001b[1;33m\u001b[0m\u001b[1;33m\u001b[0m\u001b[0m\n\u001b[0m\u001b[0;32m     34\u001b[0m \u001b[1;33m\u001b[0m\u001b[0m\n\u001b[0;32m     35\u001b[0m     \u001b[1;31m# Make predictions\u001b[0m\u001b[1;33m\u001b[0m\u001b[1;33m\u001b[0m\u001b[0m\n\u001b[0;32m     36\u001b[0m     \u001b[0mpredictions\u001b[0m \u001b[1;33m=\u001b[0m \u001b[0mrf\u001b[0m\u001b[1;33m.\u001b[0m\u001b[0mpredict\u001b[0m\u001b[1;33m(\u001b[0m\u001b[0mX_test\u001b[0m\u001b[1;33m)\u001b[0m\u001b[1;33m\u001b[0m\u001b[1;33m\u001b[0m\u001b[0m\n",
      "\u001b[1;32mc:\\Users\\Bill\\AppData\\Local\\Programs\\Python\\Python311\\Lib\\site-packages\\sklearn\\base.py\u001b[0m in \u001b[0;36m?\u001b[1;34m(estimator, *args, **kwargs)\u001b[0m\n\u001b[0;32m   1147\u001b[0m                 skip_parameter_validation=(\n\u001b[0;32m   1148\u001b[0m                     \u001b[0mprefer_skip_nested_validation\u001b[0m \u001b[1;32mor\u001b[0m \u001b[0mglobal_skip_validation\u001b[0m\u001b[1;33m\u001b[0m\u001b[1;33m\u001b[0m\u001b[0m\n\u001b[0;32m   1149\u001b[0m                 )\n\u001b[0;32m   1150\u001b[0m             ):\n\u001b[1;32m-> 1151\u001b[1;33m                 \u001b[1;32mreturn\u001b[0m \u001b[0mfit_method\u001b[0m\u001b[1;33m(\u001b[0m\u001b[0mestimator\u001b[0m\u001b[1;33m,\u001b[0m \u001b[1;33m*\u001b[0m\u001b[0margs\u001b[0m\u001b[1;33m,\u001b[0m \u001b[1;33m**\u001b[0m\u001b[0mkwargs\u001b[0m\u001b[1;33m)\u001b[0m\u001b[1;33m\u001b[0m\u001b[1;33m\u001b[0m\u001b[0m\n\u001b[0m",
      "\u001b[1;32mc:\\Users\\Bill\\AppData\\Local\\Programs\\Python\\Python311\\Lib\\site-packages\\sklearn\\ensemble\\_forest.py\u001b[0m in \u001b[0;36m?\u001b[1;34m(self, X, y, sample_weight)\u001b[0m\n\u001b[0;32m    344\u001b[0m         \"\"\"\n\u001b[0;32m    345\u001b[0m         \u001b[1;31m# Validate or convert input data\u001b[0m\u001b[1;33m\u001b[0m\u001b[1;33m\u001b[0m\u001b[0m\n\u001b[0;32m    346\u001b[0m         \u001b[1;32mif\u001b[0m \u001b[0missparse\u001b[0m\u001b[1;33m(\u001b[0m\u001b[0my\u001b[0m\u001b[1;33m)\u001b[0m\u001b[1;33m:\u001b[0m\u001b[1;33m\u001b[0m\u001b[1;33m\u001b[0m\u001b[0m\n\u001b[0;32m    347\u001b[0m             \u001b[1;32mraise\u001b[0m \u001b[0mValueError\u001b[0m\u001b[1;33m(\u001b[0m\u001b[1;34m\"sparse multilabel-indicator for y is not supported.\"\u001b[0m\u001b[1;33m)\u001b[0m\u001b[1;33m\u001b[0m\u001b[1;33m\u001b[0m\u001b[0m\n\u001b[1;32m--> 348\u001b[1;33m         X, y = self._validate_data(\n\u001b[0m\u001b[0;32m    349\u001b[0m             \u001b[0mX\u001b[0m\u001b[1;33m,\u001b[0m \u001b[0my\u001b[0m\u001b[1;33m,\u001b[0m \u001b[0mmulti_output\u001b[0m\u001b[1;33m=\u001b[0m\u001b[1;32mTrue\u001b[0m\u001b[1;33m,\u001b[0m \u001b[0maccept_sparse\u001b[0m\u001b[1;33m=\u001b[0m\u001b[1;34m\"csc\"\u001b[0m\u001b[1;33m,\u001b[0m \u001b[0mdtype\u001b[0m\u001b[1;33m=\u001b[0m\u001b[0mDTYPE\u001b[0m\u001b[1;33m\u001b[0m\u001b[1;33m\u001b[0m\u001b[0m\n\u001b[0;32m    350\u001b[0m         )\n\u001b[0;32m    351\u001b[0m         \u001b[1;32mif\u001b[0m \u001b[0msample_weight\u001b[0m \u001b[1;32mis\u001b[0m \u001b[1;32mnot\u001b[0m \u001b[1;32mNone\u001b[0m\u001b[1;33m:\u001b[0m\u001b[1;33m\u001b[0m\u001b[1;33m\u001b[0m\u001b[0m\n",
      "\u001b[1;32mc:\\Users\\Bill\\AppData\\Local\\Programs\\Python\\Python311\\Lib\\site-packages\\sklearn\\base.py\u001b[0m in \u001b[0;36m?\u001b[1;34m(self, X, y, reset, validate_separately, cast_to_ndarray, **check_params)\u001b[0m\n\u001b[0;32m    617\u001b[0m                 \u001b[1;32mif\u001b[0m \u001b[1;34m\"estimator\"\u001b[0m \u001b[1;32mnot\u001b[0m \u001b[1;32min\u001b[0m \u001b[0mcheck_y_params\u001b[0m\u001b[1;33m:\u001b[0m\u001b[1;33m\u001b[0m\u001b[1;33m\u001b[0m\u001b[0m\n\u001b[0;32m    618\u001b[0m                     \u001b[0mcheck_y_params\u001b[0m \u001b[1;33m=\u001b[0m \u001b[1;33m{\u001b[0m\u001b[1;33m**\u001b[0m\u001b[0mdefault_check_params\u001b[0m\u001b[1;33m,\u001b[0m \u001b[1;33m**\u001b[0m\u001b[0mcheck_y_params\u001b[0m\u001b[1;33m}\u001b[0m\u001b[1;33m\u001b[0m\u001b[1;33m\u001b[0m\u001b[0m\n\u001b[0;32m    619\u001b[0m                 \u001b[0my\u001b[0m \u001b[1;33m=\u001b[0m \u001b[0mcheck_array\u001b[0m\u001b[1;33m(\u001b[0m\u001b[0my\u001b[0m\u001b[1;33m,\u001b[0m \u001b[0minput_name\u001b[0m\u001b[1;33m=\u001b[0m\u001b[1;34m\"y\"\u001b[0m\u001b[1;33m,\u001b[0m \u001b[1;33m**\u001b[0m\u001b[0mcheck_y_params\u001b[0m\u001b[1;33m)\u001b[0m\u001b[1;33m\u001b[0m\u001b[1;33m\u001b[0m\u001b[0m\n\u001b[0;32m    620\u001b[0m             \u001b[1;32melse\u001b[0m\u001b[1;33m:\u001b[0m\u001b[1;33m\u001b[0m\u001b[1;33m\u001b[0m\u001b[0m\n\u001b[1;32m--> 621\u001b[1;33m                 \u001b[0mX\u001b[0m\u001b[1;33m,\u001b[0m \u001b[0my\u001b[0m \u001b[1;33m=\u001b[0m \u001b[0mcheck_X_y\u001b[0m\u001b[1;33m(\u001b[0m\u001b[0mX\u001b[0m\u001b[1;33m,\u001b[0m \u001b[0my\u001b[0m\u001b[1;33m,\u001b[0m \u001b[1;33m**\u001b[0m\u001b[0mcheck_params\u001b[0m\u001b[1;33m)\u001b[0m\u001b[1;33m\u001b[0m\u001b[1;33m\u001b[0m\u001b[0m\n\u001b[0m\u001b[0;32m    622\u001b[0m             \u001b[0mout\u001b[0m \u001b[1;33m=\u001b[0m \u001b[0mX\u001b[0m\u001b[1;33m,\u001b[0m \u001b[0my\u001b[0m\u001b[1;33m\u001b[0m\u001b[1;33m\u001b[0m\u001b[0m\n\u001b[0;32m    623\u001b[0m \u001b[1;33m\u001b[0m\u001b[0m\n\u001b[0;32m    624\u001b[0m         \u001b[1;32mif\u001b[0m \u001b[1;32mnot\u001b[0m \u001b[0mno_val_X\u001b[0m \u001b[1;32mand\u001b[0m \u001b[0mcheck_params\u001b[0m\u001b[1;33m.\u001b[0m\u001b[0mget\u001b[0m\u001b[1;33m(\u001b[0m\u001b[1;34m\"ensure_2d\"\u001b[0m\u001b[1;33m,\u001b[0m \u001b[1;32mTrue\u001b[0m\u001b[1;33m)\u001b[0m\u001b[1;33m:\u001b[0m\u001b[1;33m\u001b[0m\u001b[1;33m\u001b[0m\u001b[0m\n",
      "\u001b[1;32mc:\\Users\\Bill\\AppData\\Local\\Programs\\Python\\Python311\\Lib\\site-packages\\sklearn\\utils\\validation.py\u001b[0m in \u001b[0;36m?\u001b[1;34m(X, y, accept_sparse, accept_large_sparse, dtype, order, copy, force_all_finite, ensure_2d, allow_nd, multi_output, ensure_min_samples, ensure_min_features, y_numeric, estimator)\u001b[0m\n\u001b[0;32m   1143\u001b[0m         raise ValueError(\n\u001b[0;32m   1144\u001b[0m             \u001b[1;34mf\"{estimator_name} requires y to be passed, but the target y is None\"\u001b[0m\u001b[1;33m\u001b[0m\u001b[1;33m\u001b[0m\u001b[0m\n\u001b[0;32m   1145\u001b[0m         )\n\u001b[0;32m   1146\u001b[0m \u001b[1;33m\u001b[0m\u001b[0m\n\u001b[1;32m-> 1147\u001b[1;33m     X = check_array(\n\u001b[0m\u001b[0;32m   1148\u001b[0m         \u001b[0mX\u001b[0m\u001b[1;33m,\u001b[0m\u001b[1;33m\u001b[0m\u001b[1;33m\u001b[0m\u001b[0m\n\u001b[0;32m   1149\u001b[0m         \u001b[0maccept_sparse\u001b[0m\u001b[1;33m=\u001b[0m\u001b[0maccept_sparse\u001b[0m\u001b[1;33m,\u001b[0m\u001b[1;33m\u001b[0m\u001b[1;33m\u001b[0m\u001b[0m\n\u001b[0;32m   1150\u001b[0m         \u001b[0maccept_large_sparse\u001b[0m\u001b[1;33m=\u001b[0m\u001b[0maccept_large_sparse\u001b[0m\u001b[1;33m,\u001b[0m\u001b[1;33m\u001b[0m\u001b[1;33m\u001b[0m\u001b[0m\n",
      "\u001b[1;32mc:\\Users\\Bill\\AppData\\Local\\Programs\\Python\\Python311\\Lib\\site-packages\\sklearn\\utils\\validation.py\u001b[0m in \u001b[0;36m?\u001b[1;34m(array, accept_sparse, accept_large_sparse, dtype, order, copy, force_all_finite, ensure_2d, allow_nd, ensure_min_samples, ensure_min_features, estimator, input_name)\u001b[0m\n\u001b[0;32m    914\u001b[0m                         )\n\u001b[0;32m    915\u001b[0m                     \u001b[0marray\u001b[0m \u001b[1;33m=\u001b[0m \u001b[0mxp\u001b[0m\u001b[1;33m.\u001b[0m\u001b[0mastype\u001b[0m\u001b[1;33m(\u001b[0m\u001b[0marray\u001b[0m\u001b[1;33m,\u001b[0m \u001b[0mdtype\u001b[0m\u001b[1;33m,\u001b[0m \u001b[0mcopy\u001b[0m\u001b[1;33m=\u001b[0m\u001b[1;32mFalse\u001b[0m\u001b[1;33m)\u001b[0m\u001b[1;33m\u001b[0m\u001b[1;33m\u001b[0m\u001b[0m\n\u001b[0;32m    916\u001b[0m                 \u001b[1;32melse\u001b[0m\u001b[1;33m:\u001b[0m\u001b[1;33m\u001b[0m\u001b[1;33m\u001b[0m\u001b[0m\n\u001b[0;32m    917\u001b[0m                     \u001b[0marray\u001b[0m \u001b[1;33m=\u001b[0m \u001b[0m_asarray_with_order\u001b[0m\u001b[1;33m(\u001b[0m\u001b[0marray\u001b[0m\u001b[1;33m,\u001b[0m \u001b[0morder\u001b[0m\u001b[1;33m=\u001b[0m\u001b[0morder\u001b[0m\u001b[1;33m,\u001b[0m \u001b[0mdtype\u001b[0m\u001b[1;33m=\u001b[0m\u001b[0mdtype\u001b[0m\u001b[1;33m,\u001b[0m \u001b[0mxp\u001b[0m\u001b[1;33m=\u001b[0m\u001b[0mxp\u001b[0m\u001b[1;33m)\u001b[0m\u001b[1;33m\u001b[0m\u001b[1;33m\u001b[0m\u001b[0m\n\u001b[1;32m--> 918\u001b[1;33m             \u001b[1;32mexcept\u001b[0m \u001b[0mComplexWarning\u001b[0m \u001b[1;32mas\u001b[0m \u001b[0mcomplex_warning\u001b[0m\u001b[1;33m:\u001b[0m\u001b[1;33m\u001b[0m\u001b[1;33m\u001b[0m\u001b[0m\n\u001b[0m\u001b[0;32m    919\u001b[0m                 raise ValueError(\n\u001b[0;32m    920\u001b[0m                     \u001b[1;34m\"Complex data not supported\\n{}\\n\"\u001b[0m\u001b[1;33m.\u001b[0m\u001b[0mformat\u001b[0m\u001b[1;33m(\u001b[0m\u001b[0marray\u001b[0m\u001b[1;33m)\u001b[0m\u001b[1;33m\u001b[0m\u001b[1;33m\u001b[0m\u001b[0m\n\u001b[0;32m    921\u001b[0m                 ) from complex_warning\n",
      "\u001b[1;32mc:\\Users\\Bill\\AppData\\Local\\Programs\\Python\\Python311\\Lib\\site-packages\\sklearn\\utils\\_array_api.py\u001b[0m in \u001b[0;36m?\u001b[1;34m(array, dtype, order, copy, xp)\u001b[0m\n\u001b[0;32m    376\u001b[0m         \u001b[1;31m# Use NumPy API to support order\u001b[0m\u001b[1;33m\u001b[0m\u001b[1;33m\u001b[0m\u001b[0m\n\u001b[0;32m    377\u001b[0m         \u001b[1;32mif\u001b[0m \u001b[0mcopy\u001b[0m \u001b[1;32mis\u001b[0m \u001b[1;32mTrue\u001b[0m\u001b[1;33m:\u001b[0m\u001b[1;33m\u001b[0m\u001b[1;33m\u001b[0m\u001b[0m\n\u001b[0;32m    378\u001b[0m             \u001b[0marray\u001b[0m \u001b[1;33m=\u001b[0m \u001b[0mnumpy\u001b[0m\u001b[1;33m.\u001b[0m\u001b[0marray\u001b[0m\u001b[1;33m(\u001b[0m\u001b[0marray\u001b[0m\u001b[1;33m,\u001b[0m \u001b[0morder\u001b[0m\u001b[1;33m=\u001b[0m\u001b[0morder\u001b[0m\u001b[1;33m,\u001b[0m \u001b[0mdtype\u001b[0m\u001b[1;33m=\u001b[0m\u001b[0mdtype\u001b[0m\u001b[1;33m)\u001b[0m\u001b[1;33m\u001b[0m\u001b[1;33m\u001b[0m\u001b[0m\n\u001b[0;32m    379\u001b[0m         \u001b[1;32melse\u001b[0m\u001b[1;33m:\u001b[0m\u001b[1;33m\u001b[0m\u001b[1;33m\u001b[0m\u001b[0m\n\u001b[1;32m--> 380\u001b[1;33m             \u001b[0marray\u001b[0m \u001b[1;33m=\u001b[0m \u001b[0mnumpy\u001b[0m\u001b[1;33m.\u001b[0m\u001b[0masarray\u001b[0m\u001b[1;33m(\u001b[0m\u001b[0marray\u001b[0m\u001b[1;33m,\u001b[0m \u001b[0morder\u001b[0m\u001b[1;33m=\u001b[0m\u001b[0morder\u001b[0m\u001b[1;33m,\u001b[0m \u001b[0mdtype\u001b[0m\u001b[1;33m=\u001b[0m\u001b[0mdtype\u001b[0m\u001b[1;33m)\u001b[0m\u001b[1;33m\u001b[0m\u001b[1;33m\u001b[0m\u001b[0m\n\u001b[0m\u001b[0;32m    381\u001b[0m \u001b[1;33m\u001b[0m\u001b[0m\n\u001b[0;32m    382\u001b[0m         \u001b[1;31m# At this point array is a NumPy ndarray. We convert it to an array\u001b[0m\u001b[1;33m\u001b[0m\u001b[1;33m\u001b[0m\u001b[0m\n\u001b[0;32m    383\u001b[0m         \u001b[1;31m# container that is consistent with the input's namespace.\u001b[0m\u001b[1;33m\u001b[0m\u001b[1;33m\u001b[0m\u001b[0m\n",
      "\u001b[1;32mc:\\Users\\Bill\\AppData\\Local\\Programs\\Python\\Python311\\Lib\\site-packages\\pandas\\core\\generic.py\u001b[0m in \u001b[0;36m?\u001b[1;34m(self, dtype)\u001b[0m\n\u001b[0;32m   1996\u001b[0m     \u001b[1;32mdef\u001b[0m \u001b[0m__array__\u001b[0m\u001b[1;33m(\u001b[0m\u001b[0mself\u001b[0m\u001b[1;33m,\u001b[0m \u001b[0mdtype\u001b[0m\u001b[1;33m:\u001b[0m \u001b[0mnpt\u001b[0m\u001b[1;33m.\u001b[0m\u001b[0mDTypeLike\u001b[0m \u001b[1;33m|\u001b[0m \u001b[1;32mNone\u001b[0m \u001b[1;33m=\u001b[0m \u001b[1;32mNone\u001b[0m\u001b[1;33m)\u001b[0m \u001b[1;33m->\u001b[0m \u001b[0mnp\u001b[0m\u001b[1;33m.\u001b[0m\u001b[0mndarray\u001b[0m\u001b[1;33m:\u001b[0m\u001b[1;33m\u001b[0m\u001b[1;33m\u001b[0m\u001b[0m\n\u001b[0;32m   1997\u001b[0m         \u001b[0mvalues\u001b[0m \u001b[1;33m=\u001b[0m \u001b[0mself\u001b[0m\u001b[1;33m.\u001b[0m\u001b[0m_values\u001b[0m\u001b[1;33m\u001b[0m\u001b[1;33m\u001b[0m\u001b[0m\n\u001b[1;32m-> 1998\u001b[1;33m         \u001b[0marr\u001b[0m \u001b[1;33m=\u001b[0m \u001b[0mnp\u001b[0m\u001b[1;33m.\u001b[0m\u001b[0masarray\u001b[0m\u001b[1;33m(\u001b[0m\u001b[0mvalues\u001b[0m\u001b[1;33m,\u001b[0m \u001b[0mdtype\u001b[0m\u001b[1;33m=\u001b[0m\u001b[0mdtype\u001b[0m\u001b[1;33m)\u001b[0m\u001b[1;33m\u001b[0m\u001b[1;33m\u001b[0m\u001b[0m\n\u001b[0m\u001b[0;32m   1999\u001b[0m         if (\n\u001b[0;32m   2000\u001b[0m             \u001b[0mastype_is_view\u001b[0m\u001b[1;33m(\u001b[0m\u001b[0mvalues\u001b[0m\u001b[1;33m.\u001b[0m\u001b[0mdtype\u001b[0m\u001b[1;33m,\u001b[0m \u001b[0marr\u001b[0m\u001b[1;33m.\u001b[0m\u001b[0mdtype\u001b[0m\u001b[1;33m)\u001b[0m\u001b[1;33m\u001b[0m\u001b[1;33m\u001b[0m\u001b[0m\n\u001b[0;32m   2001\u001b[0m             \u001b[1;32mand\u001b[0m \u001b[0musing_copy_on_write\u001b[0m\u001b[1;33m(\u001b[0m\u001b[1;33m)\u001b[0m\u001b[1;33m\u001b[0m\u001b[1;33m\u001b[0m\u001b[0m\n",
      "\u001b[1;31mValueError\u001b[0m: could not convert string to float: '0rmGAIH9LNJewFw7nKzZnc'"
     ]
    },
    {
     "ename": "",
     "evalue": "",
     "output_type": "error",
     "traceback": [
      "\u001b[1;31mThe Kernel crashed while executing code in the current cell or a previous cell. \n",
      "\u001b[1;31mPlease review the code in the cell(s) to identify a possible cause of the failure. \n",
      "\u001b[1;31mClick <a href='https://aka.ms/vscodeJupyterKernelCrash'>here</a> for more info. \n",
      "\u001b[1;31mView Jupyter <a href='command:jupyter.viewOutput'>log</a> for further details."
     ]
    }
   ],
   "source": [
    "from sklearn.ensemble import RandomForestRegressor\n",
    "from sklearn.model_selection import cross_val_score, KFold\n",
    "from sklearn.metrics import mean_absolute_error, mean_squared_error, r2_score\n",
    "import numpy as np\n",
    "\n",
    "# Assuming X and y are your features and target variables as Pandas DataFrames or Series\n",
    "\n",
    "# Define hyperparameters\n",
    "n_estimators = 1200\n",
    "max_depth = 50\n",
    "min_samples_split = 2\n",
    "min_samples_leaf = 2\n",
    "\n",
    "# Initialize the model with the given hyperparameters\n",
    "rf = RandomForestRegressor(n_estimators=n_estimators, max_depth=max_depth, min_samples_split=min_samples_split,  min_samples_leaf=min_samples_leaf, random_state=42)\n",
    "\n",
    "# Define a K-fold cross validator\n",
    "kf = KFold(n_splits=5, shuffle=True, random_state=42)\n",
    "\n",
    "# Define scores to collect\n",
    "scores = {\n",
    "    'MAE': [],\n",
    "    'MSE': [],\n",
    "    'R2': []\n",
    "}\n",
    "\n",
    "# Perform the k-fold cross validation\n",
    "for train_index, test_index in kf.split(X):\n",
    "    X_train, X_test = X.iloc[train_index], X.iloc[test_index]\n",
    "    y_train, y_test = y.iloc[train_index], y.iloc[test_index]\n",
    "    \n",
    "    # Train the model\n",
    "    rf.fit(X_train, y_train)\n",
    "    \n",
    "    # Make predictions\n",
    "    predictions = rf.predict(X_test)\n",
    "    \n",
    "    # Compute and append scores\n",
    "    scores['MAE'].append(mean_absolute_error(y_test, predictions))\n",
    "    scores['MSE'].append(mean_squared_error(y_test, predictions))\n",
    "    scores['R2'].append(r2_score(y_test, predictions))\n",
    "\n",
    "# Calculate the mean and standard deviation for each metric\n",
    "mean_scores = {metric: np.mean(scores[metric]) for metric in scores}\n",
    "std_scores = {metric: np.std(scores[metric]) for metric in scores}\n",
    "\n",
    "# Print the results\n",
    "for metric in mean_scores:\n",
    "    print(f\"{metric}: Mean={mean_scores[metric]}, STD={std_scores[metric]}\")\n"
   ]
  },
  {
   "cell_type": "code",
   "execution_count": null,
   "metadata": {},
   "outputs": [
    {
     "name": "stdout",
     "output_type": "stream",
     "text": [
      "Fitting 1 folds for each of 108 candidates, totalling 108 fits\n",
      "Best hyperparameters: {'max_depth': 50, 'min_samples_leaf': 2, 'min_samples_split': 2, 'n_estimators': 1200}\n"
     ]
    }
   ],
   "source": [
    "# from sklearn.ensemble import RandomForestRegressor\n",
    "# from sklearn.model_selection import GridSearchCV, ShuffleSplit\n",
    "# import numpy as np\n",
    "\n",
    "# # Assuming X and y are your features and target variables as Pandas DataFrames or Series\n",
    "\n",
    "# # Define the parameter grid\n",
    "# param_grid = {\n",
    "#     'n_estimators': [100, 500, 1200],\n",
    "#     'max_depth': [10, 25, 50, None],\n",
    "#     'min_samples_split': [2, 5, 10],\n",
    "#     'min_samples_leaf': [1, 2, 4],\n",
    "# }\n",
    "\n",
    "# # Initialize the model\n",
    "# rf = RandomForestRegressor(random_state=42)\n",
    "\n",
    "# # Define a cross-validator\n",
    "# cv = ShuffleSplit(n_splits=1, test_size=0.2, random_state=42)\n",
    "\n",
    "# # Initialize GridSearchCV\n",
    "# grid_search = GridSearchCV(estimator=rf, param_grid=param_grid, cv=cv, scoring='neg_mean_squared_error', n_jobs=-1, verbose=2)\n",
    "\n",
    "# # Fit GridSearchCV\n",
    "# grid_search.fit(X, y)\n",
    "\n",
    "# # Best hyperparameter combination\n",
    "# print(\"Best hyperparameters:\", grid_search.best_params_)\n",
    "\n",
    "# # Best model (retrained on the entire dataset using the best hyperparameters)\n",
    "# best_rf = grid_search.best_estimator_\n"
   ]
  },
  {
   "cell_type": "markdown",
   "metadata": {},
   "source": [
    "### analyse feature importance\n"
   ]
  },
  {
   "cell_type": "code",
   "execution_count": null,
   "metadata": {},
   "outputs": [
    {
     "data": {
      "text/html": [
       "<div>\n",
       "<style scoped>\n",
       "    .dataframe tbody tr th:only-of-type {\n",
       "        vertical-align: middle;\n",
       "    }\n",
       "\n",
       "    .dataframe tbody tr th {\n",
       "        vertical-align: top;\n",
       "    }\n",
       "\n",
       "    .dataframe thead th {\n",
       "        text-align: right;\n",
       "    }\n",
       "</style>\n",
       "<table border=\"1\" class=\"dataframe\">\n",
       "  <thead>\n",
       "    <tr style=\"text-align: right;\">\n",
       "      <th></th>\n",
       "      <th>Feature</th>\n",
       "      <th>Importance</th>\n",
       "    </tr>\n",
       "  </thead>\n",
       "  <tbody>\n",
       "    <tr>\n",
       "      <th>8</th>\n",
       "      <td>speechiness</td>\n",
       "      <td>0.117663</td>\n",
       "    </tr>\n",
       "    <tr>\n",
       "      <th>9</th>\n",
       "      <td>acousticness</td>\n",
       "      <td>0.099656</td>\n",
       "    </tr>\n",
       "    <tr>\n",
       "      <th>2</th>\n",
       "      <td>popularity</td>\n",
       "      <td>0.096914</td>\n",
       "    </tr>\n",
       "    <tr>\n",
       "      <th>3</th>\n",
       "      <td>danceability</td>\n",
       "      <td>0.076359</td>\n",
       "    </tr>\n",
       "    <tr>\n",
       "      <th>0</th>\n",
       "      <td>duration_ms</td>\n",
       "      <td>0.074352</td>\n",
       "    </tr>\n",
       "    <tr>\n",
       "      <th>4</th>\n",
       "      <td>energy</td>\n",
       "      <td>0.073346</td>\n",
       "    </tr>\n",
       "    <tr>\n",
       "      <th>6</th>\n",
       "      <td>loudness</td>\n",
       "      <td>0.064836</td>\n",
       "    </tr>\n",
       "    <tr>\n",
       "      <th>11</th>\n",
       "      <td>liveness</td>\n",
       "      <td>0.057816</td>\n",
       "    </tr>\n",
       "    <tr>\n",
       "      <th>13</th>\n",
       "      <td>tempo</td>\n",
       "      <td>0.056837</td>\n",
       "    </tr>\n",
       "    <tr>\n",
       "      <th>12</th>\n",
       "      <td>valence</td>\n",
       "      <td>0.048955</td>\n",
       "    </tr>\n",
       "    <tr>\n",
       "      <th>10</th>\n",
       "      <td>instrumentalness</td>\n",
       "      <td>0.034379</td>\n",
       "    </tr>\n",
       "    <tr>\n",
       "      <th>5</th>\n",
       "      <td>key</td>\n",
       "      <td>0.030812</td>\n",
       "    </tr>\n",
       "    <tr>\n",
       "      <th>123</th>\n",
       "      <td>dance rock</td>\n",
       "      <td>0.018231</td>\n",
       "    </tr>\n",
       "    <tr>\n",
       "      <th>318</th>\n",
       "      <td>post-punk</td>\n",
       "      <td>0.015003</td>\n",
       "    </tr>\n",
       "    <tr>\n",
       "      <th>345</th>\n",
       "      <td>reggae fusion</td>\n",
       "      <td>0.009885</td>\n",
       "    </tr>\n",
       "    <tr>\n",
       "      <th>219</th>\n",
       "      <td>industrial hip hop</td>\n",
       "      <td>0.008203</td>\n",
       "    </tr>\n",
       "    <tr>\n",
       "      <th>7</th>\n",
       "      <td>mode</td>\n",
       "      <td>0.007189</td>\n",
       "    </tr>\n",
       "    <tr>\n",
       "      <th>734</th>\n",
       "      <td>5K4W6rqBFWDnAN6FQUkS6x</td>\n",
       "      <td>0.006655</td>\n",
       "    </tr>\n",
       "    <tr>\n",
       "      <th>681</th>\n",
       "      <td>4FtSnMlCVxCswABUmdhwpm</td>\n",
       "      <td>0.006574</td>\n",
       "    </tr>\n",
       "    <tr>\n",
       "      <th>180</th>\n",
       "      <td>funk metal</td>\n",
       "      <td>0.006549</td>\n",
       "    </tr>\n",
       "  </tbody>\n",
       "</table>\n",
       "</div>"
      ],
      "text/plain": [
       "                    Feature  Importance\n",
       "8               speechiness    0.117663\n",
       "9              acousticness    0.099656\n",
       "2                popularity    0.096914\n",
       "3              danceability    0.076359\n",
       "0               duration_ms    0.074352\n",
       "4                    energy    0.073346\n",
       "6                  loudness    0.064836\n",
       "11                 liveness    0.057816\n",
       "13                    tempo    0.056837\n",
       "12                  valence    0.048955\n",
       "10         instrumentalness    0.034379\n",
       "5                       key    0.030812\n",
       "123              dance rock    0.018231\n",
       "318               post-punk    0.015003\n",
       "345           reggae fusion    0.009885\n",
       "219      industrial hip hop    0.008203\n",
       "7                      mode    0.007189\n",
       "734  5K4W6rqBFWDnAN6FQUkS6x    0.006655\n",
       "681  4FtSnMlCVxCswABUmdhwpm    0.006574\n",
       "180              funk metal    0.006549"
      ]
     },
     "execution_count": 92,
     "metadata": {},
     "output_type": "execute_result"
    }
   ],
   "source": [
    "feature_importances = rf.feature_importances_\n",
    "importance_df = pd.DataFrame({\n",
    "    'Feature': X_train.columns,\n",
    "    'Importance': feature_importances\n",
    "}).sort_values(by='Importance', ascending=False)\n",
    "\n",
    "importance_df[:20]\n"
   ]
  },
  {
   "cell_type": "markdown",
   "metadata": {},
   "source": [
    "## visualisations\n"
   ]
  },
  {
   "cell_type": "code",
   "execution_count": null,
   "metadata": {},
   "outputs": [
    {
     "data": {
      "image/png": "[encoded data removed]",
      "text/plain": [
       "<Figure size 1000x600 with 1 Axes>"
      ]
     },
     "metadata": {},
     "output_type": "display_data"
    },
    {
     "data": {
      "image/png": "[encoded data removed]",
      "text/plain": [
       "<Figure size 1000x600 with 1 Axes>"
      ]
     },
     "metadata": {},
     "output_type": "display_data"
    }
   ],
   "source": [
    "import matplotlib.pyplot as plt\n",
    "\n",
    "# Scatter plot of actual vs. predicted values\n",
    "plt.figure(figsize=(10, 6))\n",
    "plt.scatter(y_test, predictions)\n",
    "plt.xlabel('Actual Values')\n",
    "plt.ylabel('Predicted Values')\n",
    "plt.title('Actual vs. Predicted Values')\n",
    "\n",
    "# Add y=x line\n",
    "# plt.plot([y_test.min(), y_test.max()], [y_test.min(), y_test.max()], 'k--', lw=2)\n",
    "\n",
    "plt.show()\n",
    "\n",
    "# Residual plot\n",
    "residuals = y_test - predictions\n",
    "plt.figure(figsize=(10, 6))\n",
    "plt.scatter(y_test, residuals)\n",
    "plt.xlabel('Actual Values')\n",
    "plt.ylabel('Residuals')\n",
    "plt.title('Residual Plot')\n",
    "plt.axhline(y=0, color='r', linestyle='-')\n",
    "plt.show()"
   ]
  },
  {
   "cell_type": "markdown",
   "metadata": {},
   "source": [
    "# Give Recommendations to Users Based on Their Preferences\n"
   ]
  },
  {
   "cell_type": "markdown",
   "metadata": {},
   "source": [
    "## load unrated songs\n"
   ]
  },
  {
   "cell_type": "code",
   "execution_count": null,
   "metadata": {},
   "outputs": [],
   "source": [
    "sources_ids = [\n",
    "    \"37i9dQZEVXcToZ9oox3nki\",\n",
    "    \"37i9dQZF1DWZdLqpoFOt65\",\n",
    "    \"37i9dQZEVXbn0l6flXloCt\",\n",
    "    \"37i9dQZF1DWW1yuCSjnKtM\",\n",
    "    \"22mm5J4DcucnRDLv0BAvti\",\n",
    "    \"1h419AHuvIuFXjUjndFC25\",\n",
    "    \"0gqrnk12Q8OExuCeKyBRCq\",\n",
    "    \"3wXgQJZudZsz7RGyPMTQGa\",\n",
    "    \"12TqMgaZKMw6RF39JK6eeF\"\n",
    "]\n",
    "# discover weekly\n",
    "# for you.\n",
    "# release radar\n",
    "# !!!\n",
    "# discover weekly (cash)\n",
    "# discovered weekly (trending.)\n",
    "# BEST SONGS OF ALL TIME\n",
    "# best tracks from the top albums of all time - RYM (RateYourMusic)\n",
    "# 1001 songs you must hear before you die (2017 edition)"
   ]
  },
  {
   "cell_type": "code",
   "execution_count": null,
   "metadata": {},
   "outputs": [
    {
     "name": "stdout",
     "output_type": "stream",
     "text": [
      "Fetching tracks from 'Discover Weekly' by Spotify\n",
      "30 / 30 tracks fetched\r"
     ]
    },
    {
     "name": "stderr",
     "output_type": "stream",
     "text": [
      "Max Retries reached\n"
     ]
    },
    {
     "name": "stdout",
     "output_type": "stream",
     "text": [
      "Error fetching audio features: http status: 429, code:-1 - /v1/audio-features/?ids=4JdYapRlYv67LnjrkDhZVX,7vOmSP2647oNUGGEhWd1cr,57wp7VFnV8X0pSVnYArGeJ,3SQ9Hb9rfpJ02AWfaOPhpy,3MtP9T0WF4xbIo8vqHYeXM,1QFh8OH1e78dGd3VyJZCAC,2DrGEaqoruCSn0FffWCf5O,5hTl2uxJGd1sbLtovguuuk,4m2QuDurLmzP9ox7QESPpA,0q21FNwES2bbtcduB6kjEU,7pv80uUHfocFqfTytu1MVi,3KzgdYUlqV6TOG7JCmx2Wg,6Dq2LzijkY9WNPwBGDah4L,6Pgmqg15yVexuOgtzuxwoX,4H4x6mlA3Mk8zUqmLrirGI,0XgRWgcs0Pcr9PSIdFWD4N,6f44p3Kc4ayD9VtbC9Clkr,0eEXcw3JLVXcRxYrVYMy68,70jiETKdlLEram2zJSHdHH,4ZHGRFGwjnEIXHG2FhcDPv,6lAMnXLVCBPMXXWAK4lGSL,54L7uacUGRkvoLokUlNWfH,3FtYbEfBqAlGO46NUDQSAt,6lYY2HktYKpV1pUamfRlU1,2zXkELHmggcgtoHUspOSFC,4vHNeBWDQpVCmGbaccrRzi,0pUVeEgZuNyFzIMKp67RbS,456WNXWhDwYOSf5SpTuqxd,04F42oEuKrRComYJfJuyVR,2uMqG8w8oi09fB2YA2QLOm:\n",
      " Max Retries, reason: too many 429 error responses\n",
      "Fetching tracks from 'for you.' by Spotify\n",
      "70 / 70 tracks fetched\r"
     ]
    },
    {
     "name": "stderr",
     "output_type": "stream",
     "text": [
      "Max Retries reached\n"
     ]
    },
    {
     "name": "stdout",
     "output_type": "stream",
     "text": [
      "Error fetching audio features: http status: 429, code:-1 - /v1/audio-features/?ids=4y5bvROuBDPr5fuwXbIBZR,1dGr1c8CrMLDpV6mPbImSI,3pHkh7d0lzM2AldUtz2x37,1BxfuPKGuaTgP7aM0Bbdwr,1SmiQ65iSAbPto6gPFlBYm,5M1OsXPtMfVM6hbrwIiZnr,2fB5YRuD88drKpCXQOAk03,3Jjwrk3xgnJWPTc48GYhWg,0b7U8X4OjpeJ3HHK7Cw6DN,1rf43cwY7lqr7dqfeM23Jj,4yOp22tLHBjgu866eAwJk8,44rWxt3LrdLf0IclHzQe6v,38dyoMgDMotr4qX8qlL17j,046QZ0ociluzd0yjpY1tY4,5rDVenhWv5PZnVtLGpuyUG,3JoBv1fDAaX2UtvWytvJ4u,1u6O6WXGhuIGjIsvLkNU5A,4HOUg5mmwuAfZBhRVW8YN3,3xKsf9qdS1CyvXSMEid6g8,4yWaGVdcT6VhMyUY7kjV3d,32bkdxME3FzJAxeDOTG8Sg,7KA4W4McWYRpgf0fWsJZWB,0JXXNGljqupsJaZsgSbMZV,3YJJjQPAbDT7mGpX3WtQ9A,0cQVqPuHQP4KEwc7ZUQmj6,7EAMXbLcL0qXmciM5SwMh2,7zFXmv6vqI4qOt4yGf3jYZ,4EWBhKf1fOFnyMtUzACXEc,3GZD6HmiNUhxXYf8Gch723,6oEVnWKgPqIEPc53OYDNqG,2K7xn816oNHJZ0aVqdQsha,6koKhrBBcExADvWuOgceNZ,1ko2lVN0vKGUl9zrU0qSlT,152lZdxL1OR0ZMW6KquMif,0W4NhJhcqKCqEP2GIpDCDq,4kJT7Yj6Za01KfKHjb7mZE,5LrN7yUQAzvthd4QujgPFr,0j3mqDTK4Z6lvrLzFCUUz6,6RiiSy9GzSwiyDEJDiMuKe,7h2nmmoWDi2UpfYKLKWLYB,4iZ4pt7kvcaH6Yo8UoZ4s2,6IPwKM3fUUzlElbvKw2sKl,5XeFesFbtLpXzIVDNQP22n,1A3tuE6ti9qoZDwB3LB0t2,4OBZT9EnhYIV17t4pGw7ig,7hDVYcQq6MxkdJGweuCtl9,3KkXRkHbMCARz0aVfEt68P,3rPtS4nfpy7PsARctAWpzd,7CiDwKE62N6ey3LyG6s7xc,6gU9OKjOE7ghfEd55oRO57,5odlY52u43F5BjByhxg7wg,1Ukxccao1BlWrPhYkcXbwZ,3JvKfv6T31zO0ini8iNItO,7B3z0ySL9Rr0XvZEAjWZzM,71XJNtOdwmL1UWOQQvsKoH,3jiKUMXqwEodB7gVv1RMZU,0O6u0VJ46W86TxN9wgyqDj,2PWTZV5znjLtZC5T1EVJvL,790xAaylcgzyKm40GM95Gl,1SRw5p2lVAi7RGlHEmZg66,2L9N0zZnd37dwF0clgxMGI,2psRActEWsTlYYd7EDoyVR,47Slg6LuqLaX0VodpSCvPt,5Ts1DYOuouQLgzTaisxWYh,4NeOWqHmlrGRuBvsLJC9rL,6xkryXuiZU360Lngd4sx13,0WIv5qV41y6YjjB9V1biuC,748mdHapucXQri7IAO8yFK,5PjdC2gMATetx5xdnwGUu7,1qEmFfgcLObUfQm0j1W2CK:\n",
      " Max Retries, reason: too many 429 error responses\n",
      "Fetching tracks from 'Release Radar' by Spotify\n",
      "30 / 30 tracks fetched\r"
     ]
    },
    {
     "name": "stderr",
     "output_type": "stream",
     "text": [
      "Max Retries reached\n"
     ]
    },
    {
     "name": "stdout",
     "output_type": "stream",
     "text": [
      "Error fetching audio features: http status: 429, code:-1 - /v1/audio-features/?ids=1xttwGi6u3k4FjplxqySDJ,1C0dI2fikcWmnAJ2qik0s2,7nn47VO0UScREyad6hc2DA,5Uu6DwDs2C7pIlSaLL90CA,0ILYxSWnFwD4va8m2yFnsl,4f9wNNZET9wH7eMBgONd3d,2341MWlUctMJQDtYO6Q9b5,2t3VC1SefHeVFB37CIbyQ1,7hdNTegC0TCKKoxB6GTFH3,7gJr3ockQ0fezUXuUXvaSq,0wKxfnayyQ1wa9WExvn4qF,27sKtH0PZpASkN8H3ZJOQf,7lG5m4JN0exualOkghSNXq,0eBAg5wJBu2Acv6o72iY4c,0e8hTieLJC07OakL3BNVJ2,6FqHQ6rP0SCRq52XTNXc3P,6kulrTa9BCDAW5mSi0vynj,49oKnEjgRSs3DMXScEU2G1,2z65iWKbjfz4Ey2URvO1pt,2lZfSMURTqvAChsokZPQZ6,5qxOeTyWa0JAst5fqdrqgu,1RMnWyL9KlDgmAhirqNxin,6Qb7YsAqH4wWFUMbGsCpap,3E2fRdVyqXrb6cMZJGUq3J,0PW454qKfnxKnkVF5pcDLX,0jQonFiP5dkTHCh7jN0r8S,73jxqs3nAUOVNt580QM0g7,3ve72h74iSx1YxO5avj8gN,6n0tjWhWk846PxAAQo9kb7,3d1sRLMVrXnCBawEZo69bR:\n",
      " Max Retries, reason: too many 429 error responses\n",
      "Fetching tracks from '!!!' by Spotify\n",
      "51 / 51 tracks fetched\r"
     ]
    },
    {
     "name": "stderr",
     "output_type": "stream",
     "text": [
      "Max Retries reached\n"
     ]
    },
    {
     "name": "stdout",
     "output_type": "stream",
     "text": [
      "Error fetching audio features: http status: 429, code:-1 - /v1/audio-features/?ids=1bjeWoagtHmUKputLVyDxQ,0Z7nGFVCLfixWctgePsRk9,65zIby9Z03d1bhGvLNJNrA,476j7IDRIDRvv1Xu71EVc8,7diD1MucbcRUVjS6AA9ehm,1v4m9GLt7lpFM5iOvwQZrU,3qhlB30KknSejmIvZZLjOD,19quyzgfIQzGM8K71UgMhp,4Fuf1v4kPQ6RIvEGlUfvaq,3h5TiWTqGxjSjFrbruPFH9,5rb9QrpfcKFHM1EUbSIurX,7JgNAnCjJvL8hBR1kmCOFF,6Dk5fHTvH897XrVzCO64Mx,6NMqeF0Ssmi7d3dSUqnOFf,6tNQ70jh4OwmPGpYy6R2o9,7lIyBKp2KX7ABDjDfo9EtL,6uTPdRrEDeH8Fyg5L5qmeU,4tKGFmENO69tZR9ahgZu48,6dpLxbF7lfCAnC9QRTjNLK,4AawZPPdYDoIiYrWU3pgZX,1ACA277B6f46DYCgZW8di3,1iupzLgX4O0Qosb4yDpYoz,3KTRve0Kx6ytMtlEWkWcgt,5ZJGv7aGdIr9IGpxzSG18T,3U5JVgI2x4rDyHGObzJfNf,4HMop4Re0iucehmF7mgV27,5l6hpyTGBK0LAAxgPnqTQL,6usohdchdzW9oML7VC4Uhk,2l7UudWZ44l1WbHx6ANod9,1udwFobQ1JoOdWPQrp2b6u,7gaA3wERFkFkgivjwbSvkG,7hgY5a1FNiChuxoSZDyaMs,7to68V64Cu6zk0UDo5tyw3,52eIcoLUM25zbQupAZYoFh,0nlERwr8m4Ks1RYYuTVm0C,45FCt12lQyBdxUrLtM4Uor,5a8z2vyIDKMh5qcRG6w9wu,4w2Furap0ZzaiK4J14E9sR,4BY4V1T0RJK1HmD2Q0ClyK,0YLhxYUv69go9H8iirbSWO,0mflMxspEfB0VbI1kyLiAv,3uAgHKnp9NtuWCRdnpI5U5,1HAW56e0zz05phUnzuHF9E,5crY7axm3GejOxy5PsnnPk,5utUZ5nv6y6dR8irsnOQEj,3XqM8hLCEYlbnFjoWwqtFv,1MVqeIAwhD4T44AKVkIfic,48vIfHaK7by6x0T6ucpODL,79AHPJd8upvNxyK2qQcY8J:\n",
      " Max Retries, reason: too many 429 error responses\n",
      "Fetching tracks from 'Discover Weekly' by cash\n",
      "2174 / 2174 tracks fetched\r"
     ]
    },
    {
     "name": "stderr",
     "output_type": "stream",
     "text": [
      "Max Retries reached\n"
     ]
    },
    {
     "name": "stdout",
     "output_type": "stream",
     "text": [
      "Error fetching audio features: http status: 429, code:-1 - /v1/audio-features/?ids=0vZ97gHhemKm6c64hTfJNA,1YLJVmuzeM2YSUkCCaTNUB,54TaGh2JKs1pO9daXNXI5q,7N3PAbqfTjSEU1edb2tY8j,6QDbGdbJ57Mtkflsg42WV5,3KhF2YiNpJvGpfiCW45R6D,6C4LXC9UFH1IKiHYOp0BiJ,0MsrWnxQZxPAcov7c74sSo,6L89mwZXSOwYl76YXfX13s,1Vchex0xowRj9k59RLvRfo,7fgQxIMO8E0sVRs5g4JFLM,1TfqLAPs4K3s2rJMoCokcS,5jkFvD4UJrmdoezzT1FRoP,1PmXm1881bonBI1AlG5uaH,6R0GRYk2vs2XuBVemYK5YZ,57bgtoPSgt236HzfBOd8kj,2hKdd3qO7cWr2Jo0Bcs0MA,6FXwTBdpv4wD0G0Sz3Wxn4,6S3JlDAGk3uu3NtZbPnuhS,5FEXPoPnzueFJQCPRIrC3c,516V4vS25xnGdVgkBWO6Wf,3f3HHRPF5vAo90GwdpDMaQ,3mZFf3Ru4er3cBfzWq72Ol,1P3eYnB5KiF4S2qZ7iQnOP,50xwQXPtfNZFKFeZ0XePWc,0Bs0hUYxz7REyIHH7tRhL2,4ha9ajL4Kz98uldAfuos6p,6myHmPOnx2gKXHURPajWCH,12Lemsk6c6ohm9afZxYUBz,6ZOBP3NvffbU4SZcrnt1k6,4UXIUeistNzMseqDtgWA6d,42et6fnHCw1HIPSrdPprMl,7oK9VyNzrYvRFo7nQEYkWN,28IEbk5a7twNTbUEvWslUb,2TfSHkHiFO4gRztVIkggkE,3YKptz29AsOlm7WAVnztBh,69YhLz5ooQkgSXRElQbkd6,1ynmMEK1fkyiZ6Z6F3ThEt,1LJyFWwVgM8PrAVpsf8oPl,6dGnYIeXmHdcikdzNNDMm2,4oDZ5L8izBals6jKBJDBcX,0gI0g3i7bgN6CZqWwgPcBS,56KqaFSGTb7ifpt16t5Y1N,1HOMkjp0nHMaTnfAkslCQj,4ME2YQNThxEW63fxojzHvN,5W3cjX2J3tjhG8zb6u0qHn,087OBLtoeS3Q6j0k6tMNAI,4RvWPyQ5RL0ao9LPZeSouE,4o6BgsqLIBViaGVbx5rbRk,5E3P9e1hvjyIOlFyqNB5eD,7zMUCLm1TN9o9JlLISztxO,5DiXcVovI0FcY2s0icWWUu,0ZjTS5zoXFR2w9QMRweDhs,5IMtdHjJ1OtkxbGe4zfUxQ,4ePP9So5xRzspjLFVVbj90,0bfvHnWWOeU1U5XeKyVLbW,5b7OgznPJJr1vHNYGyvxau,4hHbeIIKO5Y5uLyIEbY9Gn,3ZOEytgrvLwQaqXreDs2Jx,3d9DChrdc6BOeFsbrZ3Is0,1G391cbiT3v3Cywg8T7DM1,0uppYCG86ajpV2hSR3dJJ0,5ey0QpbtmSW71r5dWzkAlB,0Y2SrByf4G3kbq2nBEHQRn,6Ac4NVYYl2U73QiTt11ZKd,43DeSV93pJPT4lCZaWZ6b1,7GptbanebPZYkLPvjNfd6m,4YPhn26bIFm2KUkL1VLzQG,2EIaO5knwUA3F2qnf9LV3S,1b7LMtXCXGc2EwOIplI35z,0YveezON7jpiaHA8fnUHxN,48i055G1OT5KxGGftwFxWy,5wtCf1L40Hmf3ptlKfXt1U,6hFAaTvtzYDkng1T5K4XLB,5fpizYGbi5IQoEraj6FP0R,6jBCehpNMkwFVF3dz4nLIW,6qUEOWqOzu1rLPUPQ1ECpx,0FWhGmPVxLI6jOVF0wjALa,7Cuk8jsPPoNYQWXK9XRFvG,56KqaFSGTb7ifpt16t5Y1N,3SktMqZmo3M9zbB7oKMIF7,2jdAk8ATWIL3dwT47XpRfu,7vFv0yFGMJW3qVXbAd9BK9,5imShWWzwqfAJ9gXFpGAQh,0SYRVn2YF7HBscQEmlkpTI,5pDmunv6G71w7NSjOPXbYw,2dCmGcEOQrMQhMMS8Vj7Ca,5W3cjX2J3tjhG8zb6u0qHn,4wCmqSrbyCgxEXROQE6vtV,2TVxnKdb3tqe1nhQWwwZCO,2qSh6XPZeV5XgCsKEFnajj,5EOoMWIB9iK4ZpcSex9Ec7,7rSERmjAT38lC5QhJ8hnQc,7ytqdjooPEAa97QSu6NUHS,3gdewACMIVMEWVbyb8O9sY,3JOVTQ5h8HGFnDdp4VT3MP,3YhcVZIWyakQSTUJD1YMt4,1hlveB9M6ijHZRbzZ2teyh,5ChkMS8OtdzJeqyybCc9R5,5fdhThPDe6jQQDqCyWrdAn:\n",
      " Max Retries, reason: too many 429 error responses\n"
     ]
    },
    {
     "name": "stderr",
     "output_type": "stream",
     "text": [
      "Max Retries reached\n"
     ]
    },
    {
     "name": "stdout",
     "output_type": "stream",
     "text": [
      "Error fetching audio features: http status: 429, code:-1 - /v1/audio-features/?ids=7eQUgarLukHLkZaO1mxtab,0OaunKfsxkgBvPv68jBbmm,68y6OIiE1nDdI1MLQdJNh8,0KDaN0HL3TcJVTbXlQCEsS,33iv3wnGMrrDugd7GBso1z,5prTs2HAw2G4idHZyeFp8o,6txWz9UapYHVxEd7dDIHXT,2Pwm2YtneLSWi7vyUpT5fs,77NNZQSqzLNqh2A9JhLRkg,5Muvh0ooAJkSgBylFyI3su,4jDmJ51x1o9NZB5Nxxc7gY,4aVuWgvD0X63hcOCnZtNFA,2EoOZnxNgtmZaD8uUmz2nD,7x8dCjCr0x6x2lXKujYD34,3a1lNhkSLSkpJE4MSHpDu9,6eT7xZZlB2mwyzJ2sUKG6w,0wtHjEAzLYYyGuk2WtpGwS,2KVBpW6RR1rGIpr4jDRotF,3bN4tg6rnNPy9GCkGhym4T,2rgqPSIRAfaO2MGo9smdSX,1k1Bqnv2R0uJXQN4u6LKYt,5nPdMALTEd7HOjn16oNf2X,3pf96IFggfQuT6Gafqx2rt,4SXU3lUZ1eb4JWWbkQw43Y,2QgWuCtBpNIpl5trmKCxRf,6ztstiyZL6FXzh4aG46ZPD,54eZmuggBFJbV7k248bTTt,6iwOCZFBlw3Xjj0fuO3sI6,04XdCMi1WhAjVyRJbAtaq0,7LRMbd3LEoV5wZJvXT1Lwb,4nXkbcTj3nyww1cHkw5RAP,3iJxloILmOu2NIRZ0OGyui,5pTWpY8l7B1XcQnijEFGFj,1YTLK2GZMai3LjDwzDL9OD,3yP0cohcr97BUNJcgvmSVg,46eu3SBuFCXWsPT39Yg3tJ,7pKfPomDEeI4TPT6EOYjn9,2RlgNHKcydI9sayD2Df2xp,5oI1A8G8jH5rxt35dPiHIB,0FeCO85RKW8fDRytwXof2x,54OR1VDpfkBuOY5zZjhZAY,23hrvdvkIi1X1voQG2bJH9,40riOy7x9W7GXjyGp4pjAv,1AhDOtG9vPSOmsWgNW0BEY,5XE8c07vbpQBUriwybOHtd,5T8EDUDqKcs6OSOwEsfqG7,5cP52DlDN9yryuZVQDg3iq,3XC7Jd6SfrQYKZJ6inyRHK,4YMLW13PuuO7o3jkIWlKAs,2zyB2N2T1qLKqKwl6WKeZp,0SMRck5oZi9hc16L6FuRF6,0g6UcrVsACnRJyTGX6uSHu,2Gy7qnDwt8Z3MNxqat4CsK,4yQw7FR9lcvL6RHtegbJBh,3yI282DoIJyERd0vGukMoB,0wz1LjDb9ZNEYwOmDJ3Q4b,6sPOmDulFtLzfX25zICNrC,1On1rSfuufFglctZu7AG92,39zODpVtRvghMyfNjZ3BVK,7xcFTtcCiyRvqLLq8s61WF,64G04tuUgPu5EO28yCDbWW,2nwCO1PqpvyoFIvq3Vrj8N,3yrSvpt2l1xhsV9Em88Pul,4sFbojhVXQv7dBC9PVCcRn,4YUlGNZfYA6EUE5KDsGqpC,2zvot9pY2FNl1E94kc4K8M,4dwrL3Z5U2RZ6MZiKE2PgL,63rva3TBizr6x1Yp5uwKfD,0MnI39P9Dze0PSUjetb8Va,6yl8Es1tCYD9WdSkeVLFw4,0H7cM7atT2ri9CshIt0ag9,7kWhdmRYv8CqbWNqfojqVd,2fuCquhmrzHpu5xcA1ci9x,0LrwgdLsFaWh9VXIjBRe8t,0vLwL4xuJ3s7SeaCdvMqkY,4alHo6RGd0D3OUbTPExTHN,0wJoRiX5K5BxlqZTolB2LD,6vvmYYUvGXtZLU8msxKvzF,63OFKbMaZSDZ4wtesuuq6f,6KKcey1w86oP0qxN8frbfD,70C4NyhjD5OZUMzvWZ3njJ,1LI7vkkJ5EKLl6MpZBWZF2,7woZGXjtaYwuvSoU1zToB3,371VkfwKiXJxgH5ZPoQNHD,7J4WbEdRTZGJDsSr5AACCw,4gvea7UlDkAvsJBPZAd4oB,5t9KYe0Fhd5cW6UYT4qP8f,5NIPsWpDjJTFBoPxCUUeXp,2SiXAy7TuUkycRVbbWDEpo,0PdM2a6oIjqepoEfcJo0RO,51H2y6YrNNXcy3dfc3qSbA,5eU8qMd0TpaLqTGDZJaLDs,2DyHhPyCZgZzNXn1IrtsTu,3MrRksHupTVEQ7YbA0FsZK,43GS3mtezoIFiuIZCLLiDY,3rdxvEfBp86WNcRDLaFEk9,4MhTFsyqIJnjsOweVcU8ug,7FlwylpJSe3ea6m1IrkizS,64F1ojnPPiJiFZtYQtHB7r,44hOGg1uFg1XJZGZYNwYmM:\n",
      " Max Retries, reason: too many 429 error responses\n"
     ]
    },
    {
     "name": "stderr",
     "output_type": "stream",
     "text": [
      "Max Retries reached\n"
     ]
    },
    {
     "name": "stdout",
     "output_type": "stream",
     "text": [
      "Error fetching audio features: http status: 429, code:-1 - /v1/audio-features/?ids=0GONea6G2XdnHWjNZd6zt3,6EUumCXY2GwkIKcuVGfJyM,0HEmnAUT8PHznIAAmVXqFJ,2WfaOiMkCvy7F5fcp2zZ8L,5VB2p0S9jlSXEUNT5wckIQ,3MRQ3CSjoiV1HFil8ykM9M,6FBmHx1FuaSnTnnnaThgbF,2JS1iE5A5RHvUPH5Zl9jlF,6QG0wcgoCsa9pqFyTg0rRO,4nuUssdgKFy2QyYHHNkZQW,46RVKt5Edm1zl0rXhPJZxz,0qxYx4F3vm1AOnfux6dDxP,3L7RtEcu1Hw3OXrpnthngx,37Q5anxoGWYdRsyeXkkNoI,0lzpfrTARexLFXEACKSXTh,7aHRctaQ7vjxVTVmY8OhAA,6AJlcxjEO2baFC24GPsJjg,7723JnKU2R15Iv4T7OJrly,5VVwwfK6Cp9IydkhKfJUEq,62LJFaYihsdVrrkgUOJC05,3rOD3MfHaXawznE0vrjM5B,0q4xWbV08szzUpGPhVsrcD,1mCsF9Tw4AkIZOjvZbZZdT,5yEPxDjbbzUzyauGtnmVEC,5xC8uOesnn0udeXAYlAnoY,0fsz7tJ7UKXT9hliLfO7aE,5PntSbMHC1ud6Vvl8x56qd,1t1NX1DJQDcmZA0lvCnFjC,5wj4E6IsrVtn8IBJQOd0Cl,1Cwsd5xI8CajJz795oy4XF,2iSxljzM8Xw9EEIGBRW1CD,7A8oXvjcFnGCmzbswJ0MKu,78JmElAFmrPNhLjovDR9Jm,3dzW0SoVNyJTWWJimX8stj,0ttHpMs250dpFkCYAnuhnE,1w5Mus0YI3V4cfNDANJhrc,38zsOOcu31XbbYj9BIPUF1,6sYZrqTUr5py0ZxLdP3q1t,4HjwGX3pJKJTeOSDpT6GCo,0UAJH0k4k3slcE83a9UGCe,5cE2nMYDgYj9gqG4KLafKy,63diy8Bzm0pHMAU37By2Nh,6XUHsYE38CEbYunT983O9G,7e89621JPkKaeDSTQ3avtg,7DD7eSuYSC5xk2ArU62esN,2EqlS6tkEnglzr7tkKAAYD,5jgFfDIR6FR0gvlA56Nakr,7iN1s7xHE4ifF5povM6A48,5ZBeML7Lf3FMEVviTyvi8l,7HKez549fwJQDzx3zLjHKC,4ubYnxmt3qW3wZdqMZbqOh,28285KFbyCq8sJofn58qlD,4xxn8GDqs7RUwgZTNznXNp,6dGWq08LXuIw6T2oUeHECh,4SGBuq37Ol4HJr7pQqFMKa,5KqldkCunQ2rWxruMEtGh0,1R5wi7cEIKvYHO2KjxkvDF,6aaPceG6TnixvAZQ1wBMdp,4qMzPtAZe0C9KWpWIzvZAP,7CVYxHq1L0Z4G84jTDS6Jl,3vqlZUIT3rEmLaYKDBfb4Q,75JFxkI2RXiU7L9VXzMkle,7Kohy4v3KLWfUXlv9N3feB,6OyRpRa1xjDNriftwh1dZR,4VkAGQ9uf8Bb7ACbC3U8Fc,3ABG1UQTk0eLYUAeWkmfMi,63BokRfXSQhEU6Qi2dSJpZ,4IowQDUOzUvNtp72HMDcKO,12D0n7hKpPcjuUpcbAKjjr,2ikkgfIIM9kGKZCXzXnTpj,2p0AFUA5c5UOhgePL92gxq,3WpGt7fhdIDd5ej7xyzbe8,6mcxQ1Y3uQRU0IHsvdNLH1,6NvRxjfYkkT2SpirAlmsjH,7wpYSigAhQeZp3cdsMQ3Af,6rrrXnOHOdZuPhGnQtMPGR,5jAvbp8kEnRPToi4Bzcvzt,7JJmb5XwzOO8jgpou264Ml,2N5zMZX7YeL1tico8oQxa9,2vfvGlqCB7oertO5VLE0sz,3WibbMr6canxRJXhNtAvLU,33ZXjLCpiINn8eQIDYEPTD,6ToM0uwxtPKo9CMpbPGYvM,2eMwDehkIC1j68U6FA3Eiq,5qRoxgyvBkvgvOo20wtPhS,3ZFTkvIE7kyPt6Nu3PEa7V,7bfWzWm54GVlb8XBKIb9Zx,3G6hD9B2ZHOsgf4WfNu7X1,2dLLR6qlu5UJ5gk0dKz0h3,1BECwm5qkaBwlbfo4kpYx8,4bPQs0PHn4xbipzdPfn6du,19gEmPjfqSZT0ulDRfjl0m,6j8lAie0mdUNreql5d5Ejz,6SvuMwPea2zKEN03IWCElv,6w40zjwprgA1s99VUxvuMx,4VwVOoleQ256lAFsjddIFp,2aEeghgUcnu75tzcolFMfs,3jS7bB0oXVOwGFZn3aE5NV,4EchqUKQ3qAQuRNKmeIpnf,6TfBA04WJ3X1d1wXhaCFVT:\n",
      " Max Retries, reason: too many 429 error responses\n"
     ]
    },
    {
     "name": "stderr",
     "output_type": "stream",
     "text": [
      "Max Retries reached\n"
     ]
    },
    {
     "name": "stdout",
     "output_type": "stream",
     "text": [
      "Error fetching audio features: http status: 429, code:-1 - /v1/audio-features/?ids=0GO8y8jQk1PkHzS31d699N,4QkvD53COA5qLA7rQ1Pa7D,2u5woInaGB7YASEd1CwGBJ,5XrKrD0AjiZwtkPSRf3NTM,3298yRJKPcCndQdNiTZKIo,35ItUJlMtjOQW3SSiTCrrw,62nQ8UZVqR2RMvkJHkcO2o,3Y8Ff1nH44jFywAtpgmleZ,1qRA5BS78u3gME0loMl9AA,35ieKju5aLWFN5UgfJ27mL,4HbiCvH1R7mVOJ7KY7JQBD,1QbQL5m30YNvukitIqAnFG,2lwwrWVKdf3LR9lbbhnr6R,6eYxmK9fdL4hwLnXG2zY3s,7kjhZR3dESBnn0GoHf3tVI,2Pn1HP6ZTVpBaew1jHcs87,1hGy2eLcmC8eKx7qr1tOqx,7yMiX7n9SBvadzox8T5jzT,0qOkHfSClduvkvGk6fCu8l,1KONmY3enP3r3nIPQidWAy,222TScMmzaZ0IdkvbLoin2,4O4Y5pZNd0kge9aw95OaYC,1pXvZZ7Ubwt4rpDt3JEHdY,3zBhihYUHBmGd2bcQIobrF,29Nv2tMZ6NuVwGpQkgz51x,12OkZyDWNBLUqoReoseGrc,70We9AqHenA4jcmXmKzJnZ,1Y2ExJJ9Dmb9po8K0ybSj3,43M5EZXbN0RhqEyZRoswyI,60PZUWKsJC52uXaPlPcEVf,0uGmhcJP4QQUIpaqKK6ESx,0UmdkPmDWIqzGHnTX1Mogg,7C1j16FmovrwUlkn3X9cP6,2EieK2FUAxikMgLoTSZu51,6jPBjORofYaGFOaqDB4kHa,5lWRaa0fBxDE5yU91npPq7,0EQknhinIfbJ12hwMGjOY5,5BtN3kFKoISSWFpXWz7O4L,0oX75M5oIgft6yF9F8ror7,7dGG7W2p1qUzbf7KwZBAsZ,4hokeG0HFC4tuatP7SVaJI,4pNT8XTKWb2vhcsqwzdXCT,6aahyE9eDASEY3H2HFfUml,6MvBOSDl6EAhA73GVdpuaw,0uEp9E98JB5awlA084uaIg,3bvDG7rviJPGSg4eJm4pz9,37iVijLSSlIbjYbl4ycUge,1f5cbQtDrykjarZVrShaDI,4JzhzQT6cRAwqWTs4pE87P,6Bqn71zg1dznO7Ck8ykEWc,5FX89IUKm9QJT9ymrmyK4k,6lrDckuosGpwEHtm1hHBcf,6Hr77eZSmaVGgH0vVulMUH,0PWP4LIOI5xjVkaWqES7ek,2714ySK1pbOIGZwABmRyAz,5I4ipBNoOOXF20YY0pOjCx,0I2ELF6uHlL4ABu9aFiou7,0d28khcov6AiegSCpG5TuT,71A6V5dh5Y8ikhm6NGwZ7p,2cYZpcIV39X48RnOFM7w2V,4ntsD33Pgsgk8rUyZLLiUV,7L9g4cPfohScjJ8mGwLQWr,7KXjTSCq5nL1LoYtL7XAwS,6HZILIRieu8S0iqY8kIKhj,0s3nnoMeVWz3989MkNQiRf,0XySogm94T51XF5F2jumXm,7fRvtXvJMpGfTLdF0M09a1,1mea3bSkSGXuIRvnydlB5b,2b9lp5A6CqSzwOrBfAFhof,648BMGrt98kUbLo24A4vgj,6YgV0EF8xJMZz0Zm6BTaT4,4gbVRS8gloEluzf0GzDOFc,7LcfRTgAVTs5pQGEQgUEzN,1CetnEx843dN0s9fT0CMhc,5ghIJDpPoe3CfHMGu71E6T,4P5KoWXOxwuobLmHXLMobV,11LmqTE2naFULdEP94AUBa,15VRO9CQwMpbqUYA7e6Hwg,2YodwKJnbPyNKe8XXSE9V7,2HUNIj9v8qlJnpuslgcSIX,4DmABSFNyMwpzOo1UvK8Nz,1T3tP6HvCgDF8ewpRqwM1e,3v8d3ku3kiTZVPxEt7a2dE,1DndHckdH9m5rp6gYP086b,6Z0UPq98UiEm7h1tHoYwzs,1vVJ9HuJIgFG0vk12yGfeZ,21REQ1bCUWphT2QK3bLWYQ,4zu9wo2FXoBSsKjO6tRB3R,1yUl2G3VJdkidTqXWBt2UD,3aByRUC2BVL6Fs1zI723sd,2VEZx7NWsZ1D0eJ4uv5Fym,0DiWol3AO6WpXZgp0goxAV,7v9Q0dAb9t7h8gJOkcJHay,6vuPZX9fWESg5js2JFTQRJ,0MyY4WcN7DIfbSmp5yej5z,1pKYYY0dkg23sQQXi0Q5zN,0LSLM0zuWRkEYemF7JcfEE,4KYYBswaPuKPaKaLzoBcIE,43LjRHyyetSWnPpW7CWThG,7KwZNVEaqikRSBSpyhXK2j:\n",
      " Max Retries, reason: too many 429 error responses\n"
     ]
    },
    {
     "name": "stderr",
     "output_type": "stream",
     "text": [
      "Max Retries reached\n"
     ]
    },
    {
     "name": "stdout",
     "output_type": "stream",
     "text": [
      "Error fetching audio features: http status: 429, code:-1 - /v1/audio-features/?ids=3ssX20QT5c3nA9wk78V1LQ,4IYKjN1DrYzxKXt0umJqsG,5ByAIlEEnxYdvpnezg7HTX,4INDiWSKvqSKDEu7mh8HFz,7N1Vjtzr1lmmCW9iasQ8YO,0shK5iZQppbHPQYiy60xs9,0PV1TFUMTBrDETzW6KQulB,6C7RJEIUDqKkJRZVWdkfkH,78TTtXnFQPzwqlbtbwqN0y,1PS1QMdUqOal0ai3Gt7sDQ,46fk9wjYcPm0sgym2b7EEE,1mFHMzbaECWFaPfoePoEYl,0iOZM63lendWRTTeKhZBSC,1JO1xLtVc8mWhIoE3YaCL0,0GL1ye91pT3nJIQzXwncG2,2aoo2jlRnM3A0NyLQqMN2f,6IHQYCcVjN6byEKKsx5n1K,6aBUnkXuCEQQHAlTokv9or,71dkXboU04Jp5oaqkjK5xd,7oaEjLP2dTJLJsITbAxTOz,2LiWNkeUOAeibGxJKxmjsD,5zhuWncJsBKrQ1HhmAKNAg,3i85UIF4nR7qZXTnEwqdPr,63T7DJ1AFDD6Bn8VzG6JE8,3Zwu2K0Qa5sT6teCCHPShP,0jWgAnTrNZmOGmqgvHhZEm,225xvV8r1yKMHErSWivnow,3RNyGLgSvmVRZ7xKUp8Wgd,2oSpQ7QtIKTNFfA08Cy0ku,3uPfVXcjnpOjyzI3jb3js4,3354J49VpkbZJho7Ztdzpw,66dQdXAbtuPdSasezCQVZE,5FZxsHWIvUsmSK1IAvm2pp,7tFiyTwD0nx5a1eklYtX2J,5WhtlIoxoZrMmuaWWEQhwV,1QEEqeFIZktqIpPI4jSVSF,5RLzsVW6UNiV2YrOlKwzNN,4dVbhS6OiYvFikshyaQaCN,6QewNVIDKdSl8Y3ycuHIei,7i6r9KotUPQg3ozKKgEPIN,2OSfEYKhlSsLx6vn4O75RK,6PypGyiu0Y2lCDBN1XZEnP,6dmueYtoihUhlQZlImBCmm,2QjOHCTQ1Jl3zawyYOpxh6,6cFZ4PLC19taNlpl9pbGMf,7oGwQOTkMB9Sk3DIKJLd5F,66ZcOcouenzZEnzTJvoFmH,6RcQOut9fWL6FSqeIr5M1r,33yAEqzKXexYM3WlOYtTfQ,4jacsL77ZYnpInmTtUBaJW,3qK8x4GZcIkzTz9JEqvIF5,3rOSwuTsUlJp0Pu0MkN8r8,3koCCeSaVUyrRo3N2gHrd8,1jQvUmf16VE9WQCPuK2e8K,57JVGBtBLCfHw2muk5416J,0ofMkI3jzmGCElAOgOLeo3,2yJ9GVCLMmzBBfQAnfzlwr,4RCWB3V8V0dignt99LZ8vH,6MDTpYxPFL0wtFd0pjfKws,5zA8vzDGqPl2AzZkEYQGKh,29SyMC0plk6qw8NMF7lfRL,3d2oiHuHm3rftzRDPeL5LU,76TpWFiK5YCgw1hy26DWZp,5JcaA4A9ZoXthwEnxOxWvP,5sRPMmQV21r5FhNZSxzZ0O,7l3E7lcozEodtVsSTCkcaA,1udKn1oNKYQSQ9OmiIWCMu,2IZZqH4K02UIYg5EohpNHF,2PzCOP5Aj9SABiBgNEZ52G,6YffUZJ2R06kyxyK6onezL,47W6YR93MPCGLEUReLMyDm,0v9Wz8o0BT8DU38R4ddjeH,2BBkIgdXLv5vyp1DR0wpQl,3pLTOP0G0etiWUknFoRpsr,2JHBMVs8E7bJJBLkXpKgHn,1OxcIUqVmVYxT6427tbhDW,7GqWnsKhMtEW0nzki5o0d8,7h2yhVxcZOGyQdOwD4Hu8J,54flyrjcdnQdco7300avMJ,7hQJA50XrCWABAu5v6QZ4i,78lgmZwycJ3nzsdgmPPGNx,3qT4bUD1MaWpGrTwcvguhb,5CQ30WqJwcep0pYcV4AMNc,0hCB0YR03f6AmQaHbwWDe8,3MODES4TNtygekLl146Dxd,7aOor99o8NNLZYElOXlBG1,2A9rFFPwsnhusCh8ZMBvYY,3IEG65Fi7Zm8cQEEG3uJ4H,4RnfMhMUMqHlrn4V6A3KfS,2Kn3xgaDCM4aHuHK7FApgC,5jQYkYhoOlBW4vJ2l4TCxl,4E9RsETCexFzZfSovxFksR,46efwIlSpvdURIubZCs3jC,2fClGossFdEdhjjeYceaN7,6Bau7xvbJLgmHW96Eyb7IF,6K5gVvzKmqYMSSSEyrJmB5,6m59VvDUi0UQsB2eZ9wVbH,6uuqfE90P991leVbQ0ClKU,25U7raB3ZSszayTYClh4hF,3oQomOPRNQ5NVFUmLJHbAV:\n",
      " Max Retries, reason: too many 429 error responses\n"
     ]
    },
    {
     "name": "stderr",
     "output_type": "stream",
     "text": [
      "Max Retries reached\n"
     ]
    },
    {
     "name": "stdout",
     "output_type": "stream",
     "text": [
      "Error fetching audio features: http status: 429, code:-1 - /v1/audio-features/?ids=3PG9Q89FOydXO8rJesUewH,26OjmNri6c4Qt4GrN7lnw7,2DpJ9T2RVRanZcYFHKOAfA,7ufnFt3fA9Ut2K0DILUZ34,0CBLqGc1esSZ5dM2gOZHsU,4B1BnoMpRbe0ps4Bs8BLk8,6AS6xExH5qqqt6HMViLIdo,41jZtFqmBlC0maxnobrQtv,4jEC6MJj3eQnVly58Xqp8e,7wQB9MXmWvzrieBO481NW3,2hnMS47jN0etwvFPzYk11f,3Cx4yrFaX8CeHwBMReOWXI,4U45aEWtQhrm8A5mxPaFZ7,49MHCPzvMLXhRjDantBMVH,1xOXXYh6lTW8laxlW7JP2J,5wQnmLuC1W7ATsArWACrgW,2A2WpdAeo8hRCGnNwtOJJZ,5AHeCmMYYId8l9JthBzO4O,2olVm1lHicpveMAo4AUDRB,2cFl7utlqyZjCXN1G5nRvA,1lr7QGyV5RohlODzAqnuZA,3pecdrUzTZjaqrw6iCLTvd,5TM2eqdzfWPHklI7YnBmsD,3sks3fxIzjffXVaTC4Dl69,7HRv1sYuwgoea1m0JRvChV,42tBlHWL3VfDkUM2iWcc5p,2X9ELgMIcsXQFjn1iFl06y,1cuYCAodLWgzhwE2KFZ8rC,1CKhx6sSkUxzomXnYZqSMh,7tI8c0zPTCulElXIw9aSbg,5hTpBe8h35rJ67eAWHQsJx,413T0g8pNNXYX6t5RqHvx7,1hRDHWWealh2Pk3fnpIe75,1OmKo4t4Bh95xQI6WGiUR3,4RQgqR09VmHn345vRhKQ6T,7GVUmCP00eSsqc4tzj1sDD,1D23GEeQ32aqLw5ZnY3Ivp,4rgwri7LajWVZvdj2N81SS,6vrUTGn5p8IrfTZ0J6sIVM,2KH16WveTQWT6KOG9Rg6e2,3cfOd4CMv2snFaKAnMdnvK,05wIrZSwuaVWhcv5FfqeH0,3VZQshi4COChhXaz7cLP02,5luOvrlnzfvJQdQjrScVj4,12qZHAeOyTf93YAWvGDTat,6UUzt6LPtVNwy8l6jqu9C9,0EMmVUYs9ZZRHtlADB88uz,60a0Rd6pjrkxjPbaKzXjfq,0I3q5fE6wg7LIfHGngUTnV,3ItzRpwvKtkDSNdRSjXu7Z,2He3NOyqtLNE3RQPpeDdSb,7DJsL4jyXA39GDiHFQYQ0t,2xar08Fq5xra2KKZs5Bw9j,5P11rW6aJErF37MTfRZS31,4pW3aTX3kAmOaPJfc9UM12,4fHDlIntTsRGSyTg5UYZYC,1zW2csx1vVJrKfvDrFQNVt,5dRfBz5ZXJc5gZJsNM04nn,0AQquaENerGps8BQmbPw14,1aj4GXfmEYXfdVZohCpNKu,3whRKAOlJ0M3banzcChvQv,3K0SJUQNbOkUprTFcwwAKN,0CUEc6T65lrU6rVW3HVYsl,2ZNTPtYmAhN9vCwnAgqKn1,7HGTkn2aX7MNdKs7nV2xBt,1kSWrMDt439cT64WpjJigW,4c6KvhVNtJSCgNV6HfFhln,0XH6FjPVP075vCFP1ANXj2,76resiPGue5Cum9rLUKCj0,37j56IWzpplKE5zrlQRmxc,15ryA6NGMbP51thG1V2Dd9,56VEsTg2eYBhSrBp85HUWo,24rMg9SYRq8xDLdswOGZ1j,17fMFU0CbJTiqjk8YH3OND,36i0zUcovvR0yo0xrNK6el,0aym2LBJBk9DAYuHHutrIl,4pbG9SUmWIvsROVLF0zF9s,0qdQUeKVyevrbKhAo0ibxS,1H4idkmruFoJBg1DvUv2tY,74Qio2ajLFnRgNTXS0J0q4,0rFWuqFgHAfuzE8uSB9TWR,6JmI8SpUHoQ4yveHLjTrko,2OOILLRKElCME0gitD9CBT,3BQHpFgAp4l80e1XslIjNI,0hKRSZhUGEhKU6aNSPBACZ,3Am0IbOxmvlSXro7N5iSfZ,2v0fKNEQwzUuol9VImFuOu,183Klch3PBWLz2S6zNUVxR,0TKiASulg0H5ZKkkqZNTdm,0vXGSlE4ft3n5JHZMHHSIj,69d54YOS8TOQiUYjX57XeA,63nTBScSLXWwyeizXi9Rmi,49lytSpI9xviTrHs0OhYIo,02FJNRUlB28e1F0R9uP2s1,21pC0RPgkThjHlwpmCtxGb,0Lckblu9CJUXOeMV0XY3b9,77f3aNeabAbOaSB32Sd5QE,2dJVX40gxhBSPfoPP8nmRo,3JzL2n8ofVRV6pZXAMGQ93,5ZgypEwT8Mayum8GKG1KlG:\n",
      " Max Retries, reason: too many 429 error responses\n"
     ]
    },
    {
     "name": "stderr",
     "output_type": "stream",
     "text": [
      "Max Retries reached\n"
     ]
    },
    {
     "name": "stdout",
     "output_type": "stream",
     "text": [
      "Error fetching audio features: http status: 429, code:-1 - /v1/audio-features/?ids=59CLXQLZKxRPzMW8S8Gt9N,7ncH66qOYWLn3Bdw4OjoFi,5cRyBkxNi0EWEY6fZyPWnh,3evG0BIqEFMMP7lVJh1cSf,4aX3n1Pn6jiCbvqBL8eqyP,68BTFws92cRztMS1oQ7Ewj,389QX9Q1eUOEZ19vtzzI9O,0IF7XHfvCoEkabkVvaLvv4,6plT7nFGiXKSBP9HFSI4ef,5iUQMwxUPdJBFeGkePtM66,4z0PnuB07fxtVZZRWsCfxb,4qdgv45EPcQqpQ08tF34f8,2xLMifQCjDGFmkHkpNLD9h,3wGXyJGsCf1myH5MooQIqE,32OkBQinMWqa7ZydEkHqVi,6A9JHl24QJIn4fDBND62Wb,7kv7zBjMtVf0eIJle2VZxn,7hs8hDGgNVaLKypyLK9X4R,7JX9kMnP6WHQSNwkKLsPG9,5XMjXjwCkJVmk0AHm7z8IV,45fiGHezyFQj1FxxlSqELm,6lRkdG1HurVS72F9GoBeWJ,2obblQ6tcePeOEVJV6nEGD,1pmYAWY7Kwaj84U3xZxLML,5fyRqeycMofUoGmDis5Gu6,39GBFwBe4GGk7i3yr3F46P,4iET2VSSZ60K8S77FQRPGS,3ZpiT9OFY8BawTHDTi1Pfz,4GiVcDqNQI0fc0yYuRGH9m,7j31rVgGX9Q2blT92VBEA0,3Mmt6Xk0H6VR92PEp6x3hP,08kO8j1E8V1Nak6vdFzNND,1M34CRvGMjOqWf6hmKWlSG,6iX1f3r7oUJnMbGgQ2gx1j,70pR7ZZ3C5mkLWoWtDhl38,7hy088joIbZmkdampmeL0f,0HOrDVS349XFcpCYsO2hAP,2BlaUfBTbWG50DoZHBD1uV,332rItrahpyeNdn4x2zpyM,1tjK9HhmpEfk0ijyIKsoUk,0smyCrJiibi2uwCiq5R1vj,7pLPpTvMosiIheeOOr13TZ,4a5pNRjwmzYQuEY1E7O6pj,1VdZ0vKfR5jneCmWIUAMxK,34gCuhDGsG4bRPIf9bb02f,1GHklAIU9vwEojmaXD0Q8E,2hx4ptqsE8dboLH3NCLmaN,72ahyckBJfTigJCFCviVN7,1FTSo4v6BOZH9QxKc3MbVM,1wHZx0LgzFHyeIZkUydNXq,5xqdvCH8vYWqk90X0HJ2z3,3ClOMebBxeNTYCOfTH24YJ,16GUMo6u3D2qo9a19AkYct,5jzma6gCzYtKB1DbEwFZKH,2OuNnwnNQyWrF47pthWxNb,0W7AbEauB7cP4pidLclApe,0CkspLl535ZxdwCRs8AdZ4,6gZVQvQZOFpzIy3HblJ20F,0wvIGFIgbyz4JNwQhZgTv2,2eNSieyqDoZMa3yOSagR4q,1s1kY9duH0g4jKHrxxjTkX,7GkM8M2EC8OJblOxQxAR7t,13FkFPnKX1eC2V3nwSy5YB,68YFOeWusWCFxK4TSYZZBU,6vR4LDbi4H6iwC3YDUL6jT,551qy5vUgrUfEUc4dCNfht,6pb5BBnIM5IM7R1cqag6rE,6FRwDxXsvSasw0y2eDArsz,1b6AW6uDrtrUN0Y6GJR45j,0YfOnJWqmAKaUvEL1QcNop,0GTK6TesV108Jj5D3MHsYb,51BfVxH0QfxTpFgZMMbhwK,4CZfPaDW5madfScpZl0nDU,0KRjJtrKMJRngSPr4jp1Dl,3CQPWR7DWrvtICoCKlz0aO,4Tq2fWpX1nLCkMSOPkYb1Y,6HSXNV0b4M4cLJ7ljgVVeh,4zGvb8hxGLB2jEPRFiRRqw,2rmq49FcJ4U3wh1Z7C9UxE,3Z2sglqDj1rDRMF5x0Sz2R,6UBjSnyP1O5W5ndJoO9vUk,7CqleiaEqHVazV19P532X9,3skk6UIXV4kepq2bdYy97g,3Ro71R8Vpy166E2PuQDSc8,47vmcuvMWFIsMaiHFIGSIu,2RzlTcvW7Um8GiTTNWhxcr,6eKWSrZfzd25TYYxkscWgg,74lnM5V6ecvoTPV0fvptx9,2gQYziDV5cSTRSqr6akzi5,6u9RqxALwkjJ1ukB1y8vuP,5fpFOMiFytNxU7q5hjyXxC,01kmJXmeQaNlSZFRyFlSmz,3iGNoYKIabGohB9A0C7dKU,143zqxfaFH5TGQDzNKdzuw,4gWEEmm1Mjqx0RInEUWcY9,4lJ6YVXQ0jUk5ILu0PSrA4,7fLTytvnvxy653VWxflTRf,22nyEAEM29tcBRhukR089b,297rZsBEjFw9d0Gl3iBLnd,0nXyCNdS6fkZNP11DwGq1i:\n",
      " Max Retries, reason: too many 429 error responses\n"
     ]
    },
    {
     "name": "stderr",
     "output_type": "stream",
     "text": [
      "Max Retries reached\n"
     ]
    },
    {
     "name": "stdout",
     "output_type": "stream",
     "text": [
      "Error fetching audio features: http status: 429, code:-1 - /v1/audio-features/?ids=5URfZHMlUWTWxPvvSBWcPk,5bJ1DrEM4hNCafcDd1oxHx,5FuQRkuWNYcc79Uf6dVHQW,7oOOI85fVQvVnK5ynNMdW7,2wK7y55bzry7tUDmDqYaz7,5lA3pwMkBdd24StM90QrNR,3AaiEsiqHO2ylnnOdWninE,10kYRZ5byZgBEcmmQizlzj,1stJclD9IGUbxtUnl8CzG3,276zciJ7Fg7Jk6Ta6QuLkp,2dxjKgT0li4qBI3QwuN9Ih,3Ggg7rOtsEHo4ezvrfPYSD,2SmlWvdYG6FsagxN3FkHMI,1595LW73XBxkRk2ciQOHfr,1AWQoqb9bSvzTjaLralEkT,6lSVidZXCnOnYAWcgIqVDF,3jDdpx9PMlfMBS5tOBHFm9,5bcTCxgc7xVfSaMV3RuVke,5bTysxqGHXdSGiZVgljzCY,1VKPiQJnV15flF5B3zeocD,3bH4HzoZZFq8UpZmI2AMgV,7ef4DlsgrMEH11cDZd32M6,1jJci4qxiYcOHhQR247rEU,1BwhFXqoIsePt21WyWIttb,1t4pPnbkOjzoA5RvsDjvUU,4ByEFOBuLXpCqvO1kw8Wdm,0sKlV58cODrjxGFOyf9IXY,2JoZzpdeP2G6Csfdq5aLXP,1Ue1EeFy3jpKQLTR4HKMYF,2sXp9Qmvc7mRaDBjBgcGGi,6lv5xJNWI2fYwjrPG4KFSe,4keAoywVf4jxRvXU7ON0hV,3FzKPS0oVknVlCW3PhxIHl,5pkd9ib1RgbkAd1R9bIOCa,4p8ZzOdHp58cn6SKdrWKzU,150NSrON3DeZM1aLyz3MoM,3hplBjBmQqR49L8THyjTdb,57460SJgSpCXaRJ9YIYHxy,38wCbVfMreML5ZhF5iQuKA,0bRXwKfigvpKZUurwqAlEh,14mHfNsSHN0FbLftyjrV9g,12ZrFSXWWrmhja26Cmzgi4,3Pzh926pXggbMe2ZpXyMV7,1Q3t9fWvHUXKsMmpD2XpUu,2gFvRmQiWg9fN9i74Q0aiw,7DfFc7a6Rwfi3YQMRbDMau,7kwiwQhWRBSP1PJv4ZFJUK,6I9VzXrHxO9rA9A5euc8Ak,0c6xIDDpzE81m2q797ordA,0weAUscowxeqDtpCgtbpgp,1yjY7rpaAQvKwpdUliHx0d,2DDBGX5qlbBRZsAqAWfILT,1yKu2MhpwzDXXH2tzG6xoa,3gEoKDn0uhb9qqLwC16tly,1ZB2qWsheGabSEYvBYxjKn,3KxOYNt66Hj42HzO7ao0CV,3wQxUfquHLpgHoU6fo8Z50,48ilT9DmEuiky8QlCn3NWZ,1KGi9sZVMeszgZOWivFpxs,1vhNjOtmfgoGy4J6ijCUSS,5dcZUsgcMW57ju0A379O7c,3KQvcYqWgMnG6MCg1aeXif,7a4hhCV3GlgA7a8wwJBy5B,0N3W5peJUQtI4eyR6GJT5O,3iVcZ5G6tvkXZkZKlMpIUs,6o2g1BJvtYQssH84kBYs7y,0S0vWvyZ6Rc79TXkWxT9QA,53XBXgtdqf1gmWMm3rqV27,1rqqCSm0Qe4I9rUvWncaom,1orVKbp6vqtfAPOmvRofVq,4z9o4sijfni4kGSos3VEDB,3yDhZq8f17SmumVmEyCaRN,6yIjtVtnOBeC8SwdVHzAuF,6glsMWIMIxQ4BedzLqGVi4,06iMqWThw4w8fTFyccvOwr,22UDw8rSfLbUsaAGTXQ4Z8,2cDCojn6uIBM6A5xTAbl3H,2MYl0er3UZ1RlKwRb5LODh,6MQAB3vorg90FA3tQpbYXK,53x8zbNUFO9QE4ih75ybGO,4ebcE2SmkG7nplvzFAWRu7,6zeE5tKyr8Nu882DQhhSQI,38Ngied9rBORlAbLYNCl4k,01UYpHuzHi4eB9PAbDoPY2,0DQqzCHlPyKQXfF8uL01SI,24NwBd5vZ2CK8VOQVnqdxr,72Z17vmmeQKAg8bptWvpVG,6NcHJ23mLQKnVxQcOmT7JW,5RgFlk1fcClZd0Y4SGYhqH,1LeWIs2hP2r5yOQnVuYoI5,6b2oQwSGFkzsMtQruIWm2p,0vFOzaXqZHahrZp6enQwQb,665Jxlgi1HamPKbW1vwzx4,00t7QTffOR3SA3L1BvSQVq,25kGNSv0yGXZKaC79xzrvg,16qYlQ6koFxYVbiJbGHblz,62vpWI1CHwFy7tMIcSStl8,5FVd6KXrgO9B3JPmC8OPst,0n2SEXB2qoRQg171q7XqeW,5UWwZ5lm5PKu6eKsHAGxOk:\n",
      " Max Retries, reason: too many 429 error responses\n"
     ]
    },
    {
     "name": "stderr",
     "output_type": "stream",
     "text": [
      "Max Retries reached\n"
     ]
    },
    {
     "name": "stdout",
     "output_type": "stream",
     "text": [
      "Error fetching audio features: http status: 429, code:-1 - /v1/audio-features/?ids=3bE5slaVEfaDreqARl6k4M,6Yv4NG7FPTOWQmsIFnukmX,6M14BiCN00nOsba4JaYsHW,5CTAcf8aS0a0sIsDwQRF9C,4igIYHF3B5VBxEafHauVo3,4DtB1PJsbl4KAb2rZVNCUL,4Hff1IjRbLGeLgFgxvHflk,2bfGNzdiRa1jXZRdfssSzR,64ARxf9iGgx2mV7Hunp7b6,5GxqKrG0zeKA8uYJMjXwj9,3qdDjz9kOvquEFbvXBYOMQ,5zbkoIgrBO5VjrQIEChlre,0eEgMbSzOHmkOeVuNC3E0k,5kSXu5eO8LknVbP4wuqlSd,3yVQkZeKZWZnu1aObNNvey,6tyMDp7sVCjvKK1uyaOvtQ,4KfSdst7rW39C0sfhArdrz,2LScqpywMqGcnum6nNaxXX,5MMnwYs0hIxkENRsbkWJ2G,4yugZvBYaoREkJKtbG08Qr,0r8H7m8knNVn3iUXwQCnVo,4d6eqRtpDX7tydHJGDZUBQ,0vOkmmJEtjuFZDzrQSFzEE,5lDriBxJd22IhOH9zTcFrV,5Dsp18WXBOCw8Td6bFi8lf,03AhYPRQeOqG2j54Tdg94E,5LGOyqfLK30bXT5Qe7l5GP,4ufsFMT6W3QoWJVdPB4I6z,3QZ7uX97s82HFYSmQUAN1D,2lFlveK1y13WWp3vnQtrr3,07nA7gafu75RjIkAUxtjjr,1gzIbdFnGJ226LTl0Cn2SX,4TIJ7zSBNejpoIPaWpWRKc,26wCH8nlaMzeIWHN0Ezjtv,3mcG2NI5G5vhrQtRda1YnA,1gcESexgftSuLuML57Y69q,7mnGQesk1TzQLzQ9bYWZPR,5UvE5QlINnvEc7aFO14DVL,3TZwjdclvWt7iPJUnMpgcs,4cgodXjv4TfrooNQxvlO4O,0oZiK5HCMPn241PbUCslkF,2BY7ALEWdloFHgQZG6VMLA,2kkvB3RNRzwjFdGhaUA0tz,5r2z0FHOoFI06GZEVGDjzM,5VJjhHyG8NZ5xdgG6uTb3P,5rgy6ghBq1eRApCkeUdJXf,6t6oULCRS6hnI7rm0h5gwl,7gpy7sfWPNuOKmUNs3XQYE,67eX1ovaHyVPUinMHeUtIM,43btz2xjMKpcmjkuRsvxyg,6c20LH3R4foocWLmYyojWq,1IqFh00G2kvvMm8pRMpehA,7yzbimr8WVyAtBX3Eg6UL9,17qPnfty4qHRnAxJKazvEt,1Je1IMUlBXcx1Fz0WE7oPT,1d6KS9GH06JAd19uiBy9IE,4BFMQ15vXr626UOoZL8bUI,7GX5flRQZVHRAGd6B4TmDO,0rwFsapoy5sQ0s74zwBTVj,2vaHFRlL8eLXKLhZ47CtpO,6QhXQOpyYvbpdbyjgAqKdY,6l8EbYRtQMgKOyc1gcDHF9,5v67uga7IFT3FQhDDBgaY8,0UOxp1BpnD8uPQMKU4wKjz,7lWXffcApqBGfR7omq52gb,5uvosCdMlFdTXhoazkTI5R,1Q5kgpp4pmyGqPwNBzkSrw,1Jmqubf9kGkWeYQXQKImL5,3MFFDRC4wTN9JNGtzXsZlN,4BVE5tIIpYabZcYCbephNW,6DmfWj5kOa1fX8AwN9byOn,67HxeUADW4H3ERfaPW59ma,4WFVX3E568hdAixIj3U222,5onlaW8X1ps8VS4DhxpFom,0ja1dJM5gBTjk5U9wsMP9r,2ccUQnjjNWT0rsNnsBpsCA,52KvuGmgcgRdrLMXOtda0E,28eg5bkYvIHT7HPmzZFwLN,2Z9B8sd6HgEfCWqvOfhFD0,6g14FUj5zU9FDRwBi963vS,7g4I3DeFlZLeqMjw0ONBqs,7FwBtcecmlpc1sLySPXeGE,612VcBshQcy4mpB2utGc3H,6zC0mpGYwbNTpk9SKwh08f,3ykSdTGmYPFl8pDBXer1zG,4lHQCzdK3VdYQvQZnnRouG,2cM6hAcaR3zsh2oYYV2MWU,3G7tRC24Uh09Hmp1KZ7LQ2,6tR8N0wgzIoKaI7fmh0J0O,1UE2mIj6uy9Tip2cvQx5xu,6lazLV13sV8VNGJTjL4Zeu,70YvYr2hGlS01bKRIho1HM,1v2zyAJrChw5JnfafSkwkJ,4Wrc3Jz4POj0ibPj5iuq0r,4ppxp8rJB8eOhM9TFm6dK2,0v1XpBHnsbkCn7iJ9Ucr1l,6wDviYDtmSDZ0S6TVMM9Vc,7kQ0miyexmevMwUDqTomIN,4sY3JiBfTCqInH7Tov3dxx,7Kutf53V4k0CvU4nKu5oK6:\n",
      " Max Retries, reason: too many 429 error responses\n"
     ]
    },
    {
     "name": "stderr",
     "output_type": "stream",
     "text": [
      "Max Retries reached\n"
     ]
    },
    {
     "name": "stdout",
     "output_type": "stream",
     "text": [
      "Error fetching audio features: http status: 429, code:-1 - /v1/audio-features/?ids=1w29UTa5uUvIri2tWtZ12Y,6Kp8tQd95YPSrSUTkll2Of,1oTHteQbmJw15rPxPVXUTv,0cfqYhY6B8PbGF9vaVNUeG,5YpZh8wfS4moRBk0ijNcXr,0VAoDsKh7Or84V8xP7p1Fs,27AHAtAirQapVldIm4c9ZX,7hf89cT5FEmLV5E9fjrjG7,4H7WNRErSbONkM06blBoGc,2UciqgwVDwro0fev3MFbxJ,6Ius4TC0L3cN74HT7ENE6e,7yotKA30dwTKNEGomV9ZsI,4irYeuAi87yyGHcI4h9s0x,5XAPpyIoYF3QXP34Hv8Pvx,7wPHEEGn0rWMZEDrDcOaDa,4yORBk6ZyYsJpnJchyZevc,70nmZhHZLNVYWP4NON41Zw,5o7ZDvfOry1MNhNLBOJulo,1ZKueMWFwl6qPxczBLqJII,1jzIJcHCXneHw7ojC6LXiF,46CA1H0T1r7u5lDUtVveAh,1qkPQxOTLFmx3bwUOV8Kzw,3v6SdZsS8zR6Go257tldbB,2JZpS2sOdJy37oBpn1GuPW,75kiQfmmuQwgquZ9RLSvuA,6rqj2zeKhLy3exkuFi6mSz,0NjW4SKY3gbfl2orl1p8hr,60b6B2ULC85t4Y5IjZvP7A,1zsAAnB6dMpGOvXjoYP9Um,0qtK3XwbuG153dmwB8iepL,7s5ML7zaUSxb5UsvsqQTSd,1m4C9zlV89rXTfXStluvec,7sJ7zlySCbRw6OjlLhVQMt,4O9tOyMOq8Oioun2MsULH5,2gZUPNdnz5Y45eiGxpHGSc,22L7bfCiAkJo5xGSQgmiIO,08KMh61hPslT7sEf2tEgtT,3oh6SCCeLuXhFpEyepla6G,2fQrGHiQOvpL9UgPvtYy6G,09IOPhEh1OMe0HD9b36FJk,32lItqlMi4LBhb4k0BaSaC,4NKdG9lTVjK8R9HfZQkTmk,5EYi2rH4LYs6M21ZLOyQTx,1boXOL0ua7N2iCOUVI1p9F,1RMJOxR6GRPsBHL8qeC2ux,4LYfeQWsZPZRyaO1TDytuz,2KmEgiY8fQs0G6WNxtzQKr,2BstRQGodshjGpeDGQiNgo,6FsQrRpBLgsrFeAeiQqytm,1yblP7ULnIfig4H0MkJ9Vh,6i6qbu5tLB9wHji2p2jUvu,0Fpen1PTuEnCmOJtUU9Iud,0B8QzDH7YWih85V5SEMnyJ,6ek9SiEj5a65WIs2EV7qiM,676Rf0qIOh2gKNEl9TnCOx,1CAO7hiNOxJRPW4nFv2aRO,2Vc6NJ9PW9gD9q343XFRKx,7wsaO2wj1SHzVHUCyQkVlj,7ax5Vt4YGfx3ipR3O32CNW,4zZh3CwOCWGjxxfXNocAOe,4SCzhsw9HHBaLsr2KhmmKG,2MuJbBWAVewREJmB8WdGJ3,1jDJFeK9x3OZboIAHsY9k2,0pQskrTITgmCMyr85tb9qq,2EC9IJj7g0mN1Q5VrZkiYY,6tsojOQ5wHaIjKqIryLZK6,5OQsiBsky2k2kDKy2bX2eT,67vYdAAM3oGsEImCRfbtsF,2kh0u2d2YKQ7BCqeLPdHk6,6klzQUk22YkppyrWlf5NIt,4kwFh3RBxE5n9a6FwFw2tl,3AszgPDZd9q0DpDFt4HFBy,68ZY22YJeDxvcpQCg6u6SX,4kP69y3GKHi9tXckfgp4bK,5qyq1H5OPMlfuvZQ1wQNo7,29b2b96jozyD9GPCkOrVLs,3mXexrmtPJ1KdWN37rYePx,6iGU74CwXuT4XVepjc9Emf,1GLmaPfulP0BrfijohQpN5,7s4JCyY8YIZSsKvtwStBQ6,2ECYtCiyC3zLvFTybWv75p,24vNw0Z0srb4zYXwrakw8E,7IwURvEfVcdxUCjLKUu6sv,2VNfJpwdEQBLyXajaa6LWT,6IWxHgVbdKyUMydhVGXRaT,4xjRyR5XOobsT3vTqbMGED,44AyOl4qVkzS48vBsbNXaC,1fDsrQ23eTAVFElUMaf38X,6hLqEJg2GnnDG4W0Y64hyD,5AJrhrwz4oSZX2PwwV4qrN,02KpkaZbiutsR0ucxce4Sh,5QXqz1KDz8Z8DmfQoxWmmy,1Xr8wTZmJjvynsMl8wVuER,2xJFKGT7I1ALx4CirYhEbu,1ZlUAAR5De4J5r4g8r8gvb,2sYn7YqXx6Yjfi2qsfM33e,1LaPicLYqWEtDYDc2w9N0b,58MeeOMk6PMQxXWY9YCNPD,1R28m5eWk1EV9FQ3puWrUp,4kVxStqN7DeoZje5aidAn3:\n",
      " Max Retries, reason: too many 429 error responses\n"
     ]
    },
    {
     "name": "stderr",
     "output_type": "stream",
     "text": [
      "Max Retries reached\n"
     ]
    },
    {
     "name": "stdout",
     "output_type": "stream",
     "text": [
      "Error fetching audio features: http status: 429, code:-1 - /v1/audio-features/?ids=39VMTN5lZ9x41aySZGTbsJ,4BtGch9Jl7HIehy9dK9UzR,3tjg1LDfTT5DLDl0R4zfSg,5spAjqC772iC2KzDvEkmSr,4JXnZwEWkv29Fc0m5nwkQn,2RUhtNBh43RtSg0WBPPq3m,50xeLNGKmskmYUSINhqvfa,0RGdFCIfn00FCkf1LVmXP3,4ycLiPVzE5KamivXrAzGFG,6x4T3kWUcaZI3BpdOlasxH,6rkV9hz91Rr5iHnMRPZdEQ,1wQixSSWydeLgkebOzu3yt,7hZdzXAe5g7P23RAlnFFaB,5bJklzuYjjPmyoD47151fO,3eV6AfuNv2e29t2M0BuuVh,0fsO8vN1CSYiUo7vcEPI01,5UVHpkmh3Mfcm2N6fIw69f,1YqnIlUV1HerN7I0KJvMzo,5bP2LQEIYiAnFfrIx8XCV4,3naDDvqjwCTy6c1xZ1FV6d,1a9qF8g8cctPiaLfJzxVK7,08Ar75Td2vFXnKv750IAsC,1DxaNpUujd8r0rSiv8uCFA,6m192NGYZHIbO5UBkkM4oN,2bSF5Qs8IQE9RRaZIef7mO,5mUNFqUbA1bY9l1qT9tyHT,5l7tdLI34MnxnNyd2nhNIk,0QLyUmGkzS5BnNjjx8e6QD,72Pf3VRjCGRpnhCthX2oYk,6WnYONkaYOchkMXUz0Eu0W,0F8FJjvopb8WYgRXb5Qb9F,7i8BMZK89QmgxAAkyZ46WF,2QHmGfplU3ypWOGgJM46in,3crKPWQlqtBuLK4LCpRdOK,733fZquJgMXoPvjza0BfQ1,02KXSWEx7BuWZxUuzw6YOw,5Gj2kpzwsqJeCJvOvd0sud,6SxP6QQhVoMVeMu5gtvW8V,0E8q2Fx2XuzXCO2NSAppkR,3IrcvqIf3ZiBhf3xdsctRX,7nCONy10IHp7XD3oYZ0lcx,21RDsw7wzUJNl2FbWTgEfJ,7mCQK9YB25WZw1saUjfL4e,1AvPyVBTxrzTopmlPX7Mrr,5pgZpHqfv4TSomtkfGZGrG,3H3cOQ6LBLSvmcaV7QkZEu,186hvCTyrni4KT9nwIQ7zS,4npMbTuxrUA3Wd7edACZ2L,2brlPvLqHOS3oCMF7taEvc,5FLpPX4YlTNKyzWIDENHTL,4PKcAJBByGLhwHeCiXVbJU,0R3zVEKNxmE6PJPEx9rS8H,6IAgarq2wDeYzpsY2Kx0Hw,0AphwbfFSlGgGDlXGeiEpu,21kOVEG3bDCVphKhXL8XmQ,59XfkUPhqn61BhHx21HYjL,0hIGUS1PQbv5NIrHIf6Fza,3huV7eiNpaQlCB3LbZi9bB,5hV5cJP8Xri5pUSAA0MJGR,5EWMBfQzXBJJ9lChsGYw0V,5hZ0tNZfusgngcfrW3XtFD,1Ic9pKxGSJGM0LKeqf6lGe,5drcC8MOaSDONgXJbWbMJp,5Ddlk6C2JVxb1SReZ6O1wk,7glld4kxYHp61zIPtSVHNk,4l012k8ZcAdVbUvZ4kae5Q,651koV4RRMMX6NDbW1ElwP,1nFtiJxYdhtFfFtfXBv06s,3ZE3wv8V3w2T2f7nOCjV0N,1JIzFhI9Lt5FyslawmHCBi,6mib3N4E8PZHAGQ3xy7bho,2ZWKuGuQ087pzwK4vO4E31,3Ti0GdlrotgwsAVBBugv0I,6RBMpENxbx74lTdR5SBcaF,6AOiHpFFwVY52p3EaA7eHl,1h20yRsf5WeuHbohrlfcCt,0kpSlAvewI5lkdk1Mpqazp,0IVAlb0cFCH1cQ974iR1TU,2mu2oL9gdgHGtlg9poer2u,14R2hUgIr8eu1VogXoLqUk,2o2KHNSVo9VNwMTZkKqHMb,5Nn2Dj7OQsGL6pgQ9iIzPp,688AE3zw4QJJLzaIwB5VZz,0bY6SdYZcid3fzp7im837v,4TlYG3mKosVWfGbb9VfDh3,4z5L0qDduw3w1apQ4Qa6KV,6Mbm86B4joMLyCncLCESCG,173gp7NIXqk0MEo8K7Av4a,49ywazdbqY3q7uMGCykukB,5B3kUEYyQeQFLhkKuH6jFF,3lX49Bqy21Y5HneUJ7p55G,5Q4OndPgegGCR88wPsXswf,7xsvZuhTQEGsLfopzFjMsS,1v5cgIyffYtfEx0swttdoE,4LaiF2h7gsybmURceGYLqh,119c93MHjrDLJTApCVGpvx,5XLC8xoqyua4U7wJiZAWik,1Sgj10byiGzPpI2IrXSFEn,7y5zXpTN4J7K0PngQYa655,0KMGxYKeUzK9wc5DZCt3HT:\n",
      " Max Retries, reason: too many 429 error responses\n",
      "Error fetching audio features: expected string or bytes-like object, got 'NoneType'\n"
     ]
    },
    {
     "name": "stderr",
     "output_type": "stream",
     "text": [
      "Max Retries reached\n"
     ]
    },
    {
     "name": "stdout",
     "output_type": "stream",
     "text": [
      "Error fetching audio features: http status: 429, code:-1 - /v1/audio-features/?ids=3AhXZa8sUQht0UEdBJgpGc,1VKsbTJ78G5bnfyoPz46LA,6VTbbVjKOC2qWagIDbkJrC,6GLPIERsI3GVegT1EBBrZo,32BTFbqhSvYKftE0e8a8d4,3SUusuA9jH1v6PVwtYMbdv,7hm4HTk9encxT0LYC0J6oI,6B182GP3TvEfmgUoIMVUSJ,18oWEPapjNt32E6sCM6VLb,7lQWRAjyhTpCWFC0jmclT4,0HtuDxkKRBmlCNgFtXSJR7,39ErQSYqHIo3egPF6dm090,6Pq9MmkDQYZiiCDpxnvrf6,7hfRrdFJgFKK3cJ4rmkecE,1MJ5f5EYBC92ADD6xcz7nb,3oEHQmhvFLiE7ZYES0ulzv,1L5tZi0izXsi5Kk5OJf4W0,4z7maGZkAonDlXlwo8q69f,2fS3WRUilBxRoFMk3HVaoW,4tggZyGJMNJMooWuRbvN5q,3QuzslMgjJGsw6wC1E9eRi,2M9ro2krNb7nr7HSprkEgo,4vDBJeeQCbhP9FaPPMsYkY,0YMFcrMtBowDdD5bPz0cgy,3qiyyUfYe7CRYLucrPmulD,0JBvtprXP2Z0LP3jmzA7Xp,0QtnwXDziZN1K55fXuLN6q,0SH3ArZw24kjvalx0HSFBn,2aksifNn5ph8igDOkPBA02,4TsmezEQVSZNNPv5RJ65Ov,1dEy9Pl81QopSxNsPxXQxv,3D9iV6cYkYJRAPFO6DRKIE,0GGxVTb0UwDwdaKNjBdCn3,5HOQNAXcPSwV7Gt8AV8qiP,7obb4s6A7gf0Lc2AGxodMy,5VSCgNlSmTV2Yq5lB40Eaw,07nH4ifBxUB4lZcsf44Brn,7DNy5I3V1hFIJ4G5ObU397,60APt5N2NRaKWf5xzJdzyC,0WKYRFtH6KKbaNWjsxqm70,4LwU4Vp6od3Sb08CsP99GC,503OTo2dSqe7qk76rgsbep,2qOm7ukLyHUXWyR4ZWLwxA,3NGT0Td7H4Is1qrlDQJxma,2Ih217RCGAmyQR68Nn7Cqo,5FvlQZTm4eOGeUiAB1bKc9,6KIKRz9eSTXdNsGUnomdtW,5n8Aro6j1bEGIy7Tpo7FV7,52IuMfbQa9aqRPz2oYPAI8,1pOIpxfrQ8AszXZdKR3aH3,5YGLiu7ebWcnqoghFBk3yy,3GfGTJ2xzC0rqKgdjNJLOC,4OdhffpvG3HxDJMxYOKh97,7afyyi8zn4FzWbcJ70F56V,1koFbbNy8BJvG63B0ExZEQ,14XWXWv5FoCbFzLksawpEe,5XTdMVT5i5qcfyTXWxhxVZ,5qBqBdfTEIWJwAS0Jm2F5R,4Hbe0lRKsXtDZ2wQIovz7I,4gphxUgq0JSFv2BCLhNDiE,64Ny7djQ6rNJspquof2KoX,47gmoUrZV3w20JAnQOZMcO,3TlIt0ReIxPsVZcOEivT5U,4ZfQwNx3FlCN07cnUvekh3,7caj6X6NMX3tlhWnu1du6V,0VE4ayVlGs5DBoqOdgJ0Zv,06ypiqmILMdVeaiErMFA91,1H7gMYGykdtwZOV6s1N0by,4TGHOWSNAwUXn5onDQr0P1,5xc1DBXmB7MTajxDJ9cJcq,0WYu233HGAjMAu9UK5iHtS,0dNiLb9FEHrRK7VFDJctiR,0SwuCcwpFM6x4cu5zOvmi0,48ZUwXrEOhaXLCxvmRYhZv,7nYvUtkQMx1v80S2FH2s9J,2ImuQo1g14CTR9hZAZD3aQ,5Vrczz39CvlD3OGCa6utoA,2V4bv1fNWfTcyRJKmej6Sj,0k2GOhqsrxDTAbFFSdNJjT,3gbBpTdY8lnQwqxNCcf795,2kWowW0k4oFymhkr7LmvzO,0UoHcljfQxt61p77GDqFYv,1m3BAsNsQAaSNMD2M6vlKY,2TtUTMm65xZeqmF721Txfk,5EWPGh7jbTNO2wakv8LjUI,0eKyHwckh9vQb8ncZ2DXCs,2VSbEXqs6NbNiZSTcHlIDR,6ooluO7DiEhI1zmK94nRCM,583YTL8Fl6pCWtZAi2GvVZ,0Puj4YlTm6xNzDDADXHMI9,6JKoTnberZoBgUuxa6l4Kh,4qRdQm8EzQlkx7WmTKpI4R,4RY96Asd9IefaL3X4LOLZ8,2D1hlMwWWXpkc3CZJ5U351,69bHJ9qs5FrUJbKP8xU8uZ,5IweeQZdY5XEzStLzUJG5t,3SVAN3BRByDmHOhKyIDxfC,2fXKyAyPrEa24c6PJyqznF,37CBHPCzV1rizPrxRUyR72,0vek0LcCbvcMtj0GkXMMJy:\n",
      " Max Retries, reason: too many 429 error responses\n"
     ]
    },
    {
     "name": "stderr",
     "output_type": "stream",
     "text": [
      "Max Retries reached\n"
     ]
    },
    {
     "name": "stdout",
     "output_type": "stream",
     "text": [
      "Error fetching audio features: http status: 429, code:-1 - /v1/audio-features/?ids=7AzFID6u1b3zIWbd9pb8Dk,1BvpeiApX8qhof8Pmi3YlH,4vpeKl0vMGdAXpZiQB2Dtd,6WAerOuiLIApXmGhjMPA65,34miSNKQ0xN7EG8zzzaFzI,1eamsmwcYYhJwTgMFdQ6YN,0QwZfbw26QeUoIy82Z2jYp,1jMaB19DiVR8OihLSuYFOt,1wlKw9NAWVWpx7OIAyg9EA,2RVQIq7bLi4Eu6xHPyQ46t,29SRvYOKbMLOZeOubNGtLb,5UwbnHhjnbinJH8TefuQfN,7BY005dacJkbO6EPiOh2wb,7vJaNv4ItDyYXXCVRJreh6,2ACCqi93Mm4oj9bBNEngCQ,7txxAtOMwLLnQTpKeBL6bp,7vYA9ET5AUqJt5pBbhKmcB,07q0QVgO56EorrSGHC48y3,6KTv0Z8BmVqM7DPxbGzpVC,2jz6rWGqVCYsymwxGoaON4,1brpdmqkx3kSxyqzqXfW7J,1HL3yEnYq8LEyFQ3QegA5V,2FfZg072w8RoxlMOR7M4CT,2BjUvisO4UVAtTHs4lYiqu,65KzDXZm9aQt8sA1k0ZVG3,2nklcPJ3YhYJfC2ibStXz9,1OFKUn2VLafrHj7ybnap0Q,3OltYYcLZUhvho5QoRbUNr,37EJtTS7jT5WUyXGZzrwnI,1FvDJ9KGxcqwv1utyPL3JZ,0WQiDwKJclirSYG9v5tayI,1YrnDTqvcnUKxAIeXyaEmU,2OErSh4oVVAUll0vHxdr6p,6BrMEbPSSj55nQhkgf6DnE,1RSy7B2vfPi84N80QJ6frX,3c06k9x6MHHdPQi3ix68yF,305WCRhhS10XUcH6AEwZk6,7MH7TkjQ4RA1vG454dciw0,4qeebkLFVb8zbNZIwEpqre,72boGlgSwUK01n44O2tOCv,0gdmDP6xy3ZV7JNoHWAN9k,2AX5E86cn9n2dgioZEjirI,127amD6XCyrI15H3jVDSmC,4czsX9Yl9As2oC3pjRkARq,1rwGdnrtWnPYBipRrjnzEm,23QyZNbiKujRQjE4omMvRi,5e9TFTbltYBg2xThimr0rU,0ofHAoxe9vBkTCp2UQIavz,254bXAqt3zP6P50BdQvEsq,7tqhbajSfrz2F7E1Z75ASX,46MX86XQqYCZRvwPpeq4Gi,3qrEG6rQ9Qm72MNWeUKKiU,252YuUdUaC5OojaBU0H1CP,6Xz7FeyE8HTP90HecgHV57,35fqvg4rE0pzPeUj42nqQT,6BJTagJUFeUxHpVWxTmatw,75GQIYnRaBg7ndHxhfYuQy,4yjz1aazw6R8ZURpGbCAkp,13Mzsb8VzRSZ5w3pM48cn6,0Pu71wxadDlB8fJXfjIjeJ,7sJN693sYKEIEMu7fc5VnJ,6sT9MWlJManry3EQwf4V80,1B75hgRqe7A4fwee3g3Wmu,2eF8pWbiivYsYRpbntYsnc,1I6q6nwNjNgik1Qe8Oi0Y7,2wSAWEYUHkt92X4SBAPqZE,7uHO4AmKtyGa5v5fsElGoC,39shmbIHICJ2Wxnk1fPSdz,0F1O42piteiHP3dRvKUz6p,1YQCRXscu8xE74BVVMUCRr,5HQ639Z3ms3hnZx0KfWnkp,3OeUlriM0EZHdWleJtjoVr,2H7PHVdQ3mXqEHXcvclTB0,4W4wYHtsrgDiivRASVOINL,65vEK65KeqeH11s3Ym8BWO,0Ir0Esfpcg0EB6Kq8VbbAh,4UB3TaEGEY9WoOpxYNMgy4,05RgAMGypEvqhNs5hPCbMS,6HA97v4wEGQ5TUClRM0XLc,7vidktgNZFQylTgH1GEnMs,2gQaQUhDCNGfBVXTvxAmXQ,480dDrqG7LO6qDaphHeXlM,0CsM8VGDi38kusMv3pxyj1,65E62rOSbm7SZbAMYjNTJq,3VEFybccRTeWSZRkJxDuNR,67ncFJWaIbJdqZl1bpEppz,2JdzB67NvIa90K4gEZPLeX,4pl3KL59qGPUUeNeYwPrOn,1C0pmryC2MdXfa7MZ9uIrU,3LklW07tvdx2AHsgfi1Mng,17hdos7cv1vAvcfoTU4Pym,29capylmokCeuNAWqGitij,1Dr1fXbc2IxaK1Mu8P8Khz,3tyTt5pEWblt96j1HsXiV5,4sutLmjkVKRN6pOAMo2joC,45Ia1U4KtIjAPPU7Wv1Sea,1FneEQoaS41dMjX76qAVL3,1eRqy8jW4ZLMJR6dl3xsgI,74EV0g12ihUoOUXMprFpZB,4AOuWMwBYlZ96c07ye2w27:\n",
      " Max Retries, reason: too many 429 error responses\n"
     ]
    },
    {
     "name": "stderr",
     "output_type": "stream",
     "text": [
      "Max Retries reached\n"
     ]
    },
    {
     "name": "stdout",
     "output_type": "stream",
     "text": [
      "Error fetching audio features: http status: 429, code:-1 - /v1/audio-features/?ids=5cFcWAWIcnV38t4YCWQiZZ,0UREO3QWbXJW3gOUXpK1am,5p3JunprHCxClJjOmcLV8G,2hdNya0b6Cc2YJ8IyaQIWp,4IU1RL4BKvFyXtbTwaHAvW,6AplSHtiSr0cqimR27ghdV,26VrotMHCu4m9I1rbHB1GN,4WamMWxFi6ts3xkIhivF5c,4qM461TqtpnP4GLRIXwEnW,0qPeLt28yVM4wScp8qt8xY,1v1PV2wERHiMPesMWX0qmO,4XRkQloZFcRrCONN7ZQ49Y,2BkqVLVtEokchvatg3XULo,00kvKlIvfzQLSi6T2zwXuS,0QX4u1gl2VZ6HKShy7BWEn,7aQjPecQdIuNd1sz3KCDhD,0JgMHia55MBfhfqZIRi3kF,1dv3ePjze9tPq2pk8eWJdR,1zGk1kgAxCpg6PHjGuLe4J,2J9GLqNATExevUPvpLU1Sl,05B7Kc8fvBlX0OWbE6piPZ,74iQ3gahRTOGc19bYadBE3,3SdingSsFcZDZAyvcJbgAw,4RGxUjaCmVtD30pIhtEi7w,5u6y4u5EgDv0peILf60H5t,4YMQXzscifAREG0a7KNGhB,2WoqgtWEBbbBKMDN6Becs7,4ZVZBc5xvMyV3WzWktn8i7,1DKyFVzIh1oa1fFnEmTkIl,4T5SR1krNuVLOnxSjYb8nW,7weLWbJdUz7ZQR4ZJX6l59,3x2bXiU0o4WbsPkawXlfDA,3LQPTJEqOfljGBxmpgUnoC,75wP08AtMfGfjk0nPdvVw3,7Ar4G7Ci11gpt6sfH9Cgz5,4J9qfNgyYFAkUK8oIOohN1,1aDLUzCyYpRXgrjwUWzV2X,6WrnSlcN0dzTO80mVVbBto,2x8evxqUlF0eRabbW2JBJd,0YQXMFYxfHNagYPgQvurKH,5z6xHjCZr7a7AIcy8sPBKy,6hTcuIQa0sxrrByu9wTD7s,1OppEieGNdItZbE14gLBEv,5R0v2GLujsGk37QCkGdvMQ,7cz70nyRXlCJOE85whEkgU,1MQCTOWVfy4PcuBXkBsHVB,7Dbg5O9nNWu6SWxDjJ9qoq,71SvEDmsOwIWw1IozsZoMA,74DrA5fFoGSy4xgkZarZtP,5vVuiXoHyRGxJeCaHUpgae,1qiQduM84A0VeH8Y2uAbqi,70Z9t1qhytWtG4cCmmi7mU,50IT6uy1C9ar40a6XxwBgQ,3kZAm2TC74lBJFPDoV40Qc,5u6Woby9oKAF8LhhuxykH1,2LFXPIUZ15oUjUTTtjS2s3,1dbQNSAXlOEtngcIZAOfPO,77lHSh6eoMiKWRxczAPQ1k,2tP7ZekzXfduShx8C6cbll,1MLUxFwS1d4eY0JWIEkn4X,44YNrK1HKWST0a6hKIyfG5,4uGIJG1jYFonGc4LGp5uQL,1BmVQ5RGqqtF5cnsv6cQYu,4JLcAU2xY90qTkTSNM1lUa,6urCAbunOQI4bLhmGpX7iS,0JNZGIavoUrdup1NsgJOQs,2AdRSHeYmDGMrgIfiS2w7K,4vEXJ6NvEwS8ptynkNswaa,0pxThPQcINQ8bBGFGYMwAD,7xAJpAeopaV6rilu3iiwME,0vGyXveSjPnALkLiqfZDOg,38XOEv37waF4pd8Ztmna7K,1qHXpsRP2gwteJCPUrc9wA,6igsoAR6Co9u7Rq3U7mlOD,49OMJ1prsRA7ZYgrAjz70c,6ihObRBTB8xdSH2mlERtOX,2gUJfXmgVvnzGFk7J6dZch,1kHpljP6paUsQyZgwFDfxn,6YcJ8Lv9Q1SdiFRSC8DY0q,6EPRKhUOdiFSQwGBRBbvsZ,2GLWUcp5vNWaYNP045weFZ,3VdaHDwoSEnu3ahDahD0Ci,6gPEmrr5q5MNutPRYDSrBm,2yhNaKPWAbB7BtBq5Avs8N,3lm3FtlMhtha5oAywLwRt7,40dSOCGECiDOhY6GHzbQSw,6uUqBB6wXrcIJWssTRfIYE,2k6nv7410E3ZJICdm7fcdH,5WSgOxD1Q57PK60m3UHdqD,4Hsz28zAMAHUZ5DdY6DVSX,7LhkZyG3g9rVU7XuJx9bXg,2sYLlZU3FuCF8SKNeIvdKA,2JKlf0IYz5oWsT3OCLyjpO,1nXZnTALNXiPlvXotqHm66,5A0M6B0RBSXSNWv0wcppZ9,1hz7SRTGUNAtIQ46qiNv2p,5TxRUOsGeWeRl3xOML59Ai,7eqoqGkKwgOaWNNHx90uEZ,3Pt8XN6zWFmW2ShLna8Ttb,6vECYJHxYmm3Ydt3fF01pE:\n",
      " Max Retries, reason: too many 429 error responses\n"
     ]
    },
    {
     "name": "stderr",
     "output_type": "stream",
     "text": [
      "Max Retries reached\n"
     ]
    },
    {
     "name": "stdout",
     "output_type": "stream",
     "text": [
      "Error fetching audio features: http status: 429, code:-1 - /v1/audio-features/?ids=6acDlNeA06MCVCzsTVGr9V,5mpLcXEsk3jjzLFGuNKk5I,4KW1lqgSr8TKrvBII0Brf8,5CGS4UovzA7ftCJkLVXQju,19a3JfW8BQwqHWUMbcqSx8,5dANgSy7v091dhiPnEXNrf,2cbic3TiUENlJX91y67ARR,2LthqyP0MLhGUBICwR1535,3rCNmRonlHN1TXQLcG3dSk,7vgTNTaEz3CsBZ1N4YQalM,3s7MCdXyWmwjdcWh7GWXas,722tgOgdIbNe3BEyLnejw4,4cAgkb0ifwn0FSHGXnr4F6,52NmkyHsGsHGb1UX8fTkMg,6vB49BJ70zBpDrrAPwdaB8,5VzeI5JM2y9t21JwrWAnkH,5RjbFGeWVsCpw8EcE8OrvZ,2aHlRZIGUFThu3eQePm6yI,4jQqM4NI79HEcWHUJb8Hvf,6ScJMrlpiLfZUGtWp4QIVt,795LIYKphBOsvyMh5hZaPk,2ovQ5MCx91XVjgVWEPfvks,23SZWX2IaDnxmhFsSLvkG2,7yNK27ZTpHew0c55VvIJgm,3ZXcjz3A5vNsR5dA1e6ITl,4Vqd7MuPVrciqRS3EzhKWb,6JyEh4kl9DLwmSAoNDRn5b,7oHkit3F3vimtsBbnZkU0G,287tdUcso07UAu5jxXB2BQ,679RG1vQ3m1liChyglObX9,1jDit1o3MxkQxFDVNdYX9v,4qikXelSRKvoCqFcHLB2H2,6tByydPskASjm9jTPkNQq0,5rk3EqsP1iHuQn5tkC1Qw0,1L94M3KIu7QluZe63g64rv,5Xak5fmy089t0FYmh3VJiY,3xAka0D8585mDoShALnsd7,5jn6ICg6disx9WmB1q4gfS,25dlB85u7PUsXA7PlMok8L,7LVHVU3tWfcxj5aiPFEW4Q,3AJwUDP919kvQ9QcozQPxg,0FDzzruyVECATHXKHFs9eJ,0BCPKOYdS2jbQ8iyB56Zns,69uxyAqqPIsUyTO8txoP2M,3JvrhDOgAt6p7K8mDyZwRd,5LeB999d5zGavmLn8zxExw,7tDbbfzB1d52lWP8rq8zRZ,3YQ3gz0squO7NpTnQhCrst,77YZzLi1eyVUsTchJKmPYT,0dMd4rilfd6gPbXaLpNYhu,6UUI5eyZkA3XOroh0dslqc,0QeI79sp1vS8L3JgpEO7mD,0UFDKFqW2oGspYeYqo9wjA,2nLtzopw4rPReszdYBJU6h,18lR4BzEs7e3qzc0KVkTpU,5sNESr6pQfIhL3krM8CtZn,57BrRMwf9LrcmuOsyGilwr,5W8YXBz9MTIDyrpYaCg2Ky,3FZEg8UWOwKzJKzKT90hUZ,0gmbgwZ8iqyMPmXefof8Yf,6n9yCXvLhnYMgJIiIcMu7D,0ADZ5dmXhlfzjMw6lefoPl,3hb2ScEVkGchcAQqrPLP0R,3sIsG7vDZr17BVimMeZZQS,0JP9xo3adEtGSdUEISiszL,1PXsUXSM3LF2XNSkmIldPb,5G1sTBGbZT5o4PNRc75RKI,5lN1EH25gdiqT1SFALMAq1,0VTfnZjTjFdnqYnLDLnIxy,0aMHIW1lqrulVCx0LLlr6a,23Ij3xEFmYkRl00dDJCVMP,30HCB1FoE77IfGRyNv4eFq,6ajyEEzWZbw8ycDcJAN099,4HlFJV71xXKIGcU3kRyttv,7FLpaXPZHwXkhgH2gK1VWb,39Bd345OWEhRNyfayhp9gv,0KKkJNfGyhkQ5aFogxQAPU,0nJW01T7XtvILxQgC5J7Wh,6b8Be6ljOzmkOmFslEb23P,3w3y8KPTfNeOKPiqUTakBh,0kN8xEmgMW9mh7UmDYHlJP,0HasfWMrNxTjycDy9TkRtA,4VYbDiokszg5vrXmHxoMtC,7ACz2RanNIfGzr4J3VDDbI,1UHoHmHWdu0EX557Oqoq2P,3B4q6KbHbGV51HO3GznBFF,4eamJr2k9YDH8j58RSTmSc,6lIk5tgKezTTpxq1do60Tz,0BWravaqj9rKdOU8RWXhuf,7G7tgVYORlDuVprcYHuFJh,5fVZC9GiM4e8vu99W0Xf6J,1tAYRLdt87OJFFoTJWfCnX,3ZffCQKLFLUvYM59XKLbVm,2OFrAsP5Vrcb0DtsPNsm54,5Qel1sTrU4LM8HlJSPT2jd,2CdS3DRqWR5LAhy4hM5X9W,7o4v78giUfFetGl499W2b6,0XmIcjpIdeylkcnrBIDFe6,0hDI3kdqJq2s8TUwQiliod,4UT4wIus7M59hBZ94DzNcd:\n",
      " Max Retries, reason: too many 429 error responses\n"
     ]
    },
    {
     "name": "stderr",
     "output_type": "stream",
     "text": [
      "Max Retries reached\n"
     ]
    },
    {
     "name": "stdout",
     "output_type": "stream",
     "text": [
      "Error fetching audio features: http status: 429, code:-1 - /v1/audio-features/?ids=5EugXICXL06waHgP4iTI58,1H5IfYyIIAlgDX8zguUzns,41cpvQ2GyGb2BRdIRSsTqK,31pi9vJJWHZxygk8AoGd0d,6FLqFu1ApSkUddZ9P4H6Io,1dF5Y2dd7Wm4wZKvVjWBpr,1mqytV5qZcmzG6MgvJCpkQ,5bHktj4UtEORf7uNWTtxnA,1WYedq08MjytnpXfoM2dl2,0RpBFgNyH8PkOjhG1melFu,2o7XCPsOg3kmvzyFFAbDFz,5VdZARV82uNjclgnDsVyKK,5xilD5ciilxBybht1YGHkD,1W0OCrMsRP1SLTEdw3JwEz,6HZ67VImxqr8aMBEEhblzf,0yx5Hqp7XOG8diGKYbFdPc,2HsjJJL4DhPCzMlnaGv7ap,66MwdlxiFMZ8TJGLEJnS7x,75hLNJfiXV5k2YGrbGEW51,3skn2lauGk7Dx6bVIt5DVj,4Wvr1YaxNsCujq77dKujys,6l4TNbfPtNAOOlGIfceSaO,0b4mzNWt82CE52JGNyLqOX,4vO9dmzNRqDhFY3jD1a3P7,1JkZg3eMQTmTn93E8Yd3UL,7mzHEzbsl5iOvBRuXwReZU,7LbfuQVct78YoghmoPtsQ8,5ZLzl6T8JwqMTMdoE0nCbU,3x1v32I3SZNvC7q7bDhcGm,1ZhrREyOOeFV6TxDOyiPwu,2wvMC5EyaaYQwBfiwwY2xE,1CS7Sd1u5tWkstBhpssyjP,0SFq19lgG4qbQAZaNZ3xhO,2DNXgvkyv35vTWvdgjs7qn,13HVjjWUZFaWilh2QUJKsP,7lGKEWMXVWWTt3X71Bv44I,22VdIZQfgXJea34mQxlt81,05SBRd4fXgn8FX7bf8BCAE,2nZ33CKRbgpJQJJQKHuGXb,4M88Wd7Aps5LGRWMOC7gSH,16DhvbuyvJob4Q9GHNYu2n,0EbnUc05YEKhZRKgbrZWpq,43sNw9nvGYGLYnNiwI8oMZ,3XorCFmcupSm5QS6hA9g4N,54EvqHberbpzMu7nu8hs9S,0B1zVsLqmV9ibIFdNS5tGs,4Qs8uJL6dhsJJKl2rX8a9F,43eBgYRTmu5BJnCJDBU5Hb,4UZlEcQmkAeh4mYokk8TNs,6JI5wNWYdBw68GZjOMmgK5,5z7mYFfhw6N6f23VwrokJD,2oLwDI8tZUOh6SmTMRRfKs,2KpCpk6HjXXLb7nnXoXA5O,0zLClc0emc6qUeV1p5nc99,49fT6owWuknekShh9utsjv,31I3Rt1bPa2LrE74DdNizO,2T8bL4YC49Ska1yl74qcS0,1x6jHJGczTBitBy06hIWgx,2DHNCWZYmVr1Lv08q5b0kB,46OFHBw45fNi7QNjSetITR,0IW0qaeyxL5Et4UG2MrJKB,4mmkhcEm1Ljy1U9nwtsxUo,5ojzjZ4P2S1sEDHcFMsjPQ,5r5cp9IpziiIsR6b93vcnQ,55yvzYuvJYG2RUEnMK78tr,5Mtt6tZSZA9cXTHGSGpyh0,20WSCvv9qfQHzYzTaLyXHH,3BjQX42wrf1Ie1AopSnUGV,41mclLjggl2nmbYpRisKrh,2rE9fz2WTQ2PFhTHeXSwTf,3fMhLXdvEkyxj3NxwXvkOx,7pegxVesMmE2qK0o58xoFG,6JZv5f9ufV0Uz7VbGpd2DL,7qPdc4CH1GGZaHBImyoZ69,5nMfIpT4sBRTjrNwhHKZxE,3iFYY09Z5yoNy1QnJBt4AR,4qkwbl6SxwLE09pxLAFINt,78ECvz2vs1obDkLdbMEdJK,5uuWDZStMaeGI6RoaXGct1,4cg1yakyRSIOjxKM2I7J1q,6EOKwHETwSkZ9gW2b6ASE0,1EZJBB6bvCcrvYRlOyoHuf,4eLn7z31zqzEdlKSgesohf,41Az1BCotlAUt7Ud8k6H2Y,4VywXu6umkIQ2OS0m1I79y,40lm5PFVQopOYaIXmyWNS9,4fjzDf54eBNOlW45mNe14U,5piJiL6aRhvrKBa9YuEfS9,2Aqc48sn8He26hmTvQ2BMj,1yuwn054ErrOWqjjk51ldD,4uTTd2SlalZoG0zVgI63kH,0ToHhkK4qtwEyKOxhQpMbJ,20MxJN12WEqU5eWsuCrwM5,0y60itmpH0aPKsFiGxmtnh,1cLfXnBwTFuRngRZfQeLof,1l1YTy9nJ0trwhsCGcimly,3S1HQf9rj1iHF0NIaiJ2vQ,4YZbVct8l9MnAVIROnLQdx,0LtOwyZoSNZKJWHqjzADpW,5cUPyh1wqCDWd9ngbf13Ac:\n",
      " Max Retries, reason: too many 429 error responses\n"
     ]
    },
    {
     "name": "stderr",
     "output_type": "stream",
     "text": [
      "Max Retries reached\n"
     ]
    },
    {
     "name": "stdout",
     "output_type": "stream",
     "text": [
      "Error fetching audio features: http status: 429, code:-1 - /v1/audio-features/?ids=1DunhgeZSEgWiIYbHqXl0c,0rTV5WefWd1J3OwIheTzxM,7wmYgsLNRB9EpqpvR3hkvN,11bD1JtSjlIgKgZG2134DZ,2AYEOC02WLhUiOoaig2SEH,6eKEJZFWllRX4UALhPU967,0ieQRb0HOzAOycmxanAmVG,1CKm95B5JmaSCnZLquInM4,5i9XNqv8ay4PXRBNxfwdfZ,0FBeVAGy58YREuZK2rpRVm,01w1oN1WO5aOThHnLBN8eS,0GVvRmCoiLkhxJvlZy9bLk,1jOORGv77XNdt9B6lqk5ze,5MZQIjtghyFc4sMVUzD7MD,26zo23frbrONsEJs6m2drZ,0GSCAqCsmp7OVUWwC6sSgT,2f14Vwn28w1soYnolluueL,3dKFxCpVtK3g9KAB8S1FwY,1nLnpLXvl68RZCSjfkyiaa,6K4t31amVTZDgR3sKmwUJJ,6ewQE1dNPv9qqlnB1CxrvM,6vqJW25vQ2X9t5Pn7UZD0v,5uDASfU19gDxSjW8cnCaBp,4dAMdQ6g4kGmnc1MDHsg77,7zBPzAjKAqQpcv8F8GCq5s,2qGgFxiXWplBWJwk4jYFuV,08mG3Y1vljYA6bvDt4Wqkj,5LNiqEqpDc8TuqPy79kDBu,5ihS6UUlyQAfmp48eSkxuQ,3sNVsP50132BTNlImLx70i,7c1Dar0pIAW7w5TzaGjt9t,4dkoqJrP0L8FXftrMZongF,4bN43jYf41eIjJZ3UXQpuA,4IoYz8XqqdowINzfRrFnhi,5dyFRTACKvmwoIg3vFLhxr,3Y9wdXMh6sNt9fUwUqTqb7,5HgE5eXfu0An2moseSM635,1K5AjxsfnJ8iaptRBngN1Y,4fXoeBGrVWfNKpdcmL8tw6,3j3OB5PFy7FewVi8l881kN,5uuJruktM9fMdN9Va0DUMl,1ZPWWSwCkxKfqdp4H0RFCo,2AT8iROs4FQueDv2c8q2KE,086myS9r57YsLbJpU0TgK9,4Q3N4Ct4zCuIHuZ65E3BD4,5FDCDBFDKpf7TLzDx6r2Lp,4fxF8ljwryMZX5c9EKrLFE,500Tkm3vJmVtdUwdCVxCTb,6rHh8urosEFRI67xVa6fzU,5vmRQ3zELMLUQPo2FLQ76x,5Hws6nnJuqf6rJwZGA82GG,1G6eFFDRaLr9EbThnhzMBD,2MLHyLy5z5l5YRp7momlgw,6ITuEsxEy2qPhqMowdDAeI,0E2UdlzNQP9I70MYumYlFo,6QUngYwZ65et2ye7Bj85EK,3BOQOd4qPpdiwvqMQyh2Yg,01nkjRsgpYwtbH94l7y4cg,05NYcsjJwOYq4jIiKPVj9p,0725YWm6Z0TpZ6wrNk64Eb,07efOAoPwcRdd4W6gi8BRF,0D21XvHcVsIvJM6FcGY2BT,0HGw5lOfXs8YFfYX996Q6x,0Ls4WLphg1obbq7wTPiy7k,0PQoUlzP7ILdcrzpajHXc0,0QdagWnOd3GzMCBu57efgp,0RFgvrhkf9FiDRLA0BhzpZ,0RLLvYBopDwooCyvnTwgYu,0ROtxObpdDA25o5DriPSOk,0UV5zxRMz6AO4ZwUOZNIKI,0Vth3l4XAo8hNYmxjzhr2y,0W64NfLrIsRTAFObko6uJx,0W7tfWpG5HeHNRECFdsyKy,0X5C4WjQNubRysTkHOubz3,0YAQnYt2oB8OdoaeqnHyTI,0ZBchpb4CLk5Qqu3895Etp,0f0mS3iqwIasHZMcJZOtcZ,0gEyKnHvgkrkBM6fbeHdwK,0hrBpAOgrt8RXigk83LLNE,0iMN420Q45isZVNlAqzPTW,0jnFDxgNhS156vu6roUVco,0nbXyq5TXYPCO7pr3N8S4I,0scQIzgcOhnmfqfOTpRUFH,0t6DAi9KEiaWOtgTTXGhD2,0udOCZp7yk0Ml92C0k8H8D,0vz64VTiPPBpcmla0QvAI9,0w9aWiDqZPCOCOtRTLkTPd,0yLsJKNJHmSnmSGl3ZodYn,10MjGkQc2X5FrOcsXjGgnB,11VwZwNF29HrqwalYUMitb,15Nn5EEGQqlptGwiB2NVYV,161DnLWsx1i3u1JT05lzqU,1DWZUa5Mzf2BwzpHtgbHPY,1E7qCptwRPfvZrIDyDDgjh,1GqlvSEtMx5xbGptxOTTyk,1I40L32fTSSkBkPeArX9Ul,1I7zHEdDx8Ny5RxzYPqsU2,1OuN92HcVG6NVpWbeESNB3,1PehfITh0TTRx3LkDdV4h3,1ReO26lbDWtjPdtsaWzSXS:\n",
      " Max Retries, reason: too many 429 error responses\n"
     ]
    },
    {
     "name": "stderr",
     "output_type": "stream",
     "text": [
      "Max Retries reached\n"
     ]
    },
    {
     "name": "stdout",
     "output_type": "stream",
     "text": [
      "Error fetching audio features: http status: 429, code:-1 - /v1/audio-features/?ids=1SmBRixLyEMeG4EwsxoL7S,1WCIA0j4sJfXAj0y23XbSP,1bSpwPhAxZwlR2enJJsv7U,1choyAOWcbOWJNKnUkpQGs,1fOkmYW3ZFkkjIdOZSf596,1gGsNNUfvVMOv4llVMg8Vg,1gm4Cue3Nrw9Q3ixjPfEYr,1huvTbEYtgltjQRXzrNKGi,1kusepF3AacIEtUTYrw4GV,1kwnxJNVl7cwcU98RvMBaR,1n21ZBt3vM1u4r8vkhlub7,1tqT6DhmsrtQgyCKUwotiw,1xqRfUNinqusubH9EnyQM8,1zwCCOoWdeS3d4ITQe8kWT,21jGcNKet2qwijlDFuPiPb,245Wu7BJnPFXGzA0cb0At5,263aNAQCeFSWipk896byo6,2BOqDYLOJBiMOXShCV1neZ,2BlPpQDClWGXuYttAmQcBY,2CwMxEXxMiLRrKPLjQLmne,2DPYlWl50ydYsnnuryL5aX,2EQWbkcNoKPOXQtJM7nqRV,2Fs18NaCDuluPG1DHGw1XG,2Fw5S2gaOSZzdN5dFoC2dj,2INhKpUdzh7v0j041gZNsz,2KVwlelhxKUy8LVV6JypH3,2LMkwUfqC6S6s6qDVlEuzV,2MAaiV0bbeq4FpSwPe2rR8,2Mb3zpobD0CvJGWv6NpsPy,2Nh2cMryoXl7BrZoIeN2Pr,2P3SLxeQHPqh8qKB6gtJY2,2PWnAe9C52xvJYhBFNuIqm,2PpruBYCo4H7WOBJ7Q2EwM,2R0MySb9tgrWIv2mttYAYR,2RH61BqMEeRjfND7MQBWHU,2STQAr3BRiAeeveJ07gZh7,2SwLswBtbxloI4uMcfkfLf,2TjnCxxQRYn56Ye8gkUKiW,2V65y3PX4DkRhy1djlxd9p,2Yv2mHzr5AQavVdwQjEokV,2ZWlPOoWh0626oTaHrnl2a,2e2P8zydI5GtcaVhTkOYa9,2eGHyarZyRvUgFI4d3G8GN,2fAovTFVHE6tfRjZDpfu8W,2fx1hkMHTVdDim274rwoPa,2hFX1UXWmd3GWJdSgGMVVw,2hwOoMtWPtTSSn6WHV7Vp5,2iLxxLKSwhVyQLIhwc5HCJ,2iqKVzMZpyUVPwxIVaQkhm,2mlGPkAx4kwF8Df0GlScsC,2ohegz9maxzroKBu9YhcCM,2ouURa1AIXp3AvkS52Jry5,2rEdmsqaSMd4Ci7oH0tMbH,2skmOCFU64Bg7Ytkgwliwe,2tznHmp70DxMyr2XhWLOW0,2wAJTrFhCnQyNSD3oUgTZO,2x5Frs6ts14U4MSLrQQlXg,2xbI8Vmyv3TkpTdywpPyNw,2y8PnhXwnyHTxe72TtY58e,2ylCrFiBu98SC0vFfaCent,2zk7TQx9Xa4yxYmsjgDCPp,2zsa7Z6gCA5eBg0p9pbyLs,33pDmPx2pkJ7JCAQpRDQ9B,34rzJNfTd5e9s3TICFMPD0,35xSkNIXi504fcEwz9USRB,36GD0MfEddCO5VQTHXn4tZ,37ZgsOy8t4vMnGtMExr6ah,3ABMOigVNYNSvVD6ix3lpi,3BFKNc9YZltqCYn7eSST4h,3I8MbKRkS2IBDuslhCS3iT,3KZVWVH4epY2JGaqRs8bqg,3Mbkhd9tdMwyqbrVE3IODX,3ODXRUPL44f04cCacwiCLC,3OOFEF20WqtsUPcRbPY3L7,3PbsDnKdrZY0ttX7VE9s5R,3QbxssGJGFOvHEk6t6l3x7,3QmUhaY5KZiOuaUH8H71LG,3R8CyhJfVjvgIROd5RSGhQ,3S6N0Wbem9KV3DBcYNfXuv,3U4cX8v3BtumWPc39P5bwd,3VARzdu3UROBHiLQgubcOA,3WfSNAoj2D8C9noPSGZZFM,3XyU03WycJQ02kExHb9dqW,3ZuT0Evo8chdVM6rPXXqgd,3bBmpVl9rQKJsFFGLFilIS,3cCxoOgfi6hgt8MNteuiiD,3eR3HkiXriem3IUFxliBU5,3lUVy400HL94NB03paDTyN,3lUx27TOwV2nAiKwnYYXxe,3mjQT6aE0mvrffreC9OvWa,3nFJbZCHP4d9vduKjJLdBL,3pXF1nA74528Edde4of9CC,3swc6WTsr7rl9DqQKQA55C,3z53rfQOg6Eb5pBCRsd7Uu,3zOxyD52IxSZzqWsKzABOe,467xSJTy9yUh7T6uaczra2,4AH8GJVosfrbfhe5NVTAnx,4AqfCW0jMeByTMZdoqHlH4,4E1Rquqd8ZAnOy3BYK0K1Z,4E6cwWJWZw2zWf7VFbH7wf:\n",
      " Max Retries, reason: too many 429 error responses\n"
     ]
    },
    {
     "name": "stderr",
     "output_type": "stream",
     "text": [
      "Max Retries reached\n"
     ]
    },
    {
     "name": "stdout",
     "output_type": "stream",
     "text": [
      "Error fetching audio features: http status: 429, code:-1 - /v1/audio-features/?ids=4H9fsMhr1wLk3xb2o9BNm7,4JRem7xHp2l0kmUvt9zCKu,4JT6HZ2qEbLKiRm1W5rqHV,4K1DB7EedHPuVnhVrnvf2U,4LLBKnNCrSRrSjSTuiwjE9,4NtUY5IGzHCaqfZemmAu56,4Of7rzpRpV1mWRbhp5rAqG,4SlCb8n5Jw52astU7GWPyV,4TQeNHx85xcP9YRkvJC6K1,4WiGGTl7Kt5vnjQHqwLJy1,4XiGKQqbmnMVxDzUj6j3f2,4bl1HBZliBuYpFZjWgefE4,4brX8MJs5hxErgq48f9REO,4cix9zymmhisLuM56RDcB7,4eP6oyNbAJcViaiHtPsOCh,4gMnvtp0lXJY9GkgPGcELg,4gh0ZnHzaTMT1sDga7Ek0N,4kfavrmsMwzD6QnB3biWgP,4qk2jIJtrItzq1kU60UuZN,4rrbptVnZifk4wC5mvNDPm,4rstj4vgkFq49R2VV0fbxX,4u7hiFNXUeTG3A4dqQrkcd,4z6iezaEzhJiyZdjazGH5z,50jEs9EZZgXJ1oDZVAv7Wp,51rPRW8NjxZoWPPjnRGzHw,53Za5vyGc1x7GxgJVRjRKc,56SkdBKyR2zOkjk6wVFI9s,56t3gitNr5atN5i1FF8r7P,58ge6dfP91o9oXMzq3XkIS,5GUYJTQap5F3RDQiCOJhrS,5H6Jp0syB5yEPk7SWYdlmk,5T4j3Uv33fQO7tsR2lMl4y,5VErNsWF69eD0HiBt2vWcH,5VSAonaAPhhGn0G7hMYwWK,5Wj1rJnCLpMHdLaxsFtJLs,5XSU59wtE5CRCAEyHmmGy4,5bknBRjKJZ643DAN2w8Yoy,5cXg9IQS34FzLVdHhp7hu7,5hVghJ4KaYES3BFUATCYn0,5jhfa76FhqtD3Boij6MAKS,5lcyIeEfwZTs8Ajw3kdF7P,5mexbTuWx9d8DPZk4sDGF4,5od7xyJpszivAXNkBc5SL8,5skSXhZ0LgiBH3N2AoMisg,5veJDT0MLsLbhYsx42GXUD,5vxxxDUtwL7D4qeudh3B7e,5z7IUiSO8yX0169t4KGxOv,608xszaAxVh4m7NcKJiAbF,63izWYS0oqd4kTZU2W0CON,643PW82aBMUa1FiWi5VQY7,6Ceejf3zBXvAhIY9DbP1Pr,6EsBn1Md8C5YdbCzvwvZq8,6HfXfC5aZR5fZq8Ag50lVI,6IZvVAP7VPPnsGX6bvgkqg,6IwKcFdiRQZOWeYNhUiWIv,6MEDfjHxnVNcYmHe3mM6L2,6MOEQCtAWNSCmvg3SFKF5y,6Nle9hKrkL1wQpwNfEkxjh,6O4zEx1kzm32mXlUIOthSw,6PGoSes0D9eUDeeAafB2As,6Xprc4GuCejWA3BjU5knyw,6dFn6my1sHK2bcf23GlHwM,6ftTwtce4N6DGsywJmeZeQ,6gKAjxAV0LvphJD1F54L9w,6gpcs5eMhJwax4mIfKDYQk,6kotXaSQaGYxE62hVpdHWu,6ktlRjmAIzEk3a56L7brb0,6lTQUF6os6Y400rkjWb30B,6lUY6MoqGgPnA27PHYxem5,6oyNY5mPL68pIBY71wo7vM,6rovOdp3HgK1DeAMYDzoA7,6wNUBZNWFxdUGof6vkaykE,6wNwHBUjsessjRioNVFbaO,6wqt7M2wbw2XWAtCqqAfmA,6xY6NW0mV6IxxP4criYuoM,6xxXrNJnnsQNLdgNk8S4y8,712uvW1Vezq8WpQi38v2L9,715d8L5PwLgywoxlVZhXIT,71EHOyEOhNx1SzTebRRyng,74sb4Gib0cL3TQeCjYF8vh,79x1qL47ZyywV5Va12FIiH,7ABE6G4uQxbNtYgVrpBBPA,7AszVgcyqnhmIzo6TutnCd,7Gsg1mvLRYWWikMxpwlfnf,7IsEXPk6qqt30FfQv4SZMa,7d3cKDG22Ig9kZOS1qsq3S,7dI2aYLZuGZYLcxVOtL3pq,7dzUZec5MnWMyQnk5klnKR,7fBv7CLKzipRk6EC6TWHOB,7hRYauk30VeBFmdeFQPNVx,7l1qvxWjxcKpB9PCtBuTbU,7nnWIPM5hwE3DaUBkvOIpy,7o9uu2GDtVDr9nsR7ZRN73,7q0aQpiLv5tIsupcgQ3Ny4,7rGFf32JWLmbV4c9uYUfRW,7s2orxqJ8qE0aG3Ngvct3C,7tBlvnHLTox3S0yB6nIV2Q,01z2fBGB8Hl3Jd3zXe4IXR,02rdJEj79nn2HCSMmsb8dY,03yOjwHoOPDlTUg0NRxN6t:\n",
      " Max Retries, reason: too many 429 error responses\n"
     ]
    },
    {
     "name": "stderr",
     "output_type": "stream",
     "text": [
      "Max Retries reached\n"
     ]
    },
    {
     "name": "stdout",
     "output_type": "stream",
     "text": [
      "Error fetching audio features: http status: 429, code:-1 - /v1/audio-features/?ids=07CyrZF9eVd02zzIse7tZA,07SnYttUopjIFHnc1hZIMc,09ezgACZuwWZt6CtQSSLRG,0CGbof9amBnsNlRhZ8IY2H,0O84vcg38upuklnJxLFUjD,0RgcOUQg4qYAEt9RIdf3oB,0W4Kpfp1w2xkY3PrV714B7,0WKmVAD4VWk5EdTyCFILi4,0Zp5bVRHO3frZY3BrDMAO3,0hbC2CAJidLslKqJ39Lxh4,0rzWENXdfcLTgyt5DByGTy,0uvvqMjv7xjfWtvnR1v20W,10cpQoubCoINVqfFsoJTJW,11607FzqoipskTsXrwEHnJ,16TnJhZYL0sSY3dyIWgBbE,1746Hs7bQJMMYAZvVYM3ig,17yrCsl1Ai6CZLBmGj6d6p,1AJ5F0FMTC3yFU3ocjy1gE,1Y63rJLx2KbigqvlXXwRNX,1gGhqfs2pDTOI30AEXMXrn,1kDkaFlmkdEZiVUogaP9OZ,1oXq63OUf43LDnNPVtfvX8,1rJi8cf8OWsrX4CqBnMSoQ,1v870eS7JuHSeBNBFsVz3b,20OFwXhEXf12DzwXmaV7fj,25SJaCCPiosugnlY53VhRG,26G5nmIx7Yvq79bIIluyZV,299lFlaAsNQdgbIZNPmIA0,2B4Y9u4ERAFiMo13XPJyGP,2Bs1Lw9LX8hBm70t1iGdlh,2JtL0a3NHcGkFQ7kfDLKUT,2NCBjlH7FHEG7hXcnvUaWA,2a8HLMRc6E0AM4xXiQ4wh6,2buuesSQNcXtvL0XBwGav5,2iObjOsy2vpsariW4Y7hQg,2lD6AoA8qf2t4Dkf2TcmNK,2ozTcQyZQmm9tSmc4VZfwU,2qtoRFCOEL1gRn5q9DJC7F,2ugghimAssmeO3YpFIV7mb,33xkqF4gkppg311UoMGgTQ,34LohAliZ2QKydqVJcFpwV,37y7iDayfwm3WXn5BiAoRk,3CdDBopz2XipdS5ICzhWHN,3NoOwvxhI2yMYknxqnFUVx,3S8hI4RwB6vQ8fgZZihtpv,3YxunxpAExKBEvhuf7wQOK,3bWGaqVeYKMlLss40mPgNn,3kf3t1i8fwaeqg3V25RNjc,3liuLCzIoOhduPXp8kbHHA,3oRIeGa4aULXQpQpEVKqpw,3z2ngCk1Us5E0DtNGczXwJ,4B3gkbr7aGC2sujjgivK0s,4FWAzXcVNVIRVA4UQxhvbd,4HUPkxmqzP1n1MT89ignwP,4MzH62XWSlNMwp8XcnUD2K,4Qs6RBaAkYq42l6dBw513b,4ZLzoOkj0MPWrTLvooIuaa,4gUYV3ktbaOeAK5KrXMWV5,4jXl6VtkFFKIt3ycUQc5LT,4kFfFe38CRVnTsakUTL4E4,4sWuPniHClkInYAnzXAYUF,4uGJVr61OZDzTCN6qB511R,4vNqFvjusqmsKshx2LAeej,51NFxnQvaosfDDutk0tams,5By7Pzgl6TMuVJG168VWzS,5DjSs3Z4fQJ5DgYY2LDRnw,5E3BVY66TEDexFutOO5GeS,5ENPFf3Q9qRXHVv5jSRLxS,5JRMqkR82k2fdDEAim9SCN,5R3Pq4PV6Q1mEKi2sNgkia,5Rs2hLSw7VmgshBOpKlH1g,5SUlhldQJtOhUr2GzH5RI7,5Ss6DqCldgTmIo6BekVOJT,5aDZOMeCa6VuKJSENFsuGx,5hhF25sWnZvXhimOHLjTRE,5ln5yQdUywVbf8HhFsOcd6,5s6QMzY5oeVaOVJJsb59Tj,5yuShbu70mtHXY0yLzCQLQ,63ISXOWS5gmluVZabtaEzF,64bKVrkaXQAKx04dLHqCNz,6BSM7JqYn5wZxl1o3f7oxT,6C6y4OWK1Ki3FVF1TIonxW,6EXOSA4BWBM1AUsXxKwYDT,6KqI8Ua6fi5pNLlIwUfnGe,6eT2fNwiVD04D3R4uP5qOv,6fWa5CRgy0z30OeGZyMBvD,6gNTUALYq5cQXVCwXR7snp,6men4y6a8QuGtE5qkFkOgR,6tIS7Qh8vCKezoeGrtQ7Cx,6tQvjqDIK9GXWIC6mejms8,6zyooAtuu9501vDvV7F8Ga,72PoJMDfdaw9gGECgA9kTZ,73OuJi4qdN7VXKnWVF1Jf0,7Aobt67JnaF7qN8jCCKvHq,7C6hdDIz90Uf5YmdZnYbJJ,7FYkZkF9fog6WS818wJnhl,7I73IokPVdIqFnJYZaqulL,7J3NsRNtQ0N7umdQQAlWNT,7dSgxmEkYk4fN2o41c8W7I,7egTKPYxbWaaV1jEzb1rHu:\n",
      " Max Retries, reason: too many 429 error responses\n"
     ]
    },
    {
     "name": "stderr",
     "output_type": "stream",
     "text": [
      "Max Retries reached\n"
     ]
    },
    {
     "name": "stdout",
     "output_type": "stream",
     "text": [
      "Error fetching audio features: http status: 429, code:-1 - /v1/audio-features/?ids=7lSDCrF11sdTVfjbAQVZE8,7lxOjQyVsHQ8toQeT7IgCc,7y9O8sJmuX7DvmyrR7h3PY,7zNOt8sNIYHD3iZYp6irr7,04QTBqa3IA4ZAKEuqRPzEH,0YMzPd9mYx4txOuCnhYUGU,0i19MAZbyn8uTir7FprXId,0rgGwEybYIQvqHf5qEkFOB,15ifyO8wYntwyXAptfxhKr,25BSBxpCtoDbOpVd7cpqbw,2zQl59dZMzwhrmeSBEgiXY,300DUx4tdtCdGEUXR032jA,31yJDbHPpnl8w4dyo9p6J0,3oDtHLkS4k687WbPCd7EdN,4QhWbupniDd44EDtnh2bFJ,53dkS3h9uTNsWYZTPacnpx,5OuJTtNve7FxUX82eEBupN,5h0yfg2KLqjVOKpCUTkBKo,5h5Q0jl2I0BIVse00uIyBD,68Um44MkkQJqPDOXN5q21c,6OCFXXVmoPFtidXA7ey1SI,6RQ4YlHFJO4Kn5vbRv6htG,6VvKuyW60DkaDuwAHdHkl7,6lFZbCc7pn6Lme1NP7qQqQ,7Hx2EA4wGaxtsiZCVVLV1i,0oufSLnKQDoBFX5mgkDCgR,3LbZIhU0smEU5SUnxod4j4,0fZcmjuFagBlC9vY8eCO3M,7JVfHOV7ylgOUKaHnPMafs,5k8bkDmDEexJkErqBPINPv,22LAwLoDA5b4AaGSkg6bKW,6AyWdCtEn1DdxjnxPeojR2,7d8NzhD3rycPayNCzmb9rK,5O7RVmqK3AYoFfyeafxOqH,5FFowl1Ve4S5OehL6OywSg,15049rGLXHwrWtE4euUb5C,6iMDFMjepxLshlWqW7cKgb,5YB9pnmgrL03yMDXzIFnni,7LwlTiFehCUVQQJKEUzF5Z,3qoASpDMcnnaWxgRzvIeD5,6UGlSlhwl2MNhsrg5Wepq3,3ZWjCefMm9tfTZL5L3rNqN,7Ks4VCY1wFebnOdJrM13t6,6EidGY4S6hkU6fwNdSSabg,2dh4Ff65vPJmRkc4Xw2K4w,62PclpoBFLl50PJpiJA5RT,5YLVhkyMsAuYKOKihHJo21,6U0FIYXCQ3TGrk4tFpLrEA,53KiQ0TcSPDJJDs15pNJmk,5NM8v7DOexgrrxefEnKR2V,2S7ORjggE2JPyamVM7FKio,4MAADpR6MjelkaZqe3Mgnv,4vRaGGiQN6l2LiQxSFg6ZP,3jLHo30ucbkYY9P7v8leKh,1JfuiYsW1T5Qe4bPO4DUYy,02BwlHD6hUNn3kzySLfqMq,02WREPaxGAP4Mtlb4Txykd,301KtHr9nGzK5R5IyNVuBu,0bt7P4sertYry5PQJ6o0ZO,1SWg0LGSxwbD3pyLfW0z5H,0dJhXJKZTpiaxTUc7uItIN,6FG3Th7J72vwIfUqVGSQ9z,2qtJUSJmPz5mkVhFHrtCd7,6HV9d8u4WJ9lzbGrH5OQ6G,0ZRmhs9YjaMmj5QGCw0lDe,5dI4YIBXUmat0Kp6N1SjuV,7bBH4PpmQEzebOWAbYMKJN:\n",
      " Max Retries, reason: too many 429 error responses\n",
      "Fetching tracks from 'Discovered Weekly' by trending.\n",
      "50 / 50 tracks fetched\r"
     ]
    },
    {
     "name": "stderr",
     "output_type": "stream",
     "text": [
      "Max Retries reached\n"
     ]
    },
    {
     "name": "stdout",
     "output_type": "stream",
     "text": [
      "Error fetching audio features: http status: 429, code:-1 - /v1/audio-features/?ids=35seOt4wMvu7gWzYFwqNGh,4TyZccW6doagBnAaWrFzBM,0IbqFOUNyruFsGkbPyL3lp,1m8bKjoKdDrSxIN0E60IpV,7zAYQTPHOdeiDO5UTi33i1,4hOlSIK8uwDyzBZEf1mAKI,6CPpkrDZej1VQ0yAtFanCG,4mr1zYzelixxQ43Chh8Lsi,6G1ytXcX96NOSOT3e46umY,1r7UMjICHu5KDQiKVGfwDe,0TNqMS4GFIjLRLuNA7tAks,4KhgbbLlCca1hhBd7jaIbG,6LynCifRfNPQsWOVG1N7pG,79IGXg8pAvOeoM6mnw6BBM,1iOflR6SCgtVnsZmHBgaYj,5rflyizUdlfFS2ySkCaPOH,7FEiYQ8NLwIsF4V8aABTxP,2vOWEpTd6DEyCmvrArSgUM,6TUL5fwT57df74opWASy0A,1DY33KT0mTFL5XDdYWYT6b,2cNqfatbFpW0XgM12a3tRi,4vyzwwQjpT5iw8Ed0iKd3p,2A2ohpAN5dBco2uWrSTS0K,2N18s0GmeJF33AizV8jMt8,0HoZfQimGQt4Oh0ieDGAWF,0FHyPypxnPPRTyPvbojclf,4q02kz9MGhiFa77zpVBhOQ,1WIdp4FLQnzbCvHkjLzHHv,5uzb8W50Xp6aeMYt2Jri4t,3tvrjhr7EgHPiY9MeV9C5C,65HVkBHYTYSdzg4BlFcoor,6aGSFbFHL5ZATch2frRhU5,57aQqUWaQZzF4V8wtp5eIz,2pF3vRw4wmJKcHkGY9vupd,2h7zt98PpuW5ThVCO58Tla,2aPM3zvnyL3mjwNax3XAAe,62sCKYEWwfCqXM8aP3I6eK,1JlGOW7rPSiFCNx9bTi3tc,6GOT70tT3U5qASQoLBBIbU,5RSdremlBADRnWUE9SAUYs,2sHW3LowO05UGibXb4NwCy,61k7xAKMsuvTf2j2YnieSi,3DNP2SiGIaHtcXE5Z8SRZJ,6VyUj6o95KOQoeZneIwdnD,1W12LM7qOr0n0dc0AvxpdN,2I8CTRKgB772a6qtyhYv21,39P6C3gPRmSbd7ZUmifHuM,22upHibeNQU5TAZ2Jtpc7F:\n",
      " Max Retries, reason: too many 429 error responses\n",
      "Fetching tracks from 'BEST SONGS OF ALL TIME' by Best Songs Of All Time\n",
      "414 / 414 tracks fetched\r"
     ]
    },
    {
     "name": "stderr",
     "output_type": "stream",
     "text": [
      "Max Retries reached\n"
     ]
    },
    {
     "name": "stdout",
     "output_type": "stream",
     "text": [
      "Error fetching audio features: http status: 429, code:-1 - /v1/audio-features/?ids=2374M0fQpWi3dLnB54qaLX,5vdp5UmvTsnMEMESIF2Ym7,2zYzyRzz6pRmhPzyfMEC8s,37BTh5g05cxBIRYMbw8g2T,78FHUZRbFDCG6VkRAQdFLm,6ADSaE87h8Y3lccZlBJdXH,3r6lBKYbdru7e7ky2MiF75,5CMVFeYw1PXtd3QcjKBFVh,4bHsxqR3GMrXTxEPLuK5ue,7w87IxuO7BDcJ3YUqCyMTT,1tQ5TSr1tyeQUbHKBee0jv,2oiMNaVCul7qmMzpRStjCg,3h04eZTnmFLRMjZajbrp2R,5JvsxPAHsGxwNq4xto2HtM,5nNmj1cLH3r4aA4XDJ2bgY,5cBvwieT5RLB9Ro2OOjBoI,22c2pt75xtnDddA5Zlm0yy,62KoBrLtLvNKd10NsYlSrf,0uqPG793dkDDN7sCUJJIVC,48UPSzbZjgc449aqz8bxox,7gxUpscvq72a3LTkCbZ4Df,70cTMpcgWMcR18t9MRJFjB,4eHbdreAnSOrDDsFfc4Fpm,557un1HgwYMuqfWGSTmnxw,2ZnMzVj4DnHn76h8gzZFSV,32NqW4lERGa0uTQLXeXh65,3aQz0z86zrKjd1mcZlonxE,1iANdv3TdTcq3zmgUS56cu,5TgD3Wh5ZUZnUU4tmVvJbx,7AsqUKKbPMxOFNIbRLBxHt,1gmyAiv0bCGZXllbJmiKX4,5WQ1hIc5d2EVbRQ8qsj8Uh,1vxw6aYJls2oq3gW0DujAo,1FXSsftLYjb5wTHVRvexHS,7563lpbP10g7JXJvSt9FGf,0p20xyAdYkaxAPWdXr0sir,4xGuK7FsXuZwHCCuNnPzbD,2UmIV6L2kavGpZnti5YIrL,7309XPC46hWsCPtY4CnvPH,3MjUtNVVq3C8Fn0MP3zhXa,6ZEAXknmx2mrO3KgcDNpFI,7ctRAoCbcpOusbm3w3E6mn,7Enmrf4SD2hKILPAfmXhnd,5S6pYZD8WH3OQapDHTDM9M,5LOaKdW9D2Gl9neAN94NbR,1K3VVOhHLQ9WQGTeYVroYj,2ZSCy3P1QzpJySCWA6NRIU,7AEV1ZiCIMyuMpgjdiJBNG,4TmGtGkkmaoXRCvpOwDJoO,4ue5ET9msGNJSO6sSbrCVE,3T87FfXRA5XentZeHZvTLF,2YKFTExad9zKRTIWOI6DDu,54X78diSLoUDI3joC2bjMz,3mmAvMVcoQJBGqYNaBBflR,14mQJerHYPAIs5DgGj5Iak,2NMgVh5qaPprKTEzFe3501,34TK0rUMtflxLh9DeADAJv,5DdYfxJbcY2lm4Kq42u1KQ,72KjcN2LIEIj2fqegjET5Y,56RaW32XnoNa7PnEIor33y,5QTEEImISE4USGEwqAci8O,2UTzRcqZdCJ8z8pk3tKEby,01iyCAUm8EvOFqVWYJ3dVX,3XVozq1aeqsJwpXrEZrDJ9,382OOwDfeNRwYTChvHtvVU,20efeySIfZoiSaISGLBbNs,2u8MGAiS2hBVE7GZzTZLQI,5PzokmEZGgRlehIbEQkx7X,2X9fsxb6O6bYEopJYmUbNC,24u9uDXSk0KF1axL901RZy,1c7XdAFm7wXlG5DJxLHtqd,0N5x5UmYcbBeHFJtCCqf62,6KHXp9QKpRuBQPLDOiZlsV,1xPSDf8z4dH46gkvlLtvDO,0ZBtXonwjdAbRo2UrD0Efq,5FgtdSf7I5lClThz2ptWvl,6YHDQXIMTpcBHfsUqsvSgx,2IHaGyfxNoFPLJnaEg4GTs,3HnqpxXpizCRADKCU78cLk,6E0dc82Da4W5QWXR8ktoGT,5ztQHTm1YQqcTkQmgDEU4n,6SUT3XVaRwzOlcKANkWALW,2s4BsyV3KhhrtsdtNfzoqb,0fSeUcydFyyPF2YJKfekkC,4pbJqGIASGPr0ZpGpnWkDn,4zQ8eigUjSu9BgNsoM6Nez,05qXhd5dgfDS5mDEf7dbfN,0O45fw2L5vsWpdsOdXwNAR,7MO0UJkGzFVq79Kwv1eV1N,113v1MA9MTShy98uCz37nO,6nek1Nin9q48AVZcWs9e9D,6SjCa7LhEpPNiCxe3bLln4,7LP4Es66zdY7CyjepqmvAg,2hl7XHf3JpNHGQJcb9iMXF,3E7dfMvvCLUddWissuqMwr,7pYfyrMNPn3wtoCyqcTVoI,0n0eMsX7WgEtc7dlscbuKU,7Lf7oSEVdzZqTA0kEDSlS5,61HQWI1Woxup7CnGwVUsdI,6Sy9BUbgFse0n0LPA5lwy5:\n",
      " Max Retries, reason: too many 429 error responses\n"
     ]
    },
    {
     "name": "stderr",
     "output_type": "stream",
     "text": [
      "Max Retries reached\n"
     ]
    },
    {
     "name": "stdout",
     "output_type": "stream",
     "text": [
      "Error fetching audio features: http status: 429, code:-1 - /v1/audio-features/?ids=0qOnSQQF0yzuPWsXrQ9paz,0iyEaciAmtiv8xMkBg97Fy,5XRHGXut00SrJUFmcn2lQF,1NpW5kyvO4XrNJ3rnfcNy3,0wX9tChxOoZ7dMlqLlhSoG,37sINbJZcFdHFAsVNsPq1i,6RT6voCBh00nSyziWPzqAq,2s5YN9O8Qv25BjQobPHWVZ,0nfEkEgwp3Gsf9nAjRujfZ,6fgbQt13JlpN59PytgTMsA,3cOO5IQtOYs7huq4Z6lYfr,3S5vxEuxzLpyWDTar6KBi2,4uOKFydzAejjSFqYbv1XPt,0qDVIqWbipmU0zPiJIFZAo,2Cd9iWfcOpGDHLz6tVA3G4,6dViIgkYIRccNImPln58rS,2iJuuzV8P9Yz0VSurttIV5,45sDIKapDyxPl307QpEAwl,7wMq5n8mYSKlQIGECKUgTX,74Xdx4ezYQQlg8wKswq25T,4flXUmmCKe1GAAvIoptHq7,33CbbuxxNCsE5IkBPwHBD7,24YvUQnuPL8gObCfSnAobH,1P49MJhU5vzttesFxw3dOM,18rF49Lgmn0z3JEEzmgQ9C,2u02eLj96Atd6TBxkH9YvN,0AIfr4oi192dWLRJZrRz1O,4lLtanYk6tkMvooU0tWzG8,5j0McHPthKpOXRr3fBq8M0,1EzrEOXmMH3G43AXT1y7pA,5MeZ3VxmtSv1O8PcekvLTn,2V5Kycr8uGnAA9kHCCnogd,1DqdF42leyFIzqNDv9CjId,2M9ULmQwTaTGmAdXaXpfz5,1QnvpPFP4Q3FHbDchqWiWy,6xG2ZGudUgtV235xvDlSEt,16fzReMJmcLlBccnZCTZNS,5vlEg2fT4cFWAqU5QptIpQ,2hgzdQdnfWwtdpZbhZlV72,0FclbW0XBlhvk6yDndUgJj,1nInOsHbtotAmEOQhtvnzP,4AFBHrMN93QKtyQP5Pmz1t,4zweVv3Wa6XgexhoUOzkYs,1z6WtY7X4HQJvzxC4UgkSf,7s25THrKz86DM225dOYwnr,7HTX5cE4qzHALfgO2xSvMd,0xM88xobymkMgg46MStfnV,7r4btE2wWIYhITHLzCxrGD,7xkQdy0cy5ymoWT7nedvLz,6nYoTBmGFNgfTyRC8x1Fvp,7eW4uoffGn04mLY4ZFYo2U,7Hv89f7Dpm5Hce1XkBbjQZ,5FQazQxWUHsJ8QDaXLdFzR,61dXuN3VyqGOyOeMfJXIPh,5XmRiEwyPantSj35Vx2UcQ,5tXyNhNcsnn7HbcABntOSf,0fJFBbpUxTwjhh1ScBQjeX,5dRQUolXAVX3BbCiIxmSsf,2wVXSc0IrQVodHESUxVUJA,2AR9QbnUhoeuN7MGrsUB1J,0pMUR7Uvp6vxlbG0qBFvgM,7r3KzVwHtr2iMZtqJvFn9A,6eQQLxpKeoNqwT90zSD4Em,74PyndGWYtfs86n60lAsYW,5vCS9CJL8hAm9DZNlt7GJq,1vVgkRRFXKAoBvdQ5e8teG,5lA6mFOvaiienokVbTZEQx,3oTlkzk1OtrhH8wBAduVEi,4OeFQtRyT7vsLnRTv7t8YT,3zByVQLvdXUaDTubfWkpCk,6MdqqkQ8sSC0WB4i8PyRuQ,4t7jXUDB7yiu6I8rTfVJRO,0mUyMawtxj1CJ76kn9gIZK,5fgkjhICZnqFctrV0AyuQD,3u9fHuAtjMY1RW2mZfO4Cf,3XKIUb7HzIF1Vu9usunMzc,2tUBqZG2AbRi7Q0BIrVrEj,04qnrpDktzTsIacxLQ3Yww,1hRFVIy9As8OVRk8B7CrD5,0Z7O8GMQShj9TJrm2yX1R6,79RUMZfMNMpqZnswovvTqv,5V1AHQugSTASVez5ffJtFo,5Oku2oz35kTKVFIydi66nz,7CKbqqrs0AS1si1ZgaQdcj,2SKc07187nGO3rcymjgMqO,63CHa6rmamv9OsehkRD8oz,3wuCCNCnBhJlwkIJTBZFiv,7f0jXNMu2xjQUtmKMuWhGA,5s5t0OFg9lIlBFaCI14K1i,7gozgbG5EBTukCFWToTRA5,71RsWazA6AvQi6AFGbJG7q,5a9BgulCg84pm4kgwGGArI,6e8Ou0wiqAzIpWb2eSxll8,2tyW1uBUnYMKAFEfKDKi9B,3Wyc7M8twhxeyaC51BcQYb,0qEVlGYCsd6W90lRRG6zjz,0YT8MKXuaRdhOnDG9Jm1Dv,19nS0wC19g9VrlHCjlNx0L,2xYlyywNgefLCRDG8hlxZq,26eOTllWPn7oKuDUJnsJwF:\n",
      " Max Retries, reason: too many 429 error responses\n"
     ]
    },
    {
     "name": "stderr",
     "output_type": "stream",
     "text": [
      "Max Retries reached\n"
     ]
    },
    {
     "name": "stdout",
     "output_type": "stream",
     "text": [
      "Error fetching audio features: http status: 429, code:-1 - /v1/audio-features/?ids=2WpCr1ls4bjL54NAcN5DAA,3LTMnFa0hhwisyq6ILahyj,7F8SO3czuE24XV8OesnsP8,0RaEqkxeaUFwNhvcD9pAit,0WqIKmW4BTrj3eJFmnCKMv,2Y1ehNka6JkXAVMBQdYq7Y,6mz1fBdKATx6qP4oP1I65G,54X4KTDuPvRt4DydkREVUC,5NwkWwfRJaT55hEPtCmJHx,6nHqns54LRqDNjeqKDF3v8,7DBI17XgzhLHRoEPLzmhQO,0kish3Tobj6Wq0we74343q,7DD1ojeTUwnW65g5QuZw7X,4uLU6hMCjMI75M1A2tKUQC,4Fqm5rqB0WMx0hPOwgRjFr,1H5VQuShs4qfwBXyHF0PeH,0OEW3r019akMqROCcGvtfD,1LbC38cZ0EfpBgfUpkewMj,3bYCGWnZdLQjndiKogqA3G,3EpasVvEP38azmGklLmDEw,6R9bdvExOZiLrwmBkXsPGr,6UaRii9AH6Zss9xNMEQ2M9,7jley98gCQFueQ5MCaFWIb,27hgsVvT4qBn7FgT6lh7vH,40dJCw4xU6Bd5ie9rfagNo,6btyEL6NwUa97Nex9cZFvo,0ARK753YaiJbpLUk7z5yIM,5lmYpa6EaVAKAlwxMf7q5c,7qiZfU4dY1lWllzX7mPBI3,5cqz21gHUmfNgUY0JNzO3G,0hQuXThOVJPIa2HG4biQac,5J7iGuzi7Nj8SGvt0TAVzK,24kGngQeXHt0uhffKpq0zj,0mYPfHvPzoUZJ2puHRyzyf,6rcEFsFJveahu1I5AZyqzU,7eGNiGg6SE27VkSrpZMVTD,6hDH3YWFdcUNQjubYztIsG,6HxDlpSL3xWlfBFBFCXVf9,3XIEWK1V9n25PS9Vb6axj5,74BmnSR6ECVZdXnl0cPY7a,0dvBxpL7aCjiKMFtsZRsFd,7p9dd71JR2ucoAuO1Sy0VZ,71Miy9pkR59TqUp9yDNdQ1,12etwAqhjJJrZdGrsQ9Wff,7AGK8ekSavI8oatFnacIAd,2lnzGkdtDj5mtlcOW2yRtG,1ySwd43oWXbrytN2BD0Mhb,5VGlqQANWDKJFl0MBG3sg2,71sYZy0jhAnyalpujfxuyk,3qKGvSu1inEZKwYQnMavNA,3Y8WRvVlQHMvtBwaV4TGlJ,28NBmftocOzTPEb6OYA9fW,1gRSeV0OoQqX8dpxPiNsdF,2VqAEP1yY5T523K7bZtL8a,66S14BkJDxgkYxLl5DCqOz,0lqYRbRiGc5oiCUW51JH5s,7kKxR2pLvO23r90XjQuwXb,0RmXtDH1cBMGImRrmn5xL6,6fqLce5TNAmNgbFwXD2DdG,3850dYVgOFIXJh5U4BFEWH,1yrNoXJopuBtsL5Vj62ESi,3u7uu1Ei1ss8EucqxaK3t3,2Foc5Q5nqNiosCNqttzHof,1YwNlWLf8auhazSQUDQLFU,4bSWx86yHmy6OOMsQPU60F,4dzYaReISXJQSL0VQHVGUw,7sMGwiS4vOMcz86ZY3vKYM,2vz1CsL5WBsbpBcwgboTAw,79Dl8iYn0PFQG2wqDxPlQU,2mf0GTV3m1U4bWtp3AEkTP,0ByMNEPAPpOR5H69DVrTNy,5BncQXZqKNmcoy6TRN0IYi,49X0LAl6faAusYq02PRAY6,3R2ezKaNvWEvCYoZ0fkxwN,6A4Jc8npNo79BOgsrPptLA,5iVokrKeCN1Bje8GlgxtQU,6qB7YcFpeBEQa0D6QO482y,58Ky7tqDgk8rgjsUvJbkVb,1peT7rhuRsVvJVSSd0iXXp,0kwENjv9F98MZLPEN3gCQT,2Lhdl74nwwVGOE2Gv35QuK,7qtAgn9mwxygsPOsUDVRRt,5JZpQuRIX8MTiKwuELjTlx,7v02Sn9vYRQ6pc1lqhnkWY,4mPiTSD96K4Dha1irhqpW3,2T3jgoAMbBXiMMD8pSc6QL,5QpaGzWp0hwB5faV8dkbAz,26g8bCaVhcv0KkBi5SlEg7,6jBUP2KCe821yqf1hiBqPR,49kjlZP49LMD1MrrcvXDET,5zJJjbFWPqjIdTg8v2tcMb,7rPzEczIS574IgPaiPieS3,1nQRg9q9uwALGzouOX5OyQ,59dLtGBS26x7kc0rHbaPrq,5rX6C5QVvvZB7XckETNych,6mYrhCAGWzTdF8QnKuchXM,46QazXxQS0B31CnbRCy8CV,1KhoxMMUdkYIKwKbMcOvzK,0ire4j2mcGovF5JA1D2cTp,3ZZq9396zv8pcn5GYVhxUi:\n",
      " Max Retries, reason: too many 429 error responses\n"
     ]
    },
    {
     "name": "stderr",
     "output_type": "stream",
     "text": [
      "Max Retries reached\n"
     ]
    },
    {
     "name": "stdout",
     "output_type": "stream",
     "text": [
      "Error fetching audio features: http status: 429, code:-1 - /v1/audio-features/?ids=0e3yhVeNaTfKIWQRw9U9sY,2vEQ9zBiwbAVXzS2SOxodY,7Fg4jpwpkdkGCvq1rrXnvx,1jUA4rb6ZCv4gby4YU53xq,1fr92Vupmcs2vgLMFVQ7rd,2CvOqDpQIMw69cCzWqr5yr,3Ud6fFep5ZlXzRWw6Sm8no,4kTBakk3h2S678cajDcVTw,3NLrRZoMF0Lx6zTlYqeIo4,3YBZIN3rekqsKxbJc9FZko,1SKPmfSYaPsETbRHaiA18G,60e5PcqGmlVFQ0HHgUagCJ,0yac0FPhLRH9i9lOng3f81,583xVl0Sbj93uU4ceixgU8,2le9fblYnfoLr9dkZIsJUa,31DvHUCSioX0JD7B4kZMJ9,12yGwtB2h9NlzeOKYfVYTF,4S1VYqwfkLit9mKVY3MXoo,50PeqUz1BjMw9ayNTk5O4d,3WMbD1OyfKuwWDWMNbPQ4g,6tXnRSvuNgOq4QcxpIN54r,1qEHgdFqUxFebMPk8s2HLY,7GaFYUqP2WdR4KTPk7cXoP,7INi4pMPG4IE0Smx5y4KVf,1KXrIYY9fvjI0wN4gc4BVN,4dASQiO1Eoo3RJvt74FtXB,18AXbzPzBS8Y3AkgSxzJPb,17Ng10tIgnYmAitl0SgT3R,0WkxGnH4I9PcTPAnYnriI9,7MTdv6v3vsmQcVfh7eIaks,4ECNtOnqzxutZkXP4TE3n3,14blxrgE0VWAgv5aF2wWmx,1LOZMYF5s8qhW7Rv4w2gun,303ccTay2FiDTZ9fZ2AdBt,7BpyfQEmvi0sUmOq29plEE,5mAh5J4w6BEZkajB1M7XrB,5LeGRlEBxdkIaU2hlCCIA2,5mMxriCaSYyZopQDPYkyqT,1dzQoRqT5ucxXVaAhTcT0J,2uNq2hKb4X1S30hBgoywOF,4OSBTYWVwsQhGLF9NHvIbR,6RQtvdmW0fnWv1VOKpgYcq,7safX55XidhznxK5eDdDm5,4ZExvJvQXPEeYzGU0N3THi,0snPJPxkk0MbTc0xeUvAPt,6WFQsZZa81anp9BkqZMyTb,2VN7uPrbryJ7nE2MXX3f9a,3bNv3VuUOKgrf5hu3YcuRo,7ulZJytSQ43kwDjT2AL0LZ:\n",
      " Max Retries, reason: too many 429 error responses\n",
      "Fetching tracks from 'best tracks from the top albums of all time - RYM (RateYourMusic)' by Henrique Oliveira\n",
      "9901 / 9901 tracks fetched\r"
     ]
    },
    {
     "name": "stderr",
     "output_type": "stream",
     "text": [
      "Max Retries reached\n"
     ]
    },
    {
     "name": "stdout",
     "output_type": "stream",
     "text": [
      "Error fetching audio features: http status: 429, code:-1 - /v1/audio-features/?ids=3OsUjkcv1C1v5udFhgRSFg,2nTsKOXIVGDf2iPeVQO2Gm,19yGmm9FjEZdZc5j98WDe4,4Na0siMtWOW9pJoWJ1Ponv,4aOAzvRdOsZSwZIgwcdeL0,0R332cdlS9LyE0Ge2PSlVC,6n7GUf2h8D2Ad2wUy5s7nE,2ctvdKmETyOzPb2GiJJT53,3TO7bbrUKrOSPGRTB5MeCz,2TjdnqlpwOjhijHCwHCP2d,1TKTiKp3zbNgrBH2IwSwIx,05uGBKRCuePsf43Hfm0JwX,1tDWVeCR9oWGX8d5J9rswk,5AiNZnMDCWwujIENPj9PV9,01UstUPbzPgq2MNp6h0tVo,69pwmeyvQMuHMtkCmpEWhQ,4DE6Wkt9fW7R5e9gJGWQim,7xqeIdLJSf3bgmZ7vUvHrE,0COiZ7ncho2yi4HotbzgPv,3fElupNRLRJ0tbUDahPrAb,3PG7BAJG9WkmNOJOlc4uAo,29engDqjmMr3VLqMm0c0WE,5by3w3NXvwDpV9FBSOR35u,6pnwfWyaWjQiHCKTiZLItr,5VWC7v2dC2K0SIIjT9WTLN,6mFkJmJqdDVQ1REhVfGgd1,21j1PsCiTaO8ZW88UZrh3A,67jatXAtqVqAntRWTgLgDy,4z8GgIwK12UE8tZd2E4myL,6aSwXlr2OH7af5AZ7eHUSt,0d2MdbpCO8QhEPeA3qnKqB,7jGQklcqnaDTbbXUwksOd5,35HU86dDkJ18RcITyWTBD2,3gGK41F7JahO3dssrEHa7X,2BVz9fYxUq6BtltWVY2bNl,3M0Pi20ewvmbLEFGQvxrDE,1unh7tJrDhKe7RcK9taMCf,2CQRYn5cTD2B9a1ONjhTN2,4fJtDPJ2NiLfFfZfu8HyYc,6gDRRyg6bSODdwbuUBupoU,2Bjic7K9fTNS8pYuMXq8Va,2ULL3VZf4WwBKO4vjwT7Bg,5VsxBUyw0TRwVC7ja1CIBc,4CuO8TINNqM3D7aUdNQ3zG,5RSQKtG1KNwrzFMEePpjt6,6dsq7Nt5mIFzvm5kIYNORy,4m0Vgr48VFaMYw0Sp1ozJu,5k7VKj1Xwy5DjO4B0PdAOb,4Iyo50UoYhuuYORMLrGDci,51ygW389BW4Dut3B69pSwc,56Z7hbyMrndw1naxb6I5Oi,15ea10YpJIl3mJq75yzqsD,3uxhyRdWVXp7GQvERQl6fA,0pNeVovbiZHkulpGeOx1Gj,2mxByJWOajjiVsLWjNXvDJ,3Z25k4ZF6QENy2d9YatsM5,1jOLTO379yIu9aMnCkpMQl,01SfTM5nfCou5gQL70r6gs,5eZrW59C3UgBhkqNlowEID,5aHHf6jrqDRb1fcBmue2kn,4vLYewWIvqHfKtJDk8c8tq,0aWMVrwxPNYkKmFthzmpRi,5o3DSHw1ORhM3lWxqGRvEf,6dRx7OUXfvosnXG3g9lWGi,17Nowmq4iF2rkbd1rAe1Vt,6dFlPqbcAjpvDKp8voczqX,4OciRObYGzPzlU40U7YRc8,19Ov4l8mtvCT1iEUKks4aM,4iwMhMvcTqukn1n3NVjb2N,0aP5ZTP3o3IvqNvGZ8OUUq,6lnZW2wFfcTABaoRJUgMyx,4oFtLSgHyZPNYDCcANhTnO,7uWVT3UkCAZyANvv0bdyQn,1bxEpNR75Hq3T2oF9AZjt8,4tQcyj5488alHT1ZgFduzn,1WT11QmhZutciEv1NsHt1R,0W35nxtHtFlseSojmygEsf,1jzDzZWeSDBg5fhNc3tczV,0TI8TP4FitVPoEHPTySx48,39eKdJcCdYYRdKEZRfKJDJ,6Kfyg9nl3TWbtrUFEF4yr5,05f8Hg3RSfiPSCBQOtxl3i,5IyL3XOaRPpTgxVjRIAxXU,3YZa4IzxK2UtEKTvdTgsi8,1k5iH4KDKi56MFvlnrALNV,1HfJV18PHF2UQqh4TuySBJ,1mVrFcCEpYcF6ISXGsyRk5,05JqOBN6XW4eFUVQlgR0I3,31pLszBSGG3ToeXcPIgyXF,4eBCTzBsSjYgrLH5clQf2x,0yhwdmbgkKdE1plV8xWdrd,35ljOibZSLEjOEPGrbaJsH,2hDMI3I7WGgHmP4EGAk7la,4BRkPBUxOYffM2QXVlq7aC,5GjPQ0eI7AgmOnADn1EO6Q,00oZhqZIQfL9P5CjOP6JsO,5MtnbY0fACKCYyMAsSPmSf,5kDqGHyvDEvHgMRjQImFNq,49G0Rj1qpt75vdgiOo8QAE,79CfK2gMGf0svanec6LJOj:\n",
      " Max Retries, reason: too many 429 error responses\n"
     ]
    },
    {
     "name": "stderr",
     "output_type": "stream",
     "text": [
      "Max Retries reached\n"
     ]
    },
    {
     "name": "stdout",
     "output_type": "stream",
     "text": [
      "Error fetching audio features: http status: 429, code:-1 - /v1/audio-features/?ids=1yJiE307EBIzOB9kqH1deb,0cs671lxX2eoDzr2KMuo3N,1lFC3sMgOcDrVzNh8zXRnl,1YZDkJOFT8xlAXDi8lneb3,1UGD3lW3tDmgZfAVDh6w7r,3DK6m7It6Pw857FcQftMds,2Im64pIz6m0EJKdUe6eZ8r,16qzGrIMWoxerw2gnW0zuv,2YkQuh1bijWzQJie9KfFQi,7a9CcfKkg5E9JlU0nflL8K,4d0eRQkWI8LrRJfCHmyOVI,2u6PeEPCbQUP656PbSi7AH,3mvA09zRuyVGo7nEPkuStP,6d01Jkzt0zYiQINWJJFCaf,2jvuMDqBK04WvCYYz5qjvG,0gEaeqVRHPzRc7HMXtOKc7,55e99bv2wlgTYtNEYHWtN1,03ZwNF6FTvazNuOXNQf8k8,3M2bD9SMYnJIPdrTKUnBd3,6s1lXoCa6EmIGnr0GrwcJp,5h5tBFnbcVioFXiOixTn6E,4F8rYEoiBjPaRgQXLVtN5a,0UtnpKaReKUg2GquaSxCyD,3qX1dqmDdmMvvfMVfsx4Bh,40wUM3LFZOlUcZfxEIZrYK,1Z2FvDFZSDQ23s4BDqpWqZ,693TK5ayPnvu3T3VJB4SZJ,6l8BhUGXyQWFGWJY5tohDC,4KGMuqdT1XEzzOJDJFXu7T,4x8vLLF0UI953H5Z0p2Rwo,7dZanttu013xDQlAJprAZC,7B265QWYkUeqG2ihVEUZ5D,1vP2JEXRsGrFbwOZ0foOQ5,73HwMEPCCCEqKFYONpOxe9,5hh5gq0u54rTP0iBYgZ2xW,6O3YVHQaeImvCBbJbalB00,2yfKkvgywRAY9xy849piLp,0trHOzAhNpGCsGBEu7dOJo,5DfvrqibQOQLUsN5QKqBJI,2LhhnqrHPWvXYveZVHLKrd,7G3lxTsMfSx4yarMkfgnTC,2PRsh2LNPxoxC9OnErnelg,2W58HMaCbjcUfZnZaeHtcC,2CPturRUlpvirYr7VpkXCV,4fUKE8EULjQdHF4zb0M8FO,2RnPATK99oGOZygnD2GTO6,25yQPHgC35WNnnOUqFhgVR,5JqsRFZYDtIK5Rgeuzd2Jv,0f5N14nB8xi0p3o4BlVvbx,0c2DAekH6ZEnHhf8dM1leK,4n1ZGm3TxYmoYe1YR8cMus,4xOTVtbCPcfxMs2hSt9D6i,0WZZJ0mDKIkLfL0710ssZt,61ARSKFMwoVnIwXAVnfNNh,1kAZE1Wtwg8sd7lCyLUweb,6Hmj7SrLRbreLVfVS7mV1S,0xOeB16JDbBJBJKSdHbElT,0O8Ymlu03OqEX5XU5p8Rw3,4CeeEOM32jQcH3eN9Q2dGj,2mvffzYUJ9Ld9xhsF5DUjU,2RsAajgo0g7bMCHxwH3Sk0,5vHLwhxxlGzmClMcxRRFPr,3vNzDPSTgUr1d812rkaCvU,6GAXCHVUI8qs39OIOmhWBb,1W57Il5jG9CkPMMYiVrrYN,3QkTIg9pFStcRvsC3SA10t,154qGmayKVoKeeqv8Yy0QC,1sQoKlaVMfJq3D1QPmuL83,4QSsqYaz3k7OKorcm0DiEB,5c71knFvQWUqEjCntCphu9,7wKUkoOqebMrKwfzlMrwCd,2OaXmeYBJ0hcTmS3kxjJOx,3x0iCzjgf0v9lnwvAhU9P2,7wfvl1kiZJNvhx6HNTyefX,7Me0vOSlJfaPY7Pc4GeItd,1pimWzwUERYZbAFr5tL0Xl,7p0Pk7IJw1c494Qz5lXopE,4gcfxHL1iRgP0RHCDYMNIo,2o49Twc3qrNMOt8gq9W06L,2mIrfke7vosXAEWfz6ucyo,1Rhm6GwW6nfGFql1gwt7cj,0ZYdUkAQmKHsaKRmq8tWSE,2wanmHGKh4DFoOd04Klvuv,5LO3M8pfuprpwNN1p3tuxW,0j3p1p06deJ7f9xmJ9yG22,5NQYyej46WQkgCbnzGD21W,71LsKf3xISiOlY1mj7FFPP,3X4rKQSuBr72wl90yOdx3J,3KN1A4XVt5lYudW7M6gD9T,1V8HEKtFryuJUSEkVjkxNl,1bY2THKdMAu0YQ2YTfPQTz,5Acb7rT3Mb43EHC4mW2W6J,5sQ6ETCq6U2RZfRAFDepaW,05evePUsIT1cmIURp1hgu6,045sp2JToyTaaKyXkGejPy,4SE81CrzH0qPA8KHqM9Syz,5gz38AxRkD6Ywxd4fr2pLj,5jMuXTa5hECm37P7C0mbIB,0YzMEu5sGNX0JKr9mdBtzd,07eGxuz8bL6QMsRqEe1Adu:\n",
      " Max Retries, reason: too many 429 error responses\n"
     ]
    },
    {
     "name": "stderr",
     "output_type": "stream",
     "text": [
      "Max Retries reached\n"
     ]
    },
    {
     "name": "stdout",
     "output_type": "stream",
     "text": [
      "Error fetching audio features: http status: 429, code:-1 - /v1/audio-features/?ids=55gISxV37mffOW2DbSskT3,5Vaf7zr1ISsISAXnjB2X98,1blbT2vGiqxICPoyxzfVn1,0S9w3jx4cO9rSBcGwB16in,2qOsB3km4n035UsdGTmwN7,0WIbzDVEpmOyBnqqdtqIL9,4ImbE4F46Lhu7lG1Unurvp,4T4AEZ3WxwkfrEYXYfGV44,3hJ6LgENznTFIbGeBDWTE0,4cucslsiEgezV2o900Ykg3,5sogWK5j3QRvDhPtIpuLDQ,4TEdXKd9AKAclNPLLodIgM,3RkIKkpnTpA4kQxXHoHJGj,1z6zJqayfsAiiYtQ3minb7,4lYBuSINhkqFz2cHT4tJ3u,6UB9mShVLbMm0W4e6vud4C,2MuWTIM3b0YEAskbeeFE1i,4TktvZTsMoFukiim1otMtr,2HD5BWFthrNf2uFyEhi53d,2rslQV48gNv3r9pPrQFPW1,40GFPBolcy0yucApV9uxq2,7tJQ4Ekp2vN3NlI3vJJW3v,1NYTj6JEw3IOh4ggiBh82h,37Dl7jQMmt0gUnzTKqnjkN,4jdtLLyEL7wY0TlCdMKhxq,663YE60YdyYlI5lcHG3Noz,3ZuVfQriS93y6ofwbIf7lp,4chUb38ZUuvL1OST3aa063,4sQdW03IQh3tsZeBELdt5G,6DRtSttaJsE8fstgTRll3p,72wtjcPwWVpP4PVcNcl30v,3YTTBONdXJOXMCQP7vvPuY,4W9zZsQKsqikYbKM9vcN5Q,6ckozbGmOusAnLT2LEbERy,4d50VgYqfw1Rd0knRRL3qv,2dXsILW8gzkosqleHAvl0v,7866E49sLyI938dEqxi8a4,4CLRLdxUDPNeO1xCW0U2zC,53aVMHWjpz7gB2wGtAv3lD,267lVml7gJ9xefwgO6E2Ag,54a3lHJAwce1dOKrsDPEHv,4OMu5a8sFpcRCPCcsoEaov,6hu1f1cXSw7OAqhpSQ2zDy,3CctogqiXpI4BTBnDOq03Y,4IqzVeWfWLPQ2deCYYWeXL,4XNfSHQNkkoNsGoc7BYiRR,6QjReBcA4E9BpPOha4Ek6V,6Vcwr9tb3ZLO63F8DL8cqu,3wAX3qn53iQUFE84hpfeen,1nbGN4N63uCQq0pCIs3kIf,3y4Uza6K58JXQ7RYya8ZI5,2O6X9nPVVQSefg3xOQAo5u,6vTtCOimcPs5H1Jr9d0Aep,6pW8YspamPCxUwgvYttTSc,7h14W1uQK7sjpVI1oVTobt,2sW8fmnISifQTRgnRrQTYW,3Ty7OTBNSigGEpeW2PqcsC,4tEaytMs86hIaOSsiGoLcP,6GAemDMWAXa8wZOBkO1gar,4HfxDJ0uLHTLe0fZrx0MbQ,7AgMX97ljLm9BzszyyXEYZ,0301nLjG0ti26rx5ZmfqtP,1udmPvJoBnqitbeYKKc9mc,3JvMig6Sc8XRLqHseNsccM,62oNfnQqObaqARM0DTibAL,2Swpr4UiCfYUl1wbxrduBs,6oNs211OtOGzyZ2fvnMPHS,2gFBh7NnEfSeBoZZDB5d2C,1ZHLEKW4rXRaDJESAX7CR8,7Bo0xLcXWx3pdhqwthqGaz,1u1YU1LE0FWHFOHpR2iXua,2JQ9wMmURQMY5ysth04rHO,04rDQFSYR2zuHJ4bRYxvAa,7DkBaBFwV7lOrnhAVxf2UB,5KxAfjikxdKFMkJqVDhmd7,1XmPGkMS7d0xEBbclF1Z2j,70qxD18uKMa7EqWHT8wLZK,47dPsSo7cEDNkvIOSB4O2k,2IDIxX8L57lsOczvSMQRFd,1nyLujWRDFnsuKkz1Iq387,33HRECrmuelZxOpid6XTNX,1wXJjKJy5Pt38Bu3tUzTUL,4qyJE4D584f7qJCRSy7HOE,76JhicgPtW4zbN72tpnMyA,0oxYB9GoOIDrdzniNdKC44,3MmRfG64qt04Efx9gK9Ec8,2L93TdW2GMue1H2zlkt30F,2SIQrjcn1WxMMBplyZRSd5,5BeT7nwfURe9hldXRhBMKM,14CsqOaDkOkrZ49UJLtuOJ,0wiwCdb8sWzz9ETztz8taE,1PGbA3ZZfFxripgvUNYi6g,1ntxpzIUbSsizvuAy6lTYY,0auKlivXpm76wR63mMJ3pR,5uDpwSGjljhIgDB1ZYdp9c,2AxCeJ6PSsBYiTckM0HLY7,0zQnCy0NCcBmQcsl2PBNE3,18NehrWLUFK7NPH522YQMQ,7l3AN8XtVIdfc0yxmoQ1Xg,30j9ij28SJum1lp740MsHS:\n",
      " Max Retries, reason: too many 429 error responses\n"
     ]
    },
    {
     "ename": "KeyboardInterrupt",
     "evalue": "",
     "output_type": "error",
     "traceback": [
      "\u001b[1;31m---------------------------------------------------------------------------\u001b[0m",
      "\u001b[1;31mKeyboardInterrupt\u001b[0m                         Traceback (most recent call last)",
      "Cell \u001b[1;32mIn[95], line 33\u001b[0m\n\u001b[0;32m     31\u001b[0m \u001b[38;5;28;01mfor\u001b[39;00m j \u001b[38;5;129;01min\u001b[39;00m \u001b[38;5;28mrange\u001b[39m(\u001b[38;5;241m0\u001b[39m, \u001b[38;5;28mlen\u001b[39m(track_ids), \u001b[38;5;241m100\u001b[39m):\n\u001b[0;32m     32\u001b[0m     \u001b[38;5;28;01mtry\u001b[39;00m:\n\u001b[1;32m---> 33\u001b[0m         audio_features_list \u001b[38;5;241m=\u001b[39m \u001b[43msp\u001b[49m\u001b[38;5;241;43m.\u001b[39;49m\u001b[43maudio_features\u001b[49m\u001b[43m(\u001b[49m\u001b[43mtrack_ids\u001b[49m\u001b[43m[\u001b[49m\u001b[43mj\u001b[49m\u001b[43m:\u001b[49m\u001b[43mj\u001b[49m\u001b[38;5;241;43m+\u001b[39;49m\u001b[38;5;241;43m100\u001b[39;49m\u001b[43m]\u001b[49m\u001b[43m)\u001b[49m\n\u001b[0;32m     34\u001b[0m     \u001b[38;5;28;01mexcept\u001b[39;00m \u001b[38;5;167;01mException\u001b[39;00m \u001b[38;5;28;01mas\u001b[39;00m e:\n\u001b[0;32m     35\u001b[0m         \u001b[38;5;28mprint\u001b[39m(\u001b[38;5;124mf\u001b[39m\u001b[38;5;124m\"\u001b[39m\u001b[38;5;124mError fetching audio features: \u001b[39m\u001b[38;5;132;01m{\u001b[39;00me\u001b[38;5;132;01m}\u001b[39;00m\u001b[38;5;124m\"\u001b[39m)\n",
      "File \u001b[1;32mc:\\Users\\Bill\\AppData\\Local\\Programs\\Python\\Python311\\Lib\\site-packages\\spotipy\\client.py:1737\u001b[0m, in \u001b[0;36mSpotify.audio_features\u001b[1;34m(self, tracks)\u001b[0m\n\u001b[0;32m   1735\u001b[0m \u001b[38;5;28;01melse\u001b[39;00m:\n\u001b[0;32m   1736\u001b[0m     tlist \u001b[38;5;241m=\u001b[39m [\u001b[38;5;28mself\u001b[39m\u001b[38;5;241m.\u001b[39m_get_id(\u001b[38;5;124m\"\u001b[39m\u001b[38;5;124mtrack\u001b[39m\u001b[38;5;124m\"\u001b[39m, t) \u001b[38;5;28;01mfor\u001b[39;00m t \u001b[38;5;129;01min\u001b[39;00m tracks]\n\u001b[1;32m-> 1737\u001b[0m     results \u001b[38;5;241m=\u001b[39m \u001b[38;5;28;43mself\u001b[39;49m\u001b[38;5;241;43m.\u001b[39;49m\u001b[43m_get\u001b[49m\u001b[43m(\u001b[49m\u001b[38;5;124;43m\"\u001b[39;49m\u001b[38;5;124;43maudio-features/?ids=\u001b[39;49m\u001b[38;5;124;43m\"\u001b[39;49m\u001b[43m \u001b[49m\u001b[38;5;241;43m+\u001b[39;49m\u001b[43m \u001b[49m\u001b[38;5;124;43m\"\u001b[39;49m\u001b[38;5;124;43m,\u001b[39;49m\u001b[38;5;124;43m\"\u001b[39;49m\u001b[38;5;241;43m.\u001b[39;49m\u001b[43mjoin\u001b[49m\u001b[43m(\u001b[49m\u001b[43mtlist\u001b[49m\u001b[43m)\u001b[49m\u001b[43m)\u001b[49m\n\u001b[0;32m   1738\u001b[0m \u001b[38;5;66;03m# the response has changed, look for the new style first, and if\u001b[39;00m\n\u001b[0;32m   1739\u001b[0m \u001b[38;5;66;03m# its not there, fallback on the old style\u001b[39;00m\n\u001b[0;32m   1740\u001b[0m \u001b[38;5;28;01mif\u001b[39;00m \u001b[38;5;124m\"\u001b[39m\u001b[38;5;124maudio_features\u001b[39m\u001b[38;5;124m\"\u001b[39m \u001b[38;5;129;01min\u001b[39;00m results:\n",
      "File \u001b[1;32mc:\\Users\\Bill\\AppData\\Local\\Programs\\Python\\Python311\\Lib\\site-packages\\spotipy\\client.py:323\u001b[0m, in \u001b[0;36mSpotify._get\u001b[1;34m(self, url, args, payload, **kwargs)\u001b[0m\n\u001b[0;32m    320\u001b[0m \u001b[38;5;28;01mif\u001b[39;00m args:\n\u001b[0;32m    321\u001b[0m     kwargs\u001b[38;5;241m.\u001b[39mupdate(args)\n\u001b[1;32m--> 323\u001b[0m \u001b[38;5;28;01mreturn\u001b[39;00m \u001b[38;5;28;43mself\u001b[39;49m\u001b[38;5;241;43m.\u001b[39;49m\u001b[43m_internal_call\u001b[49m\u001b[43m(\u001b[49m\u001b[38;5;124;43m\"\u001b[39;49m\u001b[38;5;124;43mGET\u001b[39;49m\u001b[38;5;124;43m\"\u001b[39;49m\u001b[43m,\u001b[49m\u001b[43m \u001b[49m\u001b[43murl\u001b[49m\u001b[43m,\u001b[49m\u001b[43m \u001b[49m\u001b[43mpayload\u001b[49m\u001b[43m,\u001b[49m\u001b[43m \u001b[49m\u001b[43mkwargs\u001b[49m\u001b[43m)\u001b[49m\n",
      "File \u001b[1;32mc:\\Users\\Bill\\AppData\\Local\\Programs\\Python\\Python311\\Lib\\site-packages\\spotipy\\client.py:266\u001b[0m, in \u001b[0;36mSpotify._internal_call\u001b[1;34m(self, method, url, payload, params)\u001b[0m\n\u001b[0;32m    262\u001b[0m logger\u001b[38;5;241m.\u001b[39mdebug(\u001b[38;5;124m'\u001b[39m\u001b[38;5;124mSending \u001b[39m\u001b[38;5;132;01m%s\u001b[39;00m\u001b[38;5;124m to \u001b[39m\u001b[38;5;132;01m%s\u001b[39;00m\u001b[38;5;124m with Params: \u001b[39m\u001b[38;5;132;01m%s\u001b[39;00m\u001b[38;5;124m Headers: \u001b[39m\u001b[38;5;132;01m%s\u001b[39;00m\u001b[38;5;124m and Body: \u001b[39m\u001b[38;5;132;01m%r\u001b[39;00m\u001b[38;5;124m \u001b[39m\u001b[38;5;124m'\u001b[39m,\n\u001b[0;32m    263\u001b[0m              method, url, args\u001b[38;5;241m.\u001b[39mget(\u001b[38;5;124m\"\u001b[39m\u001b[38;5;124mparams\u001b[39m\u001b[38;5;124m\"\u001b[39m), headers, args\u001b[38;5;241m.\u001b[39mget(\u001b[38;5;124m'\u001b[39m\u001b[38;5;124mdata\u001b[39m\u001b[38;5;124m'\u001b[39m))\n\u001b[0;32m    265\u001b[0m \u001b[38;5;28;01mtry\u001b[39;00m:\n\u001b[1;32m--> 266\u001b[0m     response \u001b[38;5;241m=\u001b[39m \u001b[38;5;28;43mself\u001b[39;49m\u001b[38;5;241;43m.\u001b[39;49m\u001b[43m_session\u001b[49m\u001b[38;5;241;43m.\u001b[39;49m\u001b[43mrequest\u001b[49m\u001b[43m(\u001b[49m\n\u001b[0;32m    267\u001b[0m \u001b[43m        \u001b[49m\u001b[43mmethod\u001b[49m\u001b[43m,\u001b[49m\u001b[43m \u001b[49m\u001b[43murl\u001b[49m\u001b[43m,\u001b[49m\u001b[43m \u001b[49m\u001b[43mheaders\u001b[49m\u001b[38;5;241;43m=\u001b[39;49m\u001b[43mheaders\u001b[49m\u001b[43m,\u001b[49m\u001b[43m \u001b[49m\u001b[43mproxies\u001b[49m\u001b[38;5;241;43m=\u001b[39;49m\u001b[38;5;28;43mself\u001b[39;49m\u001b[38;5;241;43m.\u001b[39;49m\u001b[43mproxies\u001b[49m\u001b[43m,\u001b[49m\n\u001b[0;32m    268\u001b[0m \u001b[43m        \u001b[49m\u001b[43mtimeout\u001b[49m\u001b[38;5;241;43m=\u001b[39;49m\u001b[38;5;28;43mself\u001b[39;49m\u001b[38;5;241;43m.\u001b[39;49m\u001b[43mrequests_timeout\u001b[49m\u001b[43m,\u001b[49m\u001b[43m \u001b[49m\u001b[38;5;241;43m*\u001b[39;49m\u001b[38;5;241;43m*\u001b[39;49m\u001b[43margs\u001b[49m\n\u001b[0;32m    269\u001b[0m \u001b[43m    \u001b[49m\u001b[43m)\u001b[49m\n\u001b[0;32m    271\u001b[0m     response\u001b[38;5;241m.\u001b[39mraise_for_status()\n\u001b[0;32m    272\u001b[0m     results \u001b[38;5;241m=\u001b[39m response\u001b[38;5;241m.\u001b[39mjson()\n",
      "File \u001b[1;32mc:\\Users\\Bill\\AppData\\Local\\Programs\\Python\\Python311\\Lib\\site-packages\\requests\\sessions.py:589\u001b[0m, in \u001b[0;36mSession.request\u001b[1;34m(self, method, url, params, data, headers, cookies, files, auth, timeout, allow_redirects, proxies, hooks, stream, verify, cert, json)\u001b[0m\n\u001b[0;32m    584\u001b[0m send_kwargs \u001b[38;5;241m=\u001b[39m {\n\u001b[0;32m    585\u001b[0m     \u001b[38;5;124m\"\u001b[39m\u001b[38;5;124mtimeout\u001b[39m\u001b[38;5;124m\"\u001b[39m: timeout,\n\u001b[0;32m    586\u001b[0m     \u001b[38;5;124m\"\u001b[39m\u001b[38;5;124mallow_redirects\u001b[39m\u001b[38;5;124m\"\u001b[39m: allow_redirects,\n\u001b[0;32m    587\u001b[0m }\n\u001b[0;32m    588\u001b[0m send_kwargs\u001b[38;5;241m.\u001b[39mupdate(settings)\n\u001b[1;32m--> 589\u001b[0m resp \u001b[38;5;241m=\u001b[39m \u001b[38;5;28;43mself\u001b[39;49m\u001b[38;5;241;43m.\u001b[39;49m\u001b[43msend\u001b[49m\u001b[43m(\u001b[49m\u001b[43mprep\u001b[49m\u001b[43m,\u001b[49m\u001b[43m \u001b[49m\u001b[38;5;241;43m*\u001b[39;49m\u001b[38;5;241;43m*\u001b[39;49m\u001b[43msend_kwargs\u001b[49m\u001b[43m)\u001b[49m\n\u001b[0;32m    591\u001b[0m \u001b[38;5;28;01mreturn\u001b[39;00m resp\n",
      "File \u001b[1;32mc:\\Users\\Bill\\AppData\\Local\\Programs\\Python\\Python311\\Lib\\site-packages\\requests\\sessions.py:703\u001b[0m, in \u001b[0;36mSession.send\u001b[1;34m(self, request, **kwargs)\u001b[0m\n\u001b[0;32m    700\u001b[0m start \u001b[38;5;241m=\u001b[39m preferred_clock()\n\u001b[0;32m    702\u001b[0m \u001b[38;5;66;03m# Send the request\u001b[39;00m\n\u001b[1;32m--> 703\u001b[0m r \u001b[38;5;241m=\u001b[39m \u001b[43madapter\u001b[49m\u001b[38;5;241;43m.\u001b[39;49m\u001b[43msend\u001b[49m\u001b[43m(\u001b[49m\u001b[43mrequest\u001b[49m\u001b[43m,\u001b[49m\u001b[43m \u001b[49m\u001b[38;5;241;43m*\u001b[39;49m\u001b[38;5;241;43m*\u001b[39;49m\u001b[43mkwargs\u001b[49m\u001b[43m)\u001b[49m\n\u001b[0;32m    705\u001b[0m \u001b[38;5;66;03m# Total elapsed time of the request (approximately)\u001b[39;00m\n\u001b[0;32m    706\u001b[0m elapsed \u001b[38;5;241m=\u001b[39m preferred_clock() \u001b[38;5;241m-\u001b[39m start\n",
      "File \u001b[1;32mc:\\Users\\Bill\\AppData\\Local\\Programs\\Python\\Python311\\Lib\\site-packages\\requests\\adapters.py:486\u001b[0m, in \u001b[0;36mHTTPAdapter.send\u001b[1;34m(self, request, stream, timeout, verify, cert, proxies)\u001b[0m\n\u001b[0;32m    483\u001b[0m     timeout \u001b[38;5;241m=\u001b[39m TimeoutSauce(connect\u001b[38;5;241m=\u001b[39mtimeout, read\u001b[38;5;241m=\u001b[39mtimeout)\n\u001b[0;32m    485\u001b[0m \u001b[38;5;28;01mtry\u001b[39;00m:\n\u001b[1;32m--> 486\u001b[0m     resp \u001b[38;5;241m=\u001b[39m \u001b[43mconn\u001b[49m\u001b[38;5;241;43m.\u001b[39;49m\u001b[43murlopen\u001b[49m\u001b[43m(\u001b[49m\n\u001b[0;32m    487\u001b[0m \u001b[43m        \u001b[49m\u001b[43mmethod\u001b[49m\u001b[38;5;241;43m=\u001b[39;49m\u001b[43mrequest\u001b[49m\u001b[38;5;241;43m.\u001b[39;49m\u001b[43mmethod\u001b[49m\u001b[43m,\u001b[49m\n\u001b[0;32m    488\u001b[0m \u001b[43m        \u001b[49m\u001b[43murl\u001b[49m\u001b[38;5;241;43m=\u001b[39;49m\u001b[43murl\u001b[49m\u001b[43m,\u001b[49m\n\u001b[0;32m    489\u001b[0m \u001b[43m        \u001b[49m\u001b[43mbody\u001b[49m\u001b[38;5;241;43m=\u001b[39;49m\u001b[43mrequest\u001b[49m\u001b[38;5;241;43m.\u001b[39;49m\u001b[43mbody\u001b[49m\u001b[43m,\u001b[49m\n\u001b[0;32m    490\u001b[0m \u001b[43m        \u001b[49m\u001b[43mheaders\u001b[49m\u001b[38;5;241;43m=\u001b[39;49m\u001b[43mrequest\u001b[49m\u001b[38;5;241;43m.\u001b[39;49m\u001b[43mheaders\u001b[49m\u001b[43m,\u001b[49m\n\u001b[0;32m    491\u001b[0m \u001b[43m        \u001b[49m\u001b[43mredirect\u001b[49m\u001b[38;5;241;43m=\u001b[39;49m\u001b[38;5;28;43;01mFalse\u001b[39;49;00m\u001b[43m,\u001b[49m\n\u001b[0;32m    492\u001b[0m \u001b[43m        \u001b[49m\u001b[43massert_same_host\u001b[49m\u001b[38;5;241;43m=\u001b[39;49m\u001b[38;5;28;43;01mFalse\u001b[39;49;00m\u001b[43m,\u001b[49m\n\u001b[0;32m    493\u001b[0m \u001b[43m        \u001b[49m\u001b[43mpreload_content\u001b[49m\u001b[38;5;241;43m=\u001b[39;49m\u001b[38;5;28;43;01mFalse\u001b[39;49;00m\u001b[43m,\u001b[49m\n\u001b[0;32m    494\u001b[0m \u001b[43m        \u001b[49m\u001b[43mdecode_content\u001b[49m\u001b[38;5;241;43m=\u001b[39;49m\u001b[38;5;28;43;01mFalse\u001b[39;49;00m\u001b[43m,\u001b[49m\n\u001b[0;32m    495\u001b[0m \u001b[43m        \u001b[49m\u001b[43mretries\u001b[49m\u001b[38;5;241;43m=\u001b[39;49m\u001b[38;5;28;43mself\u001b[39;49m\u001b[38;5;241;43m.\u001b[39;49m\u001b[43mmax_retries\u001b[49m\u001b[43m,\u001b[49m\n\u001b[0;32m    496\u001b[0m \u001b[43m        \u001b[49m\u001b[43mtimeout\u001b[49m\u001b[38;5;241;43m=\u001b[39;49m\u001b[43mtimeout\u001b[49m\u001b[43m,\u001b[49m\n\u001b[0;32m    497\u001b[0m \u001b[43m        \u001b[49m\u001b[43mchunked\u001b[49m\u001b[38;5;241;43m=\u001b[39;49m\u001b[43mchunked\u001b[49m\u001b[43m,\u001b[49m\n\u001b[0;32m    498\u001b[0m \u001b[43m    \u001b[49m\u001b[43m)\u001b[49m\n\u001b[0;32m    500\u001b[0m \u001b[38;5;28;01mexcept\u001b[39;00m (ProtocolError, \u001b[38;5;167;01mOSError\u001b[39;00m) \u001b[38;5;28;01mas\u001b[39;00m err:\n\u001b[0;32m    501\u001b[0m     \u001b[38;5;28;01mraise\u001b[39;00m \u001b[38;5;167;01mConnectionError\u001b[39;00m(err, request\u001b[38;5;241m=\u001b[39mrequest)\n",
      "File \u001b[1;32mc:\\Users\\Bill\\AppData\\Local\\Programs\\Python\\Python311\\Lib\\site-packages\\urllib3\\connectionpool.py:876\u001b[0m, in \u001b[0;36mHTTPConnectionPool.urlopen\u001b[1;34m(self, method, url, body, headers, retries, redirect, assert_same_host, timeout, pool_timeout, release_conn, chunked, body_pos, **response_kw)\u001b[0m\n\u001b[0;32m    874\u001b[0m     retries\u001b[38;5;241m.\u001b[39msleep(response)\n\u001b[0;32m    875\u001b[0m     log\u001b[38;5;241m.\u001b[39mdebug(\u001b[38;5;124m\"\u001b[39m\u001b[38;5;124mRetry: \u001b[39m\u001b[38;5;132;01m%s\u001b[39;00m\u001b[38;5;124m\"\u001b[39m, url)\n\u001b[1;32m--> 876\u001b[0m     \u001b[38;5;28;01mreturn\u001b[39;00m \u001b[38;5;28;43mself\u001b[39;49m\u001b[38;5;241;43m.\u001b[39;49m\u001b[43murlopen\u001b[49m\u001b[43m(\u001b[49m\n\u001b[0;32m    877\u001b[0m \u001b[43m        \u001b[49m\u001b[43mmethod\u001b[49m\u001b[43m,\u001b[49m\n\u001b[0;32m    878\u001b[0m \u001b[43m        \u001b[49m\u001b[43murl\u001b[49m\u001b[43m,\u001b[49m\n\u001b[0;32m    879\u001b[0m \u001b[43m        \u001b[49m\u001b[43mbody\u001b[49m\u001b[43m,\u001b[49m\n\u001b[0;32m    880\u001b[0m \u001b[43m        \u001b[49m\u001b[43mheaders\u001b[49m\u001b[43m,\u001b[49m\n\u001b[0;32m    881\u001b[0m \u001b[43m        \u001b[49m\u001b[43mretries\u001b[49m\u001b[38;5;241;43m=\u001b[39;49m\u001b[43mretries\u001b[49m\u001b[43m,\u001b[49m\n\u001b[0;32m    882\u001b[0m \u001b[43m        \u001b[49m\u001b[43mredirect\u001b[49m\u001b[38;5;241;43m=\u001b[39;49m\u001b[43mredirect\u001b[49m\u001b[43m,\u001b[49m\n\u001b[0;32m    883\u001b[0m \u001b[43m        \u001b[49m\u001b[43massert_same_host\u001b[49m\u001b[38;5;241;43m=\u001b[39;49m\u001b[43massert_same_host\u001b[49m\u001b[43m,\u001b[49m\n\u001b[0;32m    884\u001b[0m \u001b[43m        \u001b[49m\u001b[43mtimeout\u001b[49m\u001b[38;5;241;43m=\u001b[39;49m\u001b[43mtimeout\u001b[49m\u001b[43m,\u001b[49m\n\u001b[0;32m    885\u001b[0m \u001b[43m        \u001b[49m\u001b[43mpool_timeout\u001b[49m\u001b[38;5;241;43m=\u001b[39;49m\u001b[43mpool_timeout\u001b[49m\u001b[43m,\u001b[49m\n\u001b[0;32m    886\u001b[0m \u001b[43m        \u001b[49m\u001b[43mrelease_conn\u001b[49m\u001b[38;5;241;43m=\u001b[39;49m\u001b[43mrelease_conn\u001b[49m\u001b[43m,\u001b[49m\n\u001b[0;32m    887\u001b[0m \u001b[43m        \u001b[49m\u001b[43mchunked\u001b[49m\u001b[38;5;241;43m=\u001b[39;49m\u001b[43mchunked\u001b[49m\u001b[43m,\u001b[49m\n\u001b[0;32m    888\u001b[0m \u001b[43m        \u001b[49m\u001b[43mbody_pos\u001b[49m\u001b[38;5;241;43m=\u001b[39;49m\u001b[43mbody_pos\u001b[49m\u001b[43m,\u001b[49m\n\u001b[0;32m    889\u001b[0m \u001b[43m        \u001b[49m\u001b[38;5;241;43m*\u001b[39;49m\u001b[38;5;241;43m*\u001b[39;49m\u001b[43mresponse_kw\u001b[49m\n\u001b[0;32m    890\u001b[0m \u001b[43m    \u001b[49m\u001b[43m)\u001b[49m\n\u001b[0;32m    892\u001b[0m \u001b[38;5;28;01mreturn\u001b[39;00m response\n",
      "File \u001b[1;32mc:\\Users\\Bill\\AppData\\Local\\Programs\\Python\\Python311\\Lib\\site-packages\\urllib3\\connectionpool.py:874\u001b[0m, in \u001b[0;36mHTTPConnectionPool.urlopen\u001b[1;34m(self, method, url, body, headers, retries, redirect, assert_same_host, timeout, pool_timeout, release_conn, chunked, body_pos, **response_kw)\u001b[0m\n\u001b[0;32m    871\u001b[0m     \u001b[38;5;28;01mreturn\u001b[39;00m response\n\u001b[0;32m    873\u001b[0m response\u001b[38;5;241m.\u001b[39mdrain_conn()\n\u001b[1;32m--> 874\u001b[0m \u001b[43mretries\u001b[49m\u001b[38;5;241;43m.\u001b[39;49m\u001b[43msleep\u001b[49m\u001b[43m(\u001b[49m\u001b[43mresponse\u001b[49m\u001b[43m)\u001b[49m\n\u001b[0;32m    875\u001b[0m log\u001b[38;5;241m.\u001b[39mdebug(\u001b[38;5;124m\"\u001b[39m\u001b[38;5;124mRetry: \u001b[39m\u001b[38;5;132;01m%s\u001b[39;00m\u001b[38;5;124m\"\u001b[39m, url)\n\u001b[0;32m    876\u001b[0m \u001b[38;5;28;01mreturn\u001b[39;00m \u001b[38;5;28mself\u001b[39m\u001b[38;5;241m.\u001b[39murlopen(\n\u001b[0;32m    877\u001b[0m     method,\n\u001b[0;32m    878\u001b[0m     url,\n\u001b[1;32m   (...)\u001b[0m\n\u001b[0;32m    889\u001b[0m     \u001b[38;5;241m*\u001b[39m\u001b[38;5;241m*\u001b[39mresponse_kw\n\u001b[0;32m    890\u001b[0m )\n",
      "File \u001b[1;32mc:\\Users\\Bill\\AppData\\Local\\Programs\\Python\\Python311\\Lib\\site-packages\\urllib3\\util\\retry.py:432\u001b[0m, in \u001b[0;36mRetry.sleep\u001b[1;34m(self, response)\u001b[0m\n\u001b[0;32m    429\u001b[0m     \u001b[38;5;28;01mif\u001b[39;00m slept:\n\u001b[0;32m    430\u001b[0m         \u001b[38;5;28;01mreturn\u001b[39;00m\n\u001b[1;32m--> 432\u001b[0m \u001b[38;5;28;43mself\u001b[39;49m\u001b[38;5;241;43m.\u001b[39;49m\u001b[43m_sleep_backoff\u001b[49m\u001b[43m(\u001b[49m\u001b[43m)\u001b[49m\n",
      "File \u001b[1;32mc:\\Users\\Bill\\AppData\\Local\\Programs\\Python\\Python311\\Lib\\site-packages\\urllib3\\util\\retry.py:416\u001b[0m, in \u001b[0;36mRetry._sleep_backoff\u001b[1;34m(self)\u001b[0m\n\u001b[0;32m    414\u001b[0m \u001b[38;5;28;01mif\u001b[39;00m backoff \u001b[38;5;241m<\u001b[39m\u001b[38;5;241m=\u001b[39m \u001b[38;5;241m0\u001b[39m:\n\u001b[0;32m    415\u001b[0m     \u001b[38;5;28;01mreturn\u001b[39;00m\n\u001b[1;32m--> 416\u001b[0m \u001b[43mtime\u001b[49m\u001b[38;5;241;43m.\u001b[39;49m\u001b[43msleep\u001b[49m\u001b[43m(\u001b[49m\u001b[43mbackoff\u001b[49m\u001b[43m)\u001b[49m\n",
      "\u001b[1;31mKeyboardInterrupt\u001b[0m: "
     ]
    }
   ],
   "source": [
    "import os\n",
    "import pandas as pd\n",
    "from utils import fetch_all_playlist_tracks\n",
    "from auth import sp\n",
    "\n",
    "# Load rated songs if exists and ensure it has the correct structure\n",
    "if os.path.exists('rated.csv') and os.path.getsize('rated.csv') > 0:\n",
    "    rated_songs = pd.read_csv('rated.csv')\n",
    "    # Ensure 'id' column exists, add it if not\n",
    "    if 'id' not in rated_songs.columns:\n",
    "        rated_songs['id'] = pd.Series(dtype='str')\n",
    "else:\n",
    "    rated_songs = pd.DataFrame(columns=['id'])\n",
    "\n",
    "# Initialize a set to keep track of unique track IDs, handle empty DataFrame case\n",
    "unique_track_ids = set(rated_songs['id'].tolist()) if not rated_songs.empty else set()\n",
    "\n",
    "# Load unrated songs if exists\n",
    "unrated_songs = pd.read_csv('unrated.csv') if os.path.exists('unrated.csv') and os.path.getsize('unrated.csv') > 0 else pd.DataFrame()\n",
    "\n",
    "tracks = []\n",
    "\n",
    "for playlist_id in sources_ids:\n",
    "    playlist_tracks = fetch_all_playlist_tracks(playlist_id)\n",
    "    track_ids = [t['track']['id'] for t in playlist_tracks if t['track'] is not None and 'id' in t['track'] and t['track']['id'] not in unique_track_ids]\n",
    "\n",
    "    # Update the unique_track_ids set\n",
    "    unique_track_ids.update(track_ids)\n",
    "\n",
    "    # Get audio features for each track\n",
    "    for j in range(0, len(track_ids), 100):\n",
    "        try:\n",
    "            audio_features_list = sp.audio_features(track_ids[j:j+100])\n",
    "        except Exception as e:\n",
    "            print(f\"Error fetching audio features: {e}\")\n",
    "            continue\n",
    "        \n",
    "        for track, audio_features in zip(playlist_tracks[j:j+100], audio_features_list):\n",
    "            track = track['track']\n",
    "            if track is None or 'id' not in track or audio_features is None:\n",
    "                continue\n",
    "            \n",
    "            tracks.append({\n",
    "                'id': track['id'],\n",
    "                'name': track['name'],\n",
    "                'artist': track['artists'][0]['name'] if track['artists'] else 'Unknown',\n",
    "                'album': track['album']['name'] if 'album' in track else 'Unknown',\n",
    "                'release_date': track['album']['release_date'] if 'album' in track else 'Unknown',\n",
    "                'duration_ms': track['duration_ms'],\n",
    "                'popularity': track['popularity'],\n",
    "                **{k: v for k, v in audio_features.items() if v is not None}\n",
    "            })\n",
    "\n",
    "print(f\"\\nProcessed {len(tracks)} tracks\")\n",
    "\n",
    "# Convert to DataFrame and save to CSV\n",
    "tracks_df = pd.DataFrame(tracks)\n",
    "tracks_df.to_csv(\"unrated.csv\", index=False)\n"
   ]
  },
  {
   "cell_type": "markdown",
   "metadata": {},
   "source": [
    "## recommend songs\n"
   ]
  },
  {
   "cell_type": "markdown",
   "metadata": {},
   "source": [
    "### using ranges of audio features\n"
   ]
  },
  {
   "cell_type": "code",
   "execution_count": null,
   "metadata": {},
   "outputs": [
    {
     "ename": "ValueError",
     "evalue": "The feature names should match those that were passed during fit.\nFeature names seen at fit time, yet now missing:\n- acousticness\n- artists_00FQb4jTyendYWaN8pK0wa\n- artists_00tVTdpEhQQw1bqdu8RCx2\n- artists_01WDDvvDKa3B0WSiqQKqCb\n- artists_027TpXKGwdXP7iwbjUSpV8\n- ...\n",
     "output_type": "error",
     "traceback": [
      "\u001b[1;31m---------------------------------------------------------------------------\u001b[0m",
      "\u001b[1;31mValueError\u001b[0m                                Traceback (most recent call last)",
      "Cell \u001b[1;32mIn[18], line 19\u001b[0m\n\u001b[0;32m     17\u001b[0m features_dict \u001b[38;5;241m=\u001b[39m \u001b[38;5;28mdict\u001b[39m(\u001b[38;5;28mzip\u001b[39m(feature_values\u001b[38;5;241m.\u001b[39mkeys(), combination))\n\u001b[0;32m     18\u001b[0m features_df \u001b[38;5;241m=\u001b[39m pd\u001b[38;5;241m.\u001b[39mDataFrame([features_dict])\n\u001b[1;32m---> 19\u001b[0m rating_prediction \u001b[38;5;241m=\u001b[39m \u001b[43mrf\u001b[49m\u001b[38;5;241;43m.\u001b[39;49m\u001b[43mpredict\u001b[49m\u001b[43m(\u001b[49m\u001b[43mfeatures_df\u001b[49m\u001b[43m)\u001b[49m[\u001b[38;5;241m0\u001b[39m]\n\u001b[0;32m     21\u001b[0m \u001b[38;5;28;01mif\u001b[39;00m rating_prediction \u001b[38;5;241m>\u001b[39m best_rating:\n\u001b[0;32m     22\u001b[0m     best_rating \u001b[38;5;241m=\u001b[39m rating_prediction\n",
      "File \u001b[1;32mc:\\Users\\Bill\\AppData\\Local\\Programs\\Python\\Python311\\Lib\\site-packages\\sklearn\\ensemble\\_forest.py:984\u001b[0m, in \u001b[0;36mForestRegressor.predict\u001b[1;34m(self, X)\u001b[0m\n\u001b[0;32m    982\u001b[0m check_is_fitted(\u001b[38;5;28mself\u001b[39m)\n\u001b[0;32m    983\u001b[0m \u001b[38;5;66;03m# Check data\u001b[39;00m\n\u001b[1;32m--> 984\u001b[0m X \u001b[38;5;241m=\u001b[39m \u001b[38;5;28;43mself\u001b[39;49m\u001b[38;5;241;43m.\u001b[39;49m\u001b[43m_validate_X_predict\u001b[49m\u001b[43m(\u001b[49m\u001b[43mX\u001b[49m\u001b[43m)\u001b[49m\n\u001b[0;32m    986\u001b[0m \u001b[38;5;66;03m# Assign chunk of trees to jobs\u001b[39;00m\n\u001b[0;32m    987\u001b[0m n_jobs, _, _ \u001b[38;5;241m=\u001b[39m _partition_estimators(\u001b[38;5;28mself\u001b[39m\u001b[38;5;241m.\u001b[39mn_estimators, \u001b[38;5;28mself\u001b[39m\u001b[38;5;241m.\u001b[39mn_jobs)\n",
      "File \u001b[1;32mc:\\Users\\Bill\\AppData\\Local\\Programs\\Python\\Python311\\Lib\\site-packages\\sklearn\\ensemble\\_forest.py:599\u001b[0m, in \u001b[0;36mBaseForest._validate_X_predict\u001b[1;34m(self, X)\u001b[0m\n\u001b[0;32m    596\u001b[0m \u001b[38;5;250m\u001b[39m\u001b[38;5;124;03m\"\"\"\u001b[39;00m\n\u001b[0;32m    597\u001b[0m \u001b[38;5;124;03mValidate X whenever one tries to predict, apply, predict_proba.\"\"\"\u001b[39;00m\n\u001b[0;32m    598\u001b[0m check_is_fitted(\u001b[38;5;28mself\u001b[39m)\n\u001b[1;32m--> 599\u001b[0m X \u001b[38;5;241m=\u001b[39m \u001b[38;5;28;43mself\u001b[39;49m\u001b[38;5;241;43m.\u001b[39;49m\u001b[43m_validate_data\u001b[49m\u001b[43m(\u001b[49m\u001b[43mX\u001b[49m\u001b[43m,\u001b[49m\u001b[43m \u001b[49m\u001b[43mdtype\u001b[49m\u001b[38;5;241;43m=\u001b[39;49m\u001b[43mDTYPE\u001b[49m\u001b[43m,\u001b[49m\u001b[43m \u001b[49m\u001b[43maccept_sparse\u001b[49m\u001b[38;5;241;43m=\u001b[39;49m\u001b[38;5;124;43m\"\u001b[39;49m\u001b[38;5;124;43mcsr\u001b[39;49m\u001b[38;5;124;43m\"\u001b[39;49m\u001b[43m,\u001b[49m\u001b[43m \u001b[49m\u001b[43mreset\u001b[49m\u001b[38;5;241;43m=\u001b[39;49m\u001b[38;5;28;43;01mFalse\u001b[39;49;00m\u001b[43m)\u001b[49m\n\u001b[0;32m    600\u001b[0m \u001b[38;5;28;01mif\u001b[39;00m issparse(X) \u001b[38;5;129;01mand\u001b[39;00m (X\u001b[38;5;241m.\u001b[39mindices\u001b[38;5;241m.\u001b[39mdtype \u001b[38;5;241m!=\u001b[39m np\u001b[38;5;241m.\u001b[39mintc \u001b[38;5;129;01mor\u001b[39;00m X\u001b[38;5;241m.\u001b[39mindptr\u001b[38;5;241m.\u001b[39mdtype \u001b[38;5;241m!=\u001b[39m np\u001b[38;5;241m.\u001b[39mintc):\n\u001b[0;32m    601\u001b[0m     \u001b[38;5;28;01mraise\u001b[39;00m \u001b[38;5;167;01mValueError\u001b[39;00m(\u001b[38;5;124m\"\u001b[39m\u001b[38;5;124mNo support for np.int64 index based sparse matrices\u001b[39m\u001b[38;5;124m\"\u001b[39m)\n",
      "File \u001b[1;32mc:\\Users\\Bill\\AppData\\Local\\Programs\\Python\\Python311\\Lib\\site-packages\\sklearn\\base.py:579\u001b[0m, in \u001b[0;36mBaseEstimator._validate_data\u001b[1;34m(self, X, y, reset, validate_separately, cast_to_ndarray, **check_params)\u001b[0m\n\u001b[0;32m    508\u001b[0m \u001b[38;5;28;01mdef\u001b[39;00m \u001b[38;5;21m_validate_data\u001b[39m(\n\u001b[0;32m    509\u001b[0m     \u001b[38;5;28mself\u001b[39m,\n\u001b[0;32m    510\u001b[0m     X\u001b[38;5;241m=\u001b[39m\u001b[38;5;124m\"\u001b[39m\u001b[38;5;124mno_validation\u001b[39m\u001b[38;5;124m\"\u001b[39m,\n\u001b[1;32m   (...)\u001b[0m\n\u001b[0;32m    515\u001b[0m     \u001b[38;5;241m*\u001b[39m\u001b[38;5;241m*\u001b[39mcheck_params,\n\u001b[0;32m    516\u001b[0m ):\n\u001b[0;32m    517\u001b[0m \u001b[38;5;250m    \u001b[39m\u001b[38;5;124;03m\"\"\"Validate input data and set or check the `n_features_in_` attribute.\u001b[39;00m\n\u001b[0;32m    518\u001b[0m \n\u001b[0;32m    519\u001b[0m \u001b[38;5;124;03m    Parameters\u001b[39;00m\n\u001b[1;32m   (...)\u001b[0m\n\u001b[0;32m    577\u001b[0m \u001b[38;5;124;03m        validated.\u001b[39;00m\n\u001b[0;32m    578\u001b[0m \u001b[38;5;124;03m    \"\"\"\u001b[39;00m\n\u001b[1;32m--> 579\u001b[0m     \u001b[38;5;28;43mself\u001b[39;49m\u001b[38;5;241;43m.\u001b[39;49m\u001b[43m_check_feature_names\u001b[49m\u001b[43m(\u001b[49m\u001b[43mX\u001b[49m\u001b[43m,\u001b[49m\u001b[43m \u001b[49m\u001b[43mreset\u001b[49m\u001b[38;5;241;43m=\u001b[39;49m\u001b[43mreset\u001b[49m\u001b[43m)\u001b[49m\n\u001b[0;32m    581\u001b[0m     \u001b[38;5;28;01mif\u001b[39;00m y \u001b[38;5;129;01mis\u001b[39;00m \u001b[38;5;28;01mNone\u001b[39;00m \u001b[38;5;129;01mand\u001b[39;00m \u001b[38;5;28mself\u001b[39m\u001b[38;5;241m.\u001b[39m_get_tags()[\u001b[38;5;124m\"\u001b[39m\u001b[38;5;124mrequires_y\u001b[39m\u001b[38;5;124m\"\u001b[39m]:\n\u001b[0;32m    582\u001b[0m         \u001b[38;5;28;01mraise\u001b[39;00m \u001b[38;5;167;01mValueError\u001b[39;00m(\n\u001b[0;32m    583\u001b[0m             \u001b[38;5;124mf\u001b[39m\u001b[38;5;124m\"\u001b[39m\u001b[38;5;124mThis \u001b[39m\u001b[38;5;132;01m{\u001b[39;00m\u001b[38;5;28mself\u001b[39m\u001b[38;5;241m.\u001b[39m\u001b[38;5;18m__class__\u001b[39m\u001b[38;5;241m.\u001b[39m\u001b[38;5;18m__name__\u001b[39m\u001b[38;5;132;01m}\u001b[39;00m\u001b[38;5;124m estimator \u001b[39m\u001b[38;5;124m\"\u001b[39m\n\u001b[0;32m    584\u001b[0m             \u001b[38;5;124m\"\u001b[39m\u001b[38;5;124mrequires y to be passed, but the target y is None.\u001b[39m\u001b[38;5;124m\"\u001b[39m\n\u001b[0;32m    585\u001b[0m         )\n",
      "File \u001b[1;32mc:\\Users\\Bill\\AppData\\Local\\Programs\\Python\\Python311\\Lib\\site-packages\\sklearn\\base.py:506\u001b[0m, in \u001b[0;36mBaseEstimator._check_feature_names\u001b[1;34m(self, X, reset)\u001b[0m\n\u001b[0;32m    501\u001b[0m \u001b[38;5;28;01mif\u001b[39;00m \u001b[38;5;129;01mnot\u001b[39;00m missing_names \u001b[38;5;129;01mand\u001b[39;00m \u001b[38;5;129;01mnot\u001b[39;00m unexpected_names:\n\u001b[0;32m    502\u001b[0m     message \u001b[38;5;241m+\u001b[39m\u001b[38;5;241m=\u001b[39m (\n\u001b[0;32m    503\u001b[0m         \u001b[38;5;124m\"\u001b[39m\u001b[38;5;124mFeature names must be in the same order as they were in fit.\u001b[39m\u001b[38;5;130;01m\\n\u001b[39;00m\u001b[38;5;124m\"\u001b[39m\n\u001b[0;32m    504\u001b[0m     )\n\u001b[1;32m--> 506\u001b[0m \u001b[38;5;28;01mraise\u001b[39;00m \u001b[38;5;167;01mValueError\u001b[39;00m(message)\n",
      "\u001b[1;31mValueError\u001b[0m: The feature names should match those that were passed during fit.\nFeature names seen at fit time, yet now missing:\n- acousticness\n- artists_00FQb4jTyendYWaN8pK0wa\n- artists_00tVTdpEhQQw1bqdu8RCx2\n- artists_01WDDvvDKa3B0WSiqQKqCb\n- artists_027TpXKGwdXP7iwbjUSpV8\n- ...\n"
     ]
    }
   ],
   "source": [
    "import numpy as np\n",
    "\n",
    "# Define a range of values for each feature\n",
    "feature_values = {\n",
    "    'danceability': np.arange(0.0, 1.1, 0.1),\n",
    "    'energy': np.arange(0.0, 1.1, 0.1),\n",
    "    'valence': np.arange(0.0, 1.1, 0.1),\n",
    "}\n",
    "\n",
    "# Predict ratings for each combination of feature values\n",
    "from itertools import product\n",
    "\n",
    "best_rating = -np.inf\n",
    "best_combination = {}\n",
    "\n",
    "for combination in product(*feature_values.values()):\n",
    "    features_dict = dict(zip(feature_values.keys(), combination))\n",
    "    features_df = pd.DataFrame([features_dict])\n",
    "    rating_prediction = rf.predict(features_df)[0]\n",
    "    \n",
    "    if rating_prediction > best_rating:\n",
    "        best_rating = rating_prediction\n",
    "        best_combination = features_dict\n",
    "\n",
    "print(f\"Best combination for high rating: {best_combination}\")\n"
   ]
  },
  {
   "cell_type": "markdown",
   "metadata": {},
   "source": [
    "### using list of unrated songs\n"
   ]
  },
  {
   "cell_type": "code",
   "execution_count": null,
   "metadata": {},
   "outputs": [
    {
     "data": {
      "text/html": [
       "<div>\n",
       "<style scoped>\n",
       "    .dataframe tbody tr th:only-of-type {\n",
       "        vertical-align: middle;\n",
       "    }\n",
       "\n",
       "    .dataframe tbody tr th {\n",
       "        vertical-align: top;\n",
       "    }\n",
       "\n",
       "    .dataframe thead th {\n",
       "        text-align: right;\n",
       "    }\n",
       "</style>\n",
       "<table border=\"1\" class=\"dataframe\">\n",
       "  <thead>\n",
       "    <tr style=\"text-align: right;\">\n",
       "      <th></th>\n",
       "      <th>name</th>\n",
       "      <th>artist</th>\n",
       "      <th>album</th>\n",
       "      <th>spotify_link</th>\n",
       "      <th>predicted_rating</th>\n",
       "    </tr>\n",
       "  </thead>\n",
       "  <tbody>\n",
       "    <tr>\n",
       "      <th>0</th>\n",
       "      <td>The Slider</td>\n",
       "      <td>T. Rex</td>\n",
       "      <td>The Slider</td>\n",
       "      <td>https://open.spotify.com/track/5ru4nchmouOKZ7Xno55pzO</td>\n",
       "      <td>4.387466</td>\n",
       "    </tr>\n",
       "    <tr>\n",
       "      <th>1</th>\n",
       "      <td>Pleasant Street</td>\n",
       "      <td>Tim Buckley</td>\n",
       "      <td>Goodbye And Hello</td>\n",
       "      <td>https://open.spotify.com/track/3M8FzayQWtkvOhqMn2V4T2</td>\n",
       "      <td>4.368937</td>\n",
       "    </tr>\n",
       "    <tr>\n",
       "      <th>2</th>\n",
       "      <td>Born To Be Wild</td>\n",
       "      <td>Steppenwolf</td>\n",
       "      <td>Steppenwolf</td>\n",
       "      <td>https://open.spotify.com/track/70C4NyhjD5OZUMzvWZ3njJ</td>\n",
       "      <td>4.361823</td>\n",
       "    </tr>\n",
       "    <tr>\n",
       "      <th>3</th>\n",
       "      <td>I'm In It</td>\n",
       "      <td>Kanye West</td>\n",
       "      <td>Yeezus</td>\n",
       "      <td>https://open.spotify.com/track/4jQqM4NI79HEcWHUJb8Hvf</td>\n",
       "      <td>4.361184</td>\n",
       "    </tr>\n",
       "    <tr>\n",
       "      <th>4</th>\n",
       "      <td>Going In Circles</td>\n",
       "      <td>Isaac Hayes</td>\n",
       "      <td>Black Moses</td>\n",
       "      <td>https://open.spotify.com/track/6ReZJe3uY6iRIoXHrDNI6R</td>\n",
       "      <td>4.357539</td>\n",
       "    </tr>\n",
       "    <tr>\n",
       "      <th>5</th>\n",
       "      <td>Chaje Shukarije</td>\n",
       "      <td>Esma Redzepova</td>\n",
       "      <td>Cocek</td>\n",
       "      <td>https://open.spotify.com/track/6pvh22AFbfoTAYsr1B0TRj</td>\n",
       "      <td>4.349439</td>\n",
       "    </tr>\n",
       "    <tr>\n",
       "      <th>6</th>\n",
       "      <td>Ain't Your Mama</td>\n",
       "      <td>Jennifer Lopez</td>\n",
       "      <td>Ain't Your Mama</td>\n",
       "      <td>https://open.spotify.com/track/3zByVQLvdXUaDTubfWkpCk</td>\n",
       "      <td>4.346876</td>\n",
       "    </tr>\n",
       "    <tr>\n",
       "      <th>7</th>\n",
       "      <td>Dirty Harry</td>\n",
       "      <td>Gorillaz</td>\n",
       "      <td>Demon Days</td>\n",
       "      <td>https://open.spotify.com/track/407ltk0BtcZI8kgu0HH4Yj</td>\n",
       "      <td>4.345308</td>\n",
       "    </tr>\n",
       "    <tr>\n",
       "      <th>8</th>\n",
       "      <td>Preta Pretinha</td>\n",
       "      <td>Novos Baianos</td>\n",
       "      <td>Acabou Chorare</td>\n",
       "      <td>https://open.spotify.com/track/4hKRXevAWov7un10qVpWuy</td>\n",
       "      <td>4.345032</td>\n",
       "    </tr>\n",
       "    <tr>\n",
       "      <th>9</th>\n",
       "      <td>Queen Elvis</td>\n",
       "      <td>Robyn Hitchcock</td>\n",
       "      <td>Eye</td>\n",
       "      <td>https://open.spotify.com/track/1ZkYlfoM8PxQsTaCr14yRA</td>\n",
       "      <td>4.342069</td>\n",
       "    </tr>\n",
       "  </tbody>\n",
       "</table>\n",
       "</div>"
      ],
      "text/plain": [
       "               name           artist              album  \\\n",
       "0        The Slider           T. Rex         The Slider   \n",
       "1   Pleasant Street      Tim Buckley  Goodbye And Hello   \n",
       "2   Born To Be Wild      Steppenwolf        Steppenwolf   \n",
       "3         I'm In It       Kanye West             Yeezus   \n",
       "4  Going In Circles      Isaac Hayes        Black Moses   \n",
       "5   Chaje Shukarije   Esma Redzepova              Cocek   \n",
       "6   Ain't Your Mama   Jennifer Lopez    Ain't Your Mama   \n",
       "7       Dirty Harry         Gorillaz         Demon Days   \n",
       "8    Preta Pretinha    Novos Baianos     Acabou Chorare   \n",
       "9       Queen Elvis  Robyn Hitchcock                Eye   \n",
       "\n",
       "                                            spotify_link  predicted_rating  \n",
       "0  https://open.spotify.com/track/5ru4nchmouOKZ7Xno55pzO          4.387466  \n",
       "1  https://open.spotify.com/track/3M8FzayQWtkvOhqMn2V4T2          4.368937  \n",
       "2  https://open.spotify.com/track/70C4NyhjD5OZUMzvWZ3njJ          4.361823  \n",
       "3  https://open.spotify.com/track/4jQqM4NI79HEcWHUJb8Hvf          4.361184  \n",
       "4  https://open.spotify.com/track/6ReZJe3uY6iRIoXHrDNI6R          4.357539  \n",
       "5  https://open.spotify.com/track/6pvh22AFbfoTAYsr1B0TRj          4.349439  \n",
       "6  https://open.spotify.com/track/3zByVQLvdXUaDTubfWkpCk          4.346876  \n",
       "7  https://open.spotify.com/track/407ltk0BtcZI8kgu0HH4Yj          4.345308  \n",
       "8  https://open.spotify.com/track/4hKRXevAWov7un10qVpWuy          4.345032  \n",
       "9  https://open.spotify.com/track/1ZkYlfoM8PxQsTaCr14yRA          4.342069  "
      ]
     },
     "execution_count": 96,
     "metadata": {},
     "output_type": "execute_result"
    }
   ],
   "source": [
    "import pandas as pd\n",
    "\n",
    "# Set display options\n",
    "pd.set_option('display.max_columns', None)  # or 1000\n",
    "pd.set_option('display.max_rows', None)  # or 1000\n",
    "pd.set_option('display.max_colwidth', 199)  # or 199\n",
    "\n",
    "# Load data of unrated songs\n",
    "unrated_songs = pd.read_csv('unrated.csv')\n",
    "\n",
    "# Keep a copy of song names, artist, album, and id\n",
    "song_data = unrated_songs[[\"name\", \"artist\", \"album\", \"id\"]]\n",
    "\n",
    "# Preprocess data\n",
    "unrated_songs = unrated_songs.dropna()  # Drop rows with missing values\n",
    "unrated_songs = pd.get_dummies(unrated_songs.drop([\"name\", \"artist\", \"album\", \"id\"], axis=1))  # One-hot encode categorical data excluding song data\n",
    "\n",
    "# Make sure the unrated songs data has the same columns as the training data\n",
    "missing_cols = set(X_train.columns) - set(unrated_songs.columns)\n",
    "missing_df = pd.DataFrame(0, index=unrated_songs.index, columns=list(missing_cols))\n",
    "unrated_songs = pd.concat([unrated_songs, missing_df], axis=1)\n",
    "unrated_songs = unrated_songs[X_train.columns]\n",
    "\n",
    "# Predict ratings of unrated songs\n",
    "predicted_ratings = rf.predict(unrated_songs)\n",
    "\n",
    "# Add predicted ratings and song data to unrated songs data\n",
    "unrated_songs['predicted_rating'] = predicted_ratings\n",
    "unrated_songs = pd.concat([unrated_songs, song_data], axis=1)\n",
    "\n",
    "# Create Spotify link using the song's ID\n",
    "unrated_songs['spotify_link'] = 'https://open.spotify.com/track/' + unrated_songs['id']\n",
    "\n",
    "# Recommend the top 10 songs with the highest predicted ratings\n",
    "recommended_songs = unrated_songs.nlargest(10, 'predicted_rating')\n",
    "\n",
    "# Reset index and print recommended songs\n",
    "recommended_songs = recommended_songs.reset_index(drop=True)\n",
    "\n",
    "# Display the table\n",
    "recommended_songs[[\"name\", \"artist\", \"album\", \"spotify_link\", \"predicted_rating\"]]"
   ]
  },
  {
   "cell_type": "code",
   "execution_count": null,
   "metadata": {},
   "outputs": [
    {
     "data": {
      "image/png": "[encoded data removed]",
      "text/plain": [
       "<Figure size 1000x600 with 1 Axes>"
      ]
     },
     "metadata": {},
     "output_type": "display_data"
    }
   ],
   "source": [
    "# Load data of unrated songs\n",
    "unrated_songs = pd.read_csv('unrated.csv')\n",
    "\n",
    "# Keep a copy of song names, artist, album, and id\n",
    "song_data = unrated_songs[[\"name\", \"artist\", \"album\", \"id\"]]\n",
    "\n",
    "# Preprocess data\n",
    "unrated_songs = unrated_songs.dropna()  # Drop rows with missing values\n",
    "unrated_songs = pd.get_dummies(unrated_songs.drop([\"name\", \"artist\", \"album\", \"id\"], axis=1))  # One-hot encode categorical data excluding song data\n",
    "\n",
    "# Make sure the unrated songs data has the same columns as the training data\n",
    "missing_cols = set(X_train.columns) - set(unrated_songs.columns)\n",
    "missing_df = pd.DataFrame(0, index=unrated_songs.index, columns=list(missing_cols))\n",
    "unrated_songs = pd.concat([unrated_songs, missing_df], axis=1)\n",
    "unrated_songs = unrated_songs[X_train.columns]\n",
    "\n",
    "# Predict ratings of unrated songs\n",
    "predicted_ratings = rf.predict(unrated_songs)\n",
    "\n",
    "# Add predicted ratings and song data to unrated songs data\n",
    "unrated_songs['predicted_rating'] = predicted_ratings\n",
    "unrated_songs = pd.concat([unrated_songs, song_data], axis=1)\n",
    "\n",
    "# Plot a graph of the predicted ratings\n",
    "plt.figure(figsize=(10, 6))\n",
    "plt.hist(unrated_songs['predicted_rating'], bins=30, color='skyblue', edgecolor='black')\n",
    "plt.title('Predicted Ratings of Unrated Songs')\n",
    "plt.xlabel('Predicted Rating')\n",
    "plt.ylabel('Frequency')\n",
    "plt.grid(True)\n",
    "plt.show()"
   ]
  }
 ],
 "metadata": {
  "kernelspec": {
   "display_name": "Python 3",
   "language": "python",
   "name": "python3"
  },
  "language_info": {
   "codemirror_mode": {
    "name": "ipython",
    "version": 3
   },
   "file_extension": ".py",
   "mimetype": "text/x-python",
   "name": "python",
   "nbconvert_exporter": "python",
   "pygments_lexer": "ipython3",
   "version": "3.11.3"
  }
 },
 "nbformat": 4,
 "nbformat_minor": 2
}
